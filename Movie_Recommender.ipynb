{
 "cells": [
  {
   "cell_type": "code",
   "execution_count": 1,
   "id": "8e830544-e5f4-4ae6-917c-8e238dff7918",
   "metadata": {},
   "outputs": [],
   "source": [
    "import numpy as np\n",
    "import pandas as pd"
   ]
  },
  {
   "cell_type": "code",
   "execution_count": 2,
   "id": "76eba613-0b9e-4a98-8f8b-a32f4b6e2ed4",
   "metadata": {},
   "outputs": [],
   "source": [
    "movies= pd.read_csv('tmdb_5000_movies.csv')\n",
    "credits= pd.read_csv('tmdb_5000_credits.csv')"
   ]
  },
  {
   "cell_type": "code",
   "execution_count": 3,
   "id": "3326d028-4f0f-460b-becd-bfca83d21d77",
   "metadata": {},
   "outputs": [
    {
     "data": {
      "text/html": [
       "<div>\n",
       "<style scoped>\n",
       "    .dataframe tbody tr th:only-of-type {\n",
       "        vertical-align: middle;\n",
       "    }\n",
       "\n",
       "    .dataframe tbody tr th {\n",
       "        vertical-align: top;\n",
       "    }\n",
       "\n",
       "    .dataframe thead th {\n",
       "        text-align: right;\n",
       "    }\n",
       "</style>\n",
       "<table border=\"1\" class=\"dataframe\">\n",
       "  <thead>\n",
       "    <tr style=\"text-align: right;\">\n",
       "      <th></th>\n",
       "      <th>budget</th>\n",
       "      <th>genres</th>\n",
       "      <th>homepage</th>\n",
       "      <th>id</th>\n",
       "      <th>keywords</th>\n",
       "      <th>original_language</th>\n",
       "      <th>original_title</th>\n",
       "      <th>overview</th>\n",
       "      <th>popularity</th>\n",
       "      <th>production_companies</th>\n",
       "      <th>production_countries</th>\n",
       "      <th>release_date</th>\n",
       "      <th>revenue</th>\n",
       "      <th>runtime</th>\n",
       "      <th>spoken_languages</th>\n",
       "      <th>status</th>\n",
       "      <th>tagline</th>\n",
       "      <th>title</th>\n",
       "      <th>vote_average</th>\n",
       "      <th>vote_count</th>\n",
       "    </tr>\n",
       "  </thead>\n",
       "  <tbody>\n",
       "    <tr>\n",
       "      <th>0</th>\n",
       "      <td>237000000</td>\n",
       "      <td>[{\"id\": 28, \"name\": \"Action\"}, {\"id\": 12, \"nam...</td>\n",
       "      <td>http://www.avatarmovie.com/</td>\n",
       "      <td>19995</td>\n",
       "      <td>[{\"id\": 1463, \"name\": \"culture clash\"}, {\"id\":...</td>\n",
       "      <td>en</td>\n",
       "      <td>Avatar</td>\n",
       "      <td>In the 22nd century, a paraplegic Marine is di...</td>\n",
       "      <td>150.437577</td>\n",
       "      <td>[{\"name\": \"Ingenious Film Partners\", \"id\": 289...</td>\n",
       "      <td>[{\"iso_3166_1\": \"US\", \"name\": \"United States o...</td>\n",
       "      <td>2009-12-10</td>\n",
       "      <td>2787965087</td>\n",
       "      <td>162.0</td>\n",
       "      <td>[{\"iso_639_1\": \"en\", \"name\": \"English\"}, {\"iso...</td>\n",
       "      <td>Released</td>\n",
       "      <td>Enter the World of Pandora.</td>\n",
       "      <td>Avatar</td>\n",
       "      <td>7.2</td>\n",
       "      <td>11800</td>\n",
       "    </tr>\n",
       "    <tr>\n",
       "      <th>1</th>\n",
       "      <td>300000000</td>\n",
       "      <td>[{\"id\": 12, \"name\": \"Adventure\"}, {\"id\": 14, \"...</td>\n",
       "      <td>http://disney.go.com/disneypictures/pirates/</td>\n",
       "      <td>285</td>\n",
       "      <td>[{\"id\": 270, \"name\": \"ocean\"}, {\"id\": 726, \"na...</td>\n",
       "      <td>en</td>\n",
       "      <td>Pirates of the Caribbean: At World's End</td>\n",
       "      <td>Captain Barbossa, long believed to be dead, ha...</td>\n",
       "      <td>139.082615</td>\n",
       "      <td>[{\"name\": \"Walt Disney Pictures\", \"id\": 2}, {\"...</td>\n",
       "      <td>[{\"iso_3166_1\": \"US\", \"name\": \"United States o...</td>\n",
       "      <td>2007-05-19</td>\n",
       "      <td>961000000</td>\n",
       "      <td>169.0</td>\n",
       "      <td>[{\"iso_639_1\": \"en\", \"name\": \"English\"}]</td>\n",
       "      <td>Released</td>\n",
       "      <td>At the end of the world, the adventure begins.</td>\n",
       "      <td>Pirates of the Caribbean: At World's End</td>\n",
       "      <td>6.9</td>\n",
       "      <td>4500</td>\n",
       "    </tr>\n",
       "  </tbody>\n",
       "</table>\n",
       "</div>"
      ],
      "text/plain": [
       "      budget                                             genres  \\\n",
       "0  237000000  [{\"id\": 28, \"name\": \"Action\"}, {\"id\": 12, \"nam...   \n",
       "1  300000000  [{\"id\": 12, \"name\": \"Adventure\"}, {\"id\": 14, \"...   \n",
       "\n",
       "                                       homepage     id  \\\n",
       "0                   http://www.avatarmovie.com/  19995   \n",
       "1  http://disney.go.com/disneypictures/pirates/    285   \n",
       "\n",
       "                                            keywords original_language  \\\n",
       "0  [{\"id\": 1463, \"name\": \"culture clash\"}, {\"id\":...                en   \n",
       "1  [{\"id\": 270, \"name\": \"ocean\"}, {\"id\": 726, \"na...                en   \n",
       "\n",
       "                             original_title  \\\n",
       "0                                    Avatar   \n",
       "1  Pirates of the Caribbean: At World's End   \n",
       "\n",
       "                                            overview  popularity  \\\n",
       "0  In the 22nd century, a paraplegic Marine is di...  150.437577   \n",
       "1  Captain Barbossa, long believed to be dead, ha...  139.082615   \n",
       "\n",
       "                                production_companies  \\\n",
       "0  [{\"name\": \"Ingenious Film Partners\", \"id\": 289...   \n",
       "1  [{\"name\": \"Walt Disney Pictures\", \"id\": 2}, {\"...   \n",
       "\n",
       "                                production_countries release_date     revenue  \\\n",
       "0  [{\"iso_3166_1\": \"US\", \"name\": \"United States o...   2009-12-10  2787965087   \n",
       "1  [{\"iso_3166_1\": \"US\", \"name\": \"United States o...   2007-05-19   961000000   \n",
       "\n",
       "   runtime                                   spoken_languages    status  \\\n",
       "0    162.0  [{\"iso_639_1\": \"en\", \"name\": \"English\"}, {\"iso...  Released   \n",
       "1    169.0           [{\"iso_639_1\": \"en\", \"name\": \"English\"}]  Released   \n",
       "\n",
       "                                          tagline  \\\n",
       "0                     Enter the World of Pandora.   \n",
       "1  At the end of the world, the adventure begins.   \n",
       "\n",
       "                                      title  vote_average  vote_count  \n",
       "0                                    Avatar           7.2       11800  \n",
       "1  Pirates of the Caribbean: At World's End           6.9        4500  "
      ]
     },
     "execution_count": 3,
     "metadata": {},
     "output_type": "execute_result"
    }
   ],
   "source": [
    "movies.head(2)"
   ]
  },
  {
   "cell_type": "code",
   "execution_count": 4,
   "id": "3a0141d6-debc-42d6-a073-8cfa961bce6f",
   "metadata": {},
   "outputs": [],
   "source": [
    "# original title -- native languange ka title\n",
    "# title- English wala title\n",
    "# runtime- length of the movie\n",
    "# spoken_language- languages spoken in the movie"
   ]
  },
  {
   "cell_type": "code",
   "execution_count": 5,
   "id": "8220b268-4412-470a-b5b8-0c7f9018f2d8",
   "metadata": {},
   "outputs": [
    {
     "data": {
      "text/plain": [
       "(4803, 20)"
      ]
     },
     "execution_count": 5,
     "metadata": {},
     "output_type": "execute_result"
    }
   ],
   "source": [
    "movies.shape"
   ]
  },
  {
   "cell_type": "code",
   "execution_count": 6,
   "id": "24bf9817-1db2-4526-bf7f-489d3281a740",
   "metadata": {},
   "outputs": [
    {
     "data": {
      "text/html": [
       "<div>\n",
       "<style scoped>\n",
       "    .dataframe tbody tr th:only-of-type {\n",
       "        vertical-align: middle;\n",
       "    }\n",
       "\n",
       "    .dataframe tbody tr th {\n",
       "        vertical-align: top;\n",
       "    }\n",
       "\n",
       "    .dataframe thead th {\n",
       "        text-align: right;\n",
       "    }\n",
       "</style>\n",
       "<table border=\"1\" class=\"dataframe\">\n",
       "  <thead>\n",
       "    <tr style=\"text-align: right;\">\n",
       "      <th></th>\n",
       "      <th>movie_id</th>\n",
       "      <th>title</th>\n",
       "      <th>cast</th>\n",
       "      <th>crew</th>\n",
       "    </tr>\n",
       "  </thead>\n",
       "  <tbody>\n",
       "    <tr>\n",
       "      <th>0</th>\n",
       "      <td>19995</td>\n",
       "      <td>Avatar</td>\n",
       "      <td>[{\"cast_id\": 242, \"character\": \"Jake Sully\", \"...</td>\n",
       "      <td>[{\"credit_id\": \"52fe48009251416c750aca23\", \"de...</td>\n",
       "    </tr>\n",
       "  </tbody>\n",
       "</table>\n",
       "</div>"
      ],
      "text/plain": [
       "   movie_id   title                                               cast  \\\n",
       "0     19995  Avatar  [{\"cast_id\": 242, \"character\": \"Jake Sully\", \"...   \n",
       "\n",
       "                                                crew  \n",
       "0  [{\"credit_id\": \"52fe48009251416c750aca23\", \"de...  "
      ]
     },
     "execution_count": 6,
     "metadata": {},
     "output_type": "execute_result"
    }
   ],
   "source": [
    "credits.head(1)"
   ]
  },
  {
   "cell_type": "code",
   "execution_count": 7,
   "id": "f5c982f3-5cbe-4c15-92ee-186805b00521",
   "metadata": {},
   "outputs": [],
   "source": [
    "# movie_id is the id given to the movie in that tdmb website"
   ]
  },
  {
   "cell_type": "code",
   "execution_count": 8,
   "id": "5133e0f3-9bd6-4e03-be2b-2131a637a645",
   "metadata": {
    "scrolled": true
   },
   "outputs": [
    {
     "data": {
      "text/plain": [
       "array(['[{\"cast_id\": 242, \"character\": \"Jake Sully\", \"credit_id\": \"5602a8a7c3a3685532001c9a\", \"gender\": 2, \"id\": 65731, \"name\": \"Sam Worthington\", \"order\": 0}, {\"cast_id\": 3, \"character\": \"Neytiri\", \"credit_id\": \"52fe48009251416c750ac9cb\", \"gender\": 1, \"id\": 8691, \"name\": \"Zoe Saldana\", \"order\": 1}, {\"cast_id\": 25, \"character\": \"Dr. Grace Augustine\", \"credit_id\": \"52fe48009251416c750aca39\", \"gender\": 1, \"id\": 10205, \"name\": \"Sigourney Weaver\", \"order\": 2}, {\"cast_id\": 4, \"character\": \"Col. Quaritch\", \"credit_id\": \"52fe48009251416c750ac9cf\", \"gender\": 2, \"id\": 32747, \"name\": \"Stephen Lang\", \"order\": 3}, {\"cast_id\": 5, \"character\": \"Trudy Chacon\", \"credit_id\": \"52fe48009251416c750ac9d3\", \"gender\": 1, \"id\": 17647, \"name\": \"Michelle Rodriguez\", \"order\": 4}, {\"cast_id\": 8, \"character\": \"Selfridge\", \"credit_id\": \"52fe48009251416c750ac9e1\", \"gender\": 2, \"id\": 1771, \"name\": \"Giovanni Ribisi\", \"order\": 5}, {\"cast_id\": 7, \"character\": \"Norm Spellman\", \"credit_id\": \"52fe48009251416c750ac9dd\", \"gender\": 2, \"id\": 59231, \"name\": \"Joel David Moore\", \"order\": 6}, {\"cast_id\": 9, \"character\": \"Moat\", \"credit_id\": \"52fe48009251416c750ac9e5\", \"gender\": 1, \"id\": 30485, \"name\": \"CCH Pounder\", \"order\": 7}, {\"cast_id\": 11, \"character\": \"Eytukan\", \"credit_id\": \"52fe48009251416c750ac9ed\", \"gender\": 2, \"id\": 15853, \"name\": \"Wes Studi\", \"order\": 8}, {\"cast_id\": 10, \"character\": \"Tsu\\'Tey\", \"credit_id\": \"52fe48009251416c750ac9e9\", \"gender\": 2, \"id\": 10964, \"name\": \"Laz Alonso\", \"order\": 9}, {\"cast_id\": 12, \"character\": \"Dr. Max Patel\", \"credit_id\": \"52fe48009251416c750ac9f1\", \"gender\": 2, \"id\": 95697, \"name\": \"Dileep Rao\", \"order\": 10}, {\"cast_id\": 13, \"character\": \"Lyle Wainfleet\", \"credit_id\": \"52fe48009251416c750ac9f5\", \"gender\": 2, \"id\": 98215, \"name\": \"Matt Gerald\", \"order\": 11}, {\"cast_id\": 32, \"character\": \"Private Fike\", \"credit_id\": \"52fe48009251416c750aca5b\", \"gender\": 2, \"id\": 154153, \"name\": \"Sean Anthony Moran\", \"order\": 12}, {\"cast_id\": 33, \"character\": \"Cryo Vault Med Tech\", \"credit_id\": \"52fe48009251416c750aca5f\", \"gender\": 2, \"id\": 397312, \"name\": \"Jason Whyte\", \"order\": 13}, {\"cast_id\": 34, \"character\": \"Venture Star Crew Chief\", \"credit_id\": \"52fe48009251416c750aca63\", \"gender\": 2, \"id\": 42317, \"name\": \"Scott Lawrence\", \"order\": 14}, {\"cast_id\": 35, \"character\": \"Lock Up Trooper\", \"credit_id\": \"52fe48009251416c750aca67\", \"gender\": 2, \"id\": 986734, \"name\": \"Kelly Kilgour\", \"order\": 15}, {\"cast_id\": 36, \"character\": \"Shuttle Pilot\", \"credit_id\": \"52fe48009251416c750aca6b\", \"gender\": 0, \"id\": 1207227, \"name\": \"James Patrick Pitt\", \"order\": 16}, {\"cast_id\": 37, \"character\": \"Shuttle Co-Pilot\", \"credit_id\": \"52fe48009251416c750aca6f\", \"gender\": 0, \"id\": 1180936, \"name\": \"Sean Patrick Murphy\", \"order\": 17}, {\"cast_id\": 38, \"character\": \"Shuttle Crew Chief\", \"credit_id\": \"52fe48009251416c750aca73\", \"gender\": 2, \"id\": 1019578, \"name\": \"Peter Dillon\", \"order\": 18}, {\"cast_id\": 39, \"character\": \"Tractor Operator / Troupe\", \"credit_id\": \"52fe48009251416c750aca77\", \"gender\": 0, \"id\": 91443, \"name\": \"Kevin Dorman\", \"order\": 19}, {\"cast_id\": 40, \"character\": \"Dragon Gunship Pilot\", \"credit_id\": \"52fe48009251416c750aca7b\", \"gender\": 2, \"id\": 173391, \"name\": \"Kelson Henderson\", \"order\": 20}, {\"cast_id\": 41, \"character\": \"Dragon Gunship Gunner\", \"credit_id\": \"52fe48009251416c750aca7f\", \"gender\": 0, \"id\": 1207236, \"name\": \"David Van Horn\", \"order\": 21}, {\"cast_id\": 42, \"character\": \"Dragon Gunship Navigator\", \"credit_id\": \"52fe48009251416c750aca83\", \"gender\": 0, \"id\": 215913, \"name\": \"Jacob Tomuri\", \"order\": 22}, {\"cast_id\": 43, \"character\": \"Suit #1\", \"credit_id\": \"52fe48009251416c750aca87\", \"gender\": 0, \"id\": 143206, \"name\": \"Michael Blain-Rozgay\", \"order\": 23}, {\"cast_id\": 44, \"character\": \"Suit #2\", \"credit_id\": \"52fe48009251416c750aca8b\", \"gender\": 2, \"id\": 169676, \"name\": \"Jon Curry\", \"order\": 24}, {\"cast_id\": 46, \"character\": \"Ambient Room Tech\", \"credit_id\": \"52fe48009251416c750aca8f\", \"gender\": 0, \"id\": 1048610, \"name\": \"Luke Hawker\", \"order\": 25}, {\"cast_id\": 47, \"character\": \"Ambient Room Tech / Troupe\", \"credit_id\": \"52fe48009251416c750aca93\", \"gender\": 0, \"id\": 42288, \"name\": \"Woody Schultz\", \"order\": 26}, {\"cast_id\": 48, \"character\": \"Horse Clan Leader\", \"credit_id\": \"52fe48009251416c750aca97\", \"gender\": 2, \"id\": 68278, \"name\": \"Peter Mensah\", \"order\": 27}, {\"cast_id\": 49, \"character\": \"Link Room Tech\", \"credit_id\": \"52fe48009251416c750aca9b\", \"gender\": 0, \"id\": 1207247, \"name\": \"Sonia Yee\", \"order\": 28}, {\"cast_id\": 50, \"character\": \"Basketball Avatar / Troupe\", \"credit_id\": \"52fe48009251416c750aca9f\", \"gender\": 1, \"id\": 1207248, \"name\": \"Jahnel Curfman\", \"order\": 29}, {\"cast_id\": 51, \"character\": \"Basketball Avatar\", \"credit_id\": \"52fe48009251416c750acaa3\", \"gender\": 0, \"id\": 89714, \"name\": \"Ilram Choi\", \"order\": 30}, {\"cast_id\": 52, \"character\": \"Na\\'vi Child\", \"credit_id\": \"52fe48009251416c750acaa7\", \"gender\": 0, \"id\": 1207249, \"name\": \"Kyla Warren\", \"order\": 31}, {\"cast_id\": 53, \"character\": \"Troupe\", \"credit_id\": \"52fe48009251416c750acaab\", \"gender\": 0, \"id\": 1207250, \"name\": \"Lisa Roumain\", \"order\": 32}, {\"cast_id\": 54, \"character\": \"Troupe\", \"credit_id\": \"52fe48009251416c750acaaf\", \"gender\": 1, \"id\": 83105, \"name\": \"Debra Wilson\", \"order\": 33}, {\"cast_id\": 57, \"character\": \"Troupe\", \"credit_id\": \"52fe48009251416c750acabb\", \"gender\": 0, \"id\": 1207253, \"name\": \"Chris Mala\", \"order\": 34}, {\"cast_id\": 55, \"character\": \"Troupe\", \"credit_id\": \"52fe48009251416c750acab3\", \"gender\": 0, \"id\": 1207251, \"name\": \"Taylor Kibby\", \"order\": 35}, {\"cast_id\": 56, \"character\": \"Troupe\", \"credit_id\": \"52fe48009251416c750acab7\", \"gender\": 0, \"id\": 1207252, \"name\": \"Jodie Landau\", \"order\": 36}, {\"cast_id\": 58, \"character\": \"Troupe\", \"credit_id\": \"52fe48009251416c750acabf\", \"gender\": 0, \"id\": 1207254, \"name\": \"Julie Lamm\", \"order\": 37}, {\"cast_id\": 59, \"character\": \"Troupe\", \"credit_id\": \"52fe48009251416c750acac3\", \"gender\": 0, \"id\": 1207257, \"name\": \"Cullen B. Madden\", \"order\": 38}, {\"cast_id\": 60, \"character\": \"Troupe\", \"credit_id\": \"52fe48009251416c750acac7\", \"gender\": 0, \"id\": 1207259, \"name\": \"Joseph Brady Madden\", \"order\": 39}, {\"cast_id\": 61, \"character\": \"Troupe\", \"credit_id\": \"52fe48009251416c750acacb\", \"gender\": 0, \"id\": 1207262, \"name\": \"Frankie Torres\", \"order\": 40}, {\"cast_id\": 62, \"character\": \"Troupe\", \"credit_id\": \"52fe48009251416c750acacf\", \"gender\": 1, \"id\": 1158600, \"name\": \"Austin Wilson\", \"order\": 41}, {\"cast_id\": 63, \"character\": \"Troupe\", \"credit_id\": \"52fe48019251416c750acad3\", \"gender\": 1, \"id\": 983705, \"name\": \"Sara Wilson\", \"order\": 42}, {\"cast_id\": 64, \"character\": \"Troupe\", \"credit_id\": \"52fe48019251416c750acad7\", \"gender\": 0, \"id\": 1207263, \"name\": \"Tamica Washington-Miller\", \"order\": 43}, {\"cast_id\": 65, \"character\": \"Op Center Staff\", \"credit_id\": \"52fe48019251416c750acadb\", \"gender\": 1, \"id\": 1145098, \"name\": \"Lucy Briant\", \"order\": 44}, {\"cast_id\": 66, \"character\": \"Op Center Staff\", \"credit_id\": \"52fe48019251416c750acadf\", \"gender\": 2, \"id\": 33305, \"name\": \"Nathan Meister\", \"order\": 45}, {\"cast_id\": 67, \"character\": \"Op Center Staff\", \"credit_id\": \"52fe48019251416c750acae3\", \"gender\": 0, \"id\": 1207264, \"name\": \"Gerry Blair\", \"order\": 46}, {\"cast_id\": 68, \"character\": \"Op Center Staff\", \"credit_id\": \"52fe48019251416c750acae7\", \"gender\": 2, \"id\": 33311, \"name\": \"Matthew Chamberlain\", \"order\": 47}, {\"cast_id\": 69, \"character\": \"Op Center Staff\", \"credit_id\": \"52fe48019251416c750acaeb\", \"gender\": 0, \"id\": 1207265, \"name\": \"Paul Yates\", \"order\": 48}, {\"cast_id\": 70, \"character\": \"Op Center Duty Officer\", \"credit_id\": \"52fe48019251416c750acaef\", \"gender\": 0, \"id\": 1207266, \"name\": \"Wray Wilson\", \"order\": 49}, {\"cast_id\": 71, \"character\": \"Op Center Staff\", \"credit_id\": \"52fe48019251416c750acaf3\", \"gender\": 2, \"id\": 54492, \"name\": \"James Gaylyn\", \"order\": 50}, {\"cast_id\": 72, \"character\": \"Dancer\", \"credit_id\": \"52fe48019251416c750acaf7\", \"gender\": 0, \"id\": 1207267, \"name\": \"Melvin Leno Clark III\", \"order\": 51}, {\"cast_id\": 73, \"character\": \"Dancer\", \"credit_id\": \"52fe48019251416c750acafb\", \"gender\": 0, \"id\": 1207268, \"name\": \"Carvon Futrell\", \"order\": 52}, {\"cast_id\": 74, \"character\": \"Dancer\", \"credit_id\": \"52fe48019251416c750acaff\", \"gender\": 0, \"id\": 1207269, \"name\": \"Brandon Jelkes\", \"order\": 53}, {\"cast_id\": 75, \"character\": \"Dancer\", \"credit_id\": \"52fe48019251416c750acb03\", \"gender\": 0, \"id\": 1207270, \"name\": \"Micah Moch\", \"order\": 54}, {\"cast_id\": 76, \"character\": \"Dancer\", \"credit_id\": \"52fe48019251416c750acb07\", \"gender\": 0, \"id\": 1207271, \"name\": \"Hanniyah Muhammad\", \"order\": 55}, {\"cast_id\": 77, \"character\": \"Dancer\", \"credit_id\": \"52fe48019251416c750acb0b\", \"gender\": 0, \"id\": 1207272, \"name\": \"Christopher Nolen\", \"order\": 56}, {\"cast_id\": 78, \"character\": \"Dancer\", \"credit_id\": \"52fe48019251416c750acb0f\", \"gender\": 0, \"id\": 1207273, \"name\": \"Christa Oliver\", \"order\": 57}, {\"cast_id\": 79, \"character\": \"Dancer\", \"credit_id\": \"52fe48019251416c750acb13\", \"gender\": 0, \"id\": 1207274, \"name\": \"April Marie Thomas\", \"order\": 58}, {\"cast_id\": 80, \"character\": \"Dancer\", \"credit_id\": \"52fe48019251416c750acb17\", \"gender\": 0, \"id\": 1207275, \"name\": \"Bravita A. Threatt\", \"order\": 59}, {\"cast_id\": 81, \"character\": \"Mining Chief (uncredited)\", \"credit_id\": \"52fe48019251416c750acb1b\", \"gender\": 0, \"id\": 1207276, \"name\": \"Colin Bleasdale\", \"order\": 60}, {\"cast_id\": 82, \"character\": \"Veteran Miner (uncredited)\", \"credit_id\": \"52fe48019251416c750acb1f\", \"gender\": 0, \"id\": 107969, \"name\": \"Mike Bodnar\", \"order\": 61}, {\"cast_id\": 83, \"character\": \"Richard (uncredited)\", \"credit_id\": \"52fe48019251416c750acb23\", \"gender\": 0, \"id\": 1207278, \"name\": \"Matt Clayton\", \"order\": 62}, {\"cast_id\": 84, \"character\": \"Nav\\'i (uncredited)\", \"credit_id\": \"52fe48019251416c750acb27\", \"gender\": 1, \"id\": 147898, \"name\": \"Nicole Dionne\", \"order\": 63}, {\"cast_id\": 85, \"character\": \"Trooper (uncredited)\", \"credit_id\": \"52fe48019251416c750acb2b\", \"gender\": 0, \"id\": 1207280, \"name\": \"Jamie Harrison\", \"order\": 64}, {\"cast_id\": 86, \"character\": \"Trooper (uncredited)\", \"credit_id\": \"52fe48019251416c750acb2f\", \"gender\": 0, \"id\": 1207281, \"name\": \"Allan Henry\", \"order\": 65}, {\"cast_id\": 87, \"character\": \"Ground Technician (uncredited)\", \"credit_id\": \"52fe48019251416c750acb33\", \"gender\": 2, \"id\": 1207282, \"name\": \"Anthony Ingruber\", \"order\": 66}, {\"cast_id\": 88, \"character\": \"Flight Crew Mechanic (uncredited)\", \"credit_id\": \"52fe48019251416c750acb37\", \"gender\": 0, \"id\": 1207283, \"name\": \"Ashley Jeffery\", \"order\": 67}, {\"cast_id\": 14, \"character\": \"Samson Pilot\", \"credit_id\": \"52fe48009251416c750ac9f9\", \"gender\": 0, \"id\": 98216, \"name\": \"Dean Knowsley\", \"order\": 68}, {\"cast_id\": 89, \"character\": \"Trooper (uncredited)\", \"credit_id\": \"52fe48019251416c750acb3b\", \"gender\": 0, \"id\": 1201399, \"name\": \"Joseph Mika-Hunt\", \"order\": 69}, {\"cast_id\": 90, \"character\": \"Banshee (uncredited)\", \"credit_id\": \"52fe48019251416c750acb3f\", \"gender\": 0, \"id\": 236696, \"name\": \"Terry Notary\", \"order\": 70}, {\"cast_id\": 91, \"character\": \"Soldier (uncredited)\", \"credit_id\": \"52fe48019251416c750acb43\", \"gender\": 0, \"id\": 1207287, \"name\": \"Kai Pantano\", \"order\": 71}, {\"cast_id\": 92, \"character\": \"Blast Technician (uncredited)\", \"credit_id\": \"52fe48019251416c750acb47\", \"gender\": 0, \"id\": 1207288, \"name\": \"Logan Pithyou\", \"order\": 72}, {\"cast_id\": 93, \"character\": \"Vindum Raah (uncredited)\", \"credit_id\": \"52fe48019251416c750acb4b\", \"gender\": 0, \"id\": 1207289, \"name\": \"Stuart Pollock\", \"order\": 73}, {\"cast_id\": 94, \"character\": \"Hero (uncredited)\", \"credit_id\": \"52fe48019251416c750acb4f\", \"gender\": 0, \"id\": 584868, \"name\": \"Raja\", \"order\": 74}, {\"cast_id\": 95, \"character\": \"Ops Centreworker (uncredited)\", \"credit_id\": \"52fe48019251416c750acb53\", \"gender\": 0, \"id\": 1207290, \"name\": \"Gareth Ruck\", \"order\": 75}, {\"cast_id\": 96, \"character\": \"Engineer (uncredited)\", \"credit_id\": \"52fe48019251416c750acb57\", \"gender\": 0, \"id\": 1062463, \"name\": \"Rhian Sheehan\", \"order\": 76}, {\"cast_id\": 97, \"character\": \"Col. Quaritch\\'s Mech Suit (uncredited)\", \"credit_id\": \"52fe48019251416c750acb5b\", \"gender\": 0, \"id\": 60656, \"name\": \"T. J. Storm\", \"order\": 77}, {\"cast_id\": 98, \"character\": \"Female Marine (uncredited)\", \"credit_id\": \"52fe48019251416c750acb5f\", \"gender\": 0, \"id\": 1207291, \"name\": \"Jodie Taylor\", \"order\": 78}, {\"cast_id\": 99, \"character\": \"Ikran Clan Leader (uncredited)\", \"credit_id\": \"52fe48019251416c750acb63\", \"gender\": 1, \"id\": 1186027, \"name\": \"Alicia Vela-Bailey\", \"order\": 79}, {\"cast_id\": 100, \"character\": \"Geologist (uncredited)\", \"credit_id\": \"52fe48019251416c750acb67\", \"gender\": 0, \"id\": 1207292, \"name\": \"Richard Whiteside\", \"order\": 80}, {\"cast_id\": 101, \"character\": \"Na\\'vi (uncredited)\", \"credit_id\": \"52fe48019251416c750acb6b\", \"gender\": 0, \"id\": 103259, \"name\": \"Nikie Zambo\", \"order\": 81}, {\"cast_id\": 102, \"character\": \"Ambient Room Tech / Troupe\", \"credit_id\": \"52fe48019251416c750acb6f\", \"gender\": 1, \"id\": 42286, \"name\": \"Julene Renee\", \"order\": 82}]'],\n",
       "      dtype=object)"
      ]
     },
     "execution_count": 8,
     "metadata": {},
     "output_type": "execute_result"
    }
   ],
   "source": [
    "credits.head(1)['cast'].values"
   ]
  },
  {
   "cell_type": "code",
   "execution_count": 9,
   "id": "d010b14f-81e0-41a0-be25-bf1e96e8ade6",
   "metadata": {},
   "outputs": [],
   "source": [
    "# merging the both datasets\n",
    "\n",
    "movies= movies.merge(credits, on='title')"
   ]
  },
  {
   "cell_type": "code",
   "execution_count": 10,
   "id": "a2dc2255-5803-471f-9f05-3908823a5e53",
   "metadata": {},
   "outputs": [
    {
     "data": {
      "text/plain": [
       "(4809, 23)"
      ]
     },
     "execution_count": 10,
     "metadata": {},
     "output_type": "execute_result"
    }
   ],
   "source": [
    "movies.shape"
   ]
  },
  {
   "cell_type": "code",
   "execution_count": 11,
   "id": "ebeb4c73-9d96-4902-bf98-db743a77a770",
   "metadata": {
    "scrolled": true
   },
   "outputs": [
    {
     "data": {
      "text/plain": [
       "original_language\n",
       "en    4510\n",
       "fr      70\n",
       "es      32\n",
       "zh      27\n",
       "de      27\n",
       "hi      19\n",
       "ja      16\n",
       "it      14\n",
       "ko      12\n",
       "cn      12\n",
       "ru      11\n",
       "pt       9\n",
       "da       7\n",
       "sv       5\n",
       "nl       4\n",
       "fa       4\n",
       "th       3\n",
       "he       3\n",
       "ta       2\n",
       "cs       2\n",
       "ro       2\n",
       "id       2\n",
       "ar       2\n",
       "vi       1\n",
       "sl       1\n",
       "ps       1\n",
       "no       1\n",
       "ky       1\n",
       "hu       1\n",
       "pl       1\n",
       "af       1\n",
       "nb       1\n",
       "tr       1\n",
       "is       1\n",
       "xx       1\n",
       "te       1\n",
       "el       1\n",
       "Name: count, dtype: int64"
      ]
     },
     "execution_count": 11,
     "metadata": {},
     "output_type": "execute_result"
    }
   ],
   "source": [
    "movies['original_language'].value_counts()\n",
    "\n",
    "## hence max movies are of english language, hence remove it"
   ]
  },
  {
   "cell_type": "code",
   "execution_count": 12,
   "id": "c6fd1fc8-de0c-455c-87ff-2628766ef876",
   "metadata": {},
   "outputs": [],
   "source": [
    "## Now logically we will remove those columns which will not be participating in recommendations\n",
    "\n",
    "# 1. Budget doesn't relate to recommending a movie\n",
    "# 2. homepage also doesn't matter\n",
    "# 3. original_title\n",
    "# 4. popularity \n",
    "# 5. production_companies\n",
    "# 6. original_language\n",
    "# 7. release date\n",
    "# 8. revenue\n",
    "# 9. runtime\n",
    "# 10. spoken languages\n",
    "# 11. tagline\n",
    "# 12. vote_average\n",
    "# 13. vote_count\n",
    "# 14. etc."
   ]
  },
  {
   "cell_type": "code",
   "execution_count": 13,
   "id": "95e95316-a30d-424b-810d-f6ee0cc1e023",
   "metadata": {},
   "outputs": [],
   "source": [
    "movies= movies[['movie_id', 'title','overview', 'genres', 'keywords', 'cast', 'crew']]"
   ]
  },
  {
   "cell_type": "code",
   "execution_count": 14,
   "id": "9f19aeea-5e1c-4e6b-9753-adca246b57c8",
   "metadata": {},
   "outputs": [
    {
     "data": {
      "text/html": [
       "<div>\n",
       "<style scoped>\n",
       "    .dataframe tbody tr th:only-of-type {\n",
       "        vertical-align: middle;\n",
       "    }\n",
       "\n",
       "    .dataframe tbody tr th {\n",
       "        vertical-align: top;\n",
       "    }\n",
       "\n",
       "    .dataframe thead th {\n",
       "        text-align: right;\n",
       "    }\n",
       "</style>\n",
       "<table border=\"1\" class=\"dataframe\">\n",
       "  <thead>\n",
       "    <tr style=\"text-align: right;\">\n",
       "      <th></th>\n",
       "      <th>movie_id</th>\n",
       "      <th>title</th>\n",
       "      <th>overview</th>\n",
       "      <th>genres</th>\n",
       "      <th>keywords</th>\n",
       "      <th>cast</th>\n",
       "      <th>crew</th>\n",
       "    </tr>\n",
       "  </thead>\n",
       "  <tbody>\n",
       "    <tr>\n",
       "      <th>0</th>\n",
       "      <td>19995</td>\n",
       "      <td>Avatar</td>\n",
       "      <td>In the 22nd century, a paraplegic Marine is di...</td>\n",
       "      <td>[{\"id\": 28, \"name\": \"Action\"}, {\"id\": 12, \"nam...</td>\n",
       "      <td>[{\"id\": 1463, \"name\": \"culture clash\"}, {\"id\":...</td>\n",
       "      <td>[{\"cast_id\": 242, \"character\": \"Jake Sully\", \"...</td>\n",
       "      <td>[{\"credit_id\": \"52fe48009251416c750aca23\", \"de...</td>\n",
       "    </tr>\n",
       "    <tr>\n",
       "      <th>1</th>\n",
       "      <td>285</td>\n",
       "      <td>Pirates of the Caribbean: At World's End</td>\n",
       "      <td>Captain Barbossa, long believed to be dead, ha...</td>\n",
       "      <td>[{\"id\": 12, \"name\": \"Adventure\"}, {\"id\": 14, \"...</td>\n",
       "      <td>[{\"id\": 270, \"name\": \"ocean\"}, {\"id\": 726, \"na...</td>\n",
       "      <td>[{\"cast_id\": 4, \"character\": \"Captain Jack Spa...</td>\n",
       "      <td>[{\"credit_id\": \"52fe4232c3a36847f800b579\", \"de...</td>\n",
       "    </tr>\n",
       "    <tr>\n",
       "      <th>2</th>\n",
       "      <td>206647</td>\n",
       "      <td>Spectre</td>\n",
       "      <td>A cryptic message from Bond’s past sends him o...</td>\n",
       "      <td>[{\"id\": 28, \"name\": \"Action\"}, {\"id\": 12, \"nam...</td>\n",
       "      <td>[{\"id\": 470, \"name\": \"spy\"}, {\"id\": 818, \"name...</td>\n",
       "      <td>[{\"cast_id\": 1, \"character\": \"James Bond\", \"cr...</td>\n",
       "      <td>[{\"credit_id\": \"54805967c3a36829b5002c41\", \"de...</td>\n",
       "    </tr>\n",
       "  </tbody>\n",
       "</table>\n",
       "</div>"
      ],
      "text/plain": [
       "   movie_id                                     title  \\\n",
       "0     19995                                    Avatar   \n",
       "1       285  Pirates of the Caribbean: At World's End   \n",
       "2    206647                                   Spectre   \n",
       "\n",
       "                                            overview  \\\n",
       "0  In the 22nd century, a paraplegic Marine is di...   \n",
       "1  Captain Barbossa, long believed to be dead, ha...   \n",
       "2  A cryptic message from Bond’s past sends him o...   \n",
       "\n",
       "                                              genres  \\\n",
       "0  [{\"id\": 28, \"name\": \"Action\"}, {\"id\": 12, \"nam...   \n",
       "1  [{\"id\": 12, \"name\": \"Adventure\"}, {\"id\": 14, \"...   \n",
       "2  [{\"id\": 28, \"name\": \"Action\"}, {\"id\": 12, \"nam...   \n",
       "\n",
       "                                            keywords  \\\n",
       "0  [{\"id\": 1463, \"name\": \"culture clash\"}, {\"id\":...   \n",
       "1  [{\"id\": 270, \"name\": \"ocean\"}, {\"id\": 726, \"na...   \n",
       "2  [{\"id\": 470, \"name\": \"spy\"}, {\"id\": 818, \"name...   \n",
       "\n",
       "                                                cast  \\\n",
       "0  [{\"cast_id\": 242, \"character\": \"Jake Sully\", \"...   \n",
       "1  [{\"cast_id\": 4, \"character\": \"Captain Jack Spa...   \n",
       "2  [{\"cast_id\": 1, \"character\": \"James Bond\", \"cr...   \n",
       "\n",
       "                                                crew  \n",
       "0  [{\"credit_id\": \"52fe48009251416c750aca23\", \"de...  \n",
       "1  [{\"credit_id\": \"52fe4232c3a36847f800b579\", \"de...  \n",
       "2  [{\"credit_id\": \"54805967c3a36829b5002c41\", \"de...  "
      ]
     },
     "execution_count": 14,
     "metadata": {},
     "output_type": "execute_result"
    }
   ],
   "source": [
    "movies.head(3)"
   ]
  },
  {
   "cell_type": "code",
   "execution_count": 15,
   "id": "5ec0611a-68ff-48fb-9e73-3020ff0b7572",
   "metadata": {},
   "outputs": [],
   "source": [
    "## we only need top 3 actors and director from crew not other stuff"
   ]
  },
  {
   "cell_type": "code",
   "execution_count": 16,
   "id": "900bb6b1-a2b7-4867-8ce4-4636faeba111",
   "metadata": {},
   "outputs": [
    {
     "data": {
      "text/plain": [
       "movie_id    0\n",
       "title       0\n",
       "overview    3\n",
       "genres      0\n",
       "keywords    0\n",
       "cast        0\n",
       "crew        0\n",
       "dtype: int64"
      ]
     },
     "execution_count": 16,
     "metadata": {},
     "output_type": "execute_result"
    }
   ],
   "source": [
    "movies.isnull().sum()"
   ]
  },
  {
   "cell_type": "code",
   "execution_count": 17,
   "id": "7b8eb060-b1fd-4c4e-a5fb-16fbfddc13c6",
   "metadata": {},
   "outputs": [],
   "source": [
    "# since it's 3 only we can just drop it"
   ]
  },
  {
   "cell_type": "code",
   "execution_count": 18,
   "id": "d7662f55-9d04-483b-8a56-89c1db2809da",
   "metadata": {},
   "outputs": [],
   "source": [
    "movies.dropna(inplace=True)"
   ]
  },
  {
   "cell_type": "code",
   "execution_count": 19,
   "id": "0b74db59-f0b7-4e73-b1cd-8e1f2af9e45f",
   "metadata": {},
   "outputs": [
    {
     "data": {
      "text/plain": [
       "movie_id    0\n",
       "title       0\n",
       "overview    0\n",
       "genres      0\n",
       "keywords    0\n",
       "cast        0\n",
       "crew        0\n",
       "dtype: int64"
      ]
     },
     "execution_count": 19,
     "metadata": {},
     "output_type": "execute_result"
    }
   ],
   "source": [
    "movies.isnull().sum()"
   ]
  },
  {
   "cell_type": "code",
   "execution_count": 20,
   "id": "5cfcd8ed-aded-4f62-9c74-58a9286a73d0",
   "metadata": {},
   "outputs": [
    {
     "data": {
      "text/plain": [
       "0"
      ]
     },
     "execution_count": 20,
     "metadata": {},
     "output_type": "execute_result"
    }
   ],
   "source": [
    "movies.duplicated().sum()"
   ]
  },
  {
   "cell_type": "code",
   "execution_count": 21,
   "id": "ffc3c7ad-57d4-4f12-a712-4e6cfc70e800",
   "metadata": {},
   "outputs": [
    {
     "data": {
      "text/plain": [
       "'[{\"id\": 28, \"name\": \"Action\"}, {\"id\": 12, \"name\": \"Adventure\"}, {\"id\": 14, \"name\": \"Fantasy\"}, {\"id\": 878, \"name\": \"Science Fiction\"}]'"
      ]
     },
     "execution_count": 21,
     "metadata": {},
     "output_type": "execute_result"
    }
   ],
   "source": [
    "movies.iloc[0].genres"
   ]
  },
  {
   "cell_type": "code",
   "execution_count": 22,
   "id": "49fdebdc-1e16-4a3f-8c56-5955ff257a70",
   "metadata": {},
   "outputs": [],
   "source": [
    "# we have to unpack this and just want to make a list of the genre names only"
   ]
  },
  {
   "cell_type": "code",
   "execution_count": 23,
   "id": "635f88ae-68ad-4f12-a6eb-1e6448a8272d",
   "metadata": {},
   "outputs": [],
   "source": [
    "def convert(obj):\n",
    "    L = []\n",
    "    for i in ast.literal_eval(obj):\n",
    "        L.append(i['name'])\n",
    "    return L"
   ]
  },
  {
   "cell_type": "code",
   "execution_count": 24,
   "id": "862fa6e0-acf8-4de6-b28d-a57c163116d5",
   "metadata": {},
   "outputs": [],
   "source": [
    "import ast"
   ]
  },
  {
   "cell_type": "code",
   "execution_count": 25,
   "id": "33baf15c-9ba2-4346-983f-74dc74a4deab",
   "metadata": {},
   "outputs": [
    {
     "data": {
      "text/plain": [
       "['Action', 'Adventure', 'Fantasy', 'Science Fiction']"
      ]
     },
     "execution_count": 25,
     "metadata": {},
     "output_type": "execute_result"
    }
   ],
   "source": [
    "convert('[{\"id\": 28, \"name\": \"Action\"}, {\"id\": 12, \"name\": \"Adventure\"}, {\"id\": 14, \"name\": \"Fantasy\"}, {\"id\": 878, \"name\": \"Science Fiction\"}]')"
   ]
  },
  {
   "cell_type": "code",
   "execution_count": 26,
   "id": "01a65ba0-2f3b-4d48-8575-fbaa9df943f3",
   "metadata": {},
   "outputs": [],
   "source": [
    " import ast"
   ]
  },
  {
   "cell_type": "code",
   "execution_count": 27,
   "id": "aa2f363b-ee75-431d-a480-2d8d5093a7be",
   "metadata": {},
   "outputs": [
    {
     "data": {
      "text/plain": [
       "0       [Action, Adventure, Fantasy, Science Fiction]\n",
       "1                        [Adventure, Fantasy, Action]\n",
       "2                          [Action, Adventure, Crime]\n",
       "3                    [Action, Crime, Drama, Thriller]\n",
       "4                [Action, Adventure, Science Fiction]\n",
       "                            ...                      \n",
       "4804                        [Action, Crime, Thriller]\n",
       "4805                                [Comedy, Romance]\n",
       "4806               [Comedy, Drama, Romance, TV Movie]\n",
       "4807                                               []\n",
       "4808                                    [Documentary]\n",
       "Name: genres, Length: 4806, dtype: object"
      ]
     },
     "execution_count": 27,
     "metadata": {},
     "output_type": "execute_result"
    }
   ],
   "source": [
    "movies['genres'].apply(convert)"
   ]
  },
  {
   "cell_type": "code",
   "execution_count": 28,
   "id": "0d056991-bf0c-4bdb-9b75-8edf16448b8e",
   "metadata": {},
   "outputs": [],
   "source": [
    "movies['genres']= movies['genres'].apply(convert)"
   ]
  },
  {
   "cell_type": "code",
   "execution_count": 29,
   "id": "b6efaab0-abde-4c62-83ef-f46687708362",
   "metadata": {},
   "outputs": [],
   "source": [
    "movies['keywords']= movies['keywords'].apply(convert)"
   ]
  },
  {
   "cell_type": "code",
   "execution_count": 30,
   "id": "76ec4dac-09a9-4a89-8997-1c29aafa9566",
   "metadata": {},
   "outputs": [
    {
     "data": {
      "text/html": [
       "<div>\n",
       "<style scoped>\n",
       "    .dataframe tbody tr th:only-of-type {\n",
       "        vertical-align: middle;\n",
       "    }\n",
       "\n",
       "    .dataframe tbody tr th {\n",
       "        vertical-align: top;\n",
       "    }\n",
       "\n",
       "    .dataframe thead th {\n",
       "        text-align: right;\n",
       "    }\n",
       "</style>\n",
       "<table border=\"1\" class=\"dataframe\">\n",
       "  <thead>\n",
       "    <tr style=\"text-align: right;\">\n",
       "      <th></th>\n",
       "      <th>movie_id</th>\n",
       "      <th>title</th>\n",
       "      <th>overview</th>\n",
       "      <th>genres</th>\n",
       "      <th>keywords</th>\n",
       "      <th>cast</th>\n",
       "      <th>crew</th>\n",
       "    </tr>\n",
       "  </thead>\n",
       "  <tbody>\n",
       "    <tr>\n",
       "      <th>0</th>\n",
       "      <td>19995</td>\n",
       "      <td>Avatar</td>\n",
       "      <td>In the 22nd century, a paraplegic Marine is di...</td>\n",
       "      <td>[Action, Adventure, Fantasy, Science Fiction]</td>\n",
       "      <td>[culture clash, future, space war, space colon...</td>\n",
       "      <td>[{\"cast_id\": 242, \"character\": \"Jake Sully\", \"...</td>\n",
       "      <td>[{\"credit_id\": \"52fe48009251416c750aca23\", \"de...</td>\n",
       "    </tr>\n",
       "  </tbody>\n",
       "</table>\n",
       "</div>"
      ],
      "text/plain": [
       "   movie_id   title                                           overview  \\\n",
       "0     19995  Avatar  In the 22nd century, a paraplegic Marine is di...   \n",
       "\n",
       "                                          genres  \\\n",
       "0  [Action, Adventure, Fantasy, Science Fiction]   \n",
       "\n",
       "                                            keywords  \\\n",
       "0  [culture clash, future, space war, space colon...   \n",
       "\n",
       "                                                cast  \\\n",
       "0  [{\"cast_id\": 242, \"character\": \"Jake Sully\", \"...   \n",
       "\n",
       "                                                crew  \n",
       "0  [{\"credit_id\": \"52fe48009251416c750aca23\", \"de...  "
      ]
     },
     "execution_count": 30,
     "metadata": {},
     "output_type": "execute_result"
    }
   ],
   "source": [
    "movies.head(1)"
   ]
  },
  {
   "cell_type": "code",
   "execution_count": 31,
   "id": "15f4297e-3006-40c9-9f5a-066dbcae8c8d",
   "metadata": {},
   "outputs": [],
   "source": [
    "## hence we have successfully stored our genre names in a list"
   ]
  },
  {
   "cell_type": "code",
   "execution_count": 32,
   "id": "329aa158-3776-447d-b883-c11de6f766c0",
   "metadata": {},
   "outputs": [
    {
     "data": {
      "text/plain": [
       "array(['[{\"cast_id\": 242, \"character\": \"Jake Sully\", \"credit_id\": \"5602a8a7c3a3685532001c9a\", \"gender\": 2, \"id\": 65731, \"name\": \"Sam Worthington\", \"order\": 0}, {\"cast_id\": 3, \"character\": \"Neytiri\", \"credit_id\": \"52fe48009251416c750ac9cb\", \"gender\": 1, \"id\": 8691, \"name\": \"Zoe Saldana\", \"order\": 1}, {\"cast_id\": 25, \"character\": \"Dr. Grace Augustine\", \"credit_id\": \"52fe48009251416c750aca39\", \"gender\": 1, \"id\": 10205, \"name\": \"Sigourney Weaver\", \"order\": 2}, {\"cast_id\": 4, \"character\": \"Col. Quaritch\", \"credit_id\": \"52fe48009251416c750ac9cf\", \"gender\": 2, \"id\": 32747, \"name\": \"Stephen Lang\", \"order\": 3}, {\"cast_id\": 5, \"character\": \"Trudy Chacon\", \"credit_id\": \"52fe48009251416c750ac9d3\", \"gender\": 1, \"id\": 17647, \"name\": \"Michelle Rodriguez\", \"order\": 4}, {\"cast_id\": 8, \"character\": \"Selfridge\", \"credit_id\": \"52fe48009251416c750ac9e1\", \"gender\": 2, \"id\": 1771, \"name\": \"Giovanni Ribisi\", \"order\": 5}, {\"cast_id\": 7, \"character\": \"Norm Spellman\", \"credit_id\": \"52fe48009251416c750ac9dd\", \"gender\": 2, \"id\": 59231, \"name\": \"Joel David Moore\", \"order\": 6}, {\"cast_id\": 9, \"character\": \"Moat\", \"credit_id\": \"52fe48009251416c750ac9e5\", \"gender\": 1, \"id\": 30485, \"name\": \"CCH Pounder\", \"order\": 7}, {\"cast_id\": 11, \"character\": \"Eytukan\", \"credit_id\": \"52fe48009251416c750ac9ed\", \"gender\": 2, \"id\": 15853, \"name\": \"Wes Studi\", \"order\": 8}, {\"cast_id\": 10, \"character\": \"Tsu\\'Tey\", \"credit_id\": \"52fe48009251416c750ac9e9\", \"gender\": 2, \"id\": 10964, \"name\": \"Laz Alonso\", \"order\": 9}, {\"cast_id\": 12, \"character\": \"Dr. Max Patel\", \"credit_id\": \"52fe48009251416c750ac9f1\", \"gender\": 2, \"id\": 95697, \"name\": \"Dileep Rao\", \"order\": 10}, {\"cast_id\": 13, \"character\": \"Lyle Wainfleet\", \"credit_id\": \"52fe48009251416c750ac9f5\", \"gender\": 2, \"id\": 98215, \"name\": \"Matt Gerald\", \"order\": 11}, {\"cast_id\": 32, \"character\": \"Private Fike\", \"credit_id\": \"52fe48009251416c750aca5b\", \"gender\": 2, \"id\": 154153, \"name\": \"Sean Anthony Moran\", \"order\": 12}, {\"cast_id\": 33, \"character\": \"Cryo Vault Med Tech\", \"credit_id\": \"52fe48009251416c750aca5f\", \"gender\": 2, \"id\": 397312, \"name\": \"Jason Whyte\", \"order\": 13}, {\"cast_id\": 34, \"character\": \"Venture Star Crew Chief\", \"credit_id\": \"52fe48009251416c750aca63\", \"gender\": 2, \"id\": 42317, \"name\": \"Scott Lawrence\", \"order\": 14}, {\"cast_id\": 35, \"character\": \"Lock Up Trooper\", \"credit_id\": \"52fe48009251416c750aca67\", \"gender\": 2, \"id\": 986734, \"name\": \"Kelly Kilgour\", \"order\": 15}, {\"cast_id\": 36, \"character\": \"Shuttle Pilot\", \"credit_id\": \"52fe48009251416c750aca6b\", \"gender\": 0, \"id\": 1207227, \"name\": \"James Patrick Pitt\", \"order\": 16}, {\"cast_id\": 37, \"character\": \"Shuttle Co-Pilot\", \"credit_id\": \"52fe48009251416c750aca6f\", \"gender\": 0, \"id\": 1180936, \"name\": \"Sean Patrick Murphy\", \"order\": 17}, {\"cast_id\": 38, \"character\": \"Shuttle Crew Chief\", \"credit_id\": \"52fe48009251416c750aca73\", \"gender\": 2, \"id\": 1019578, \"name\": \"Peter Dillon\", \"order\": 18}, {\"cast_id\": 39, \"character\": \"Tractor Operator / Troupe\", \"credit_id\": \"52fe48009251416c750aca77\", \"gender\": 0, \"id\": 91443, \"name\": \"Kevin Dorman\", \"order\": 19}, {\"cast_id\": 40, \"character\": \"Dragon Gunship Pilot\", \"credit_id\": \"52fe48009251416c750aca7b\", \"gender\": 2, \"id\": 173391, \"name\": \"Kelson Henderson\", \"order\": 20}, {\"cast_id\": 41, \"character\": \"Dragon Gunship Gunner\", \"credit_id\": \"52fe48009251416c750aca7f\", \"gender\": 0, \"id\": 1207236, \"name\": \"David Van Horn\", \"order\": 21}, {\"cast_id\": 42, \"character\": \"Dragon Gunship Navigator\", \"credit_id\": \"52fe48009251416c750aca83\", \"gender\": 0, \"id\": 215913, \"name\": \"Jacob Tomuri\", \"order\": 22}, {\"cast_id\": 43, \"character\": \"Suit #1\", \"credit_id\": \"52fe48009251416c750aca87\", \"gender\": 0, \"id\": 143206, \"name\": \"Michael Blain-Rozgay\", \"order\": 23}, {\"cast_id\": 44, \"character\": \"Suit #2\", \"credit_id\": \"52fe48009251416c750aca8b\", \"gender\": 2, \"id\": 169676, \"name\": \"Jon Curry\", \"order\": 24}, {\"cast_id\": 46, \"character\": \"Ambient Room Tech\", \"credit_id\": \"52fe48009251416c750aca8f\", \"gender\": 0, \"id\": 1048610, \"name\": \"Luke Hawker\", \"order\": 25}, {\"cast_id\": 47, \"character\": \"Ambient Room Tech / Troupe\", \"credit_id\": \"52fe48009251416c750aca93\", \"gender\": 0, \"id\": 42288, \"name\": \"Woody Schultz\", \"order\": 26}, {\"cast_id\": 48, \"character\": \"Horse Clan Leader\", \"credit_id\": \"52fe48009251416c750aca97\", \"gender\": 2, \"id\": 68278, \"name\": \"Peter Mensah\", \"order\": 27}, {\"cast_id\": 49, \"character\": \"Link Room Tech\", \"credit_id\": \"52fe48009251416c750aca9b\", \"gender\": 0, \"id\": 1207247, \"name\": \"Sonia Yee\", \"order\": 28}, {\"cast_id\": 50, \"character\": \"Basketball Avatar / Troupe\", \"credit_id\": \"52fe48009251416c750aca9f\", \"gender\": 1, \"id\": 1207248, \"name\": \"Jahnel Curfman\", \"order\": 29}, {\"cast_id\": 51, \"character\": \"Basketball Avatar\", \"credit_id\": \"52fe48009251416c750acaa3\", \"gender\": 0, \"id\": 89714, \"name\": \"Ilram Choi\", \"order\": 30}, {\"cast_id\": 52, \"character\": \"Na\\'vi Child\", \"credit_id\": \"52fe48009251416c750acaa7\", \"gender\": 0, \"id\": 1207249, \"name\": \"Kyla Warren\", \"order\": 31}, {\"cast_id\": 53, \"character\": \"Troupe\", \"credit_id\": \"52fe48009251416c750acaab\", \"gender\": 0, \"id\": 1207250, \"name\": \"Lisa Roumain\", \"order\": 32}, {\"cast_id\": 54, \"character\": \"Troupe\", \"credit_id\": \"52fe48009251416c750acaaf\", \"gender\": 1, \"id\": 83105, \"name\": \"Debra Wilson\", \"order\": 33}, {\"cast_id\": 57, \"character\": \"Troupe\", \"credit_id\": \"52fe48009251416c750acabb\", \"gender\": 0, \"id\": 1207253, \"name\": \"Chris Mala\", \"order\": 34}, {\"cast_id\": 55, \"character\": \"Troupe\", \"credit_id\": \"52fe48009251416c750acab3\", \"gender\": 0, \"id\": 1207251, \"name\": \"Taylor Kibby\", \"order\": 35}, {\"cast_id\": 56, \"character\": \"Troupe\", \"credit_id\": \"52fe48009251416c750acab7\", \"gender\": 0, \"id\": 1207252, \"name\": \"Jodie Landau\", \"order\": 36}, {\"cast_id\": 58, \"character\": \"Troupe\", \"credit_id\": \"52fe48009251416c750acabf\", \"gender\": 0, \"id\": 1207254, \"name\": \"Julie Lamm\", \"order\": 37}, {\"cast_id\": 59, \"character\": \"Troupe\", \"credit_id\": \"52fe48009251416c750acac3\", \"gender\": 0, \"id\": 1207257, \"name\": \"Cullen B. Madden\", \"order\": 38}, {\"cast_id\": 60, \"character\": \"Troupe\", \"credit_id\": \"52fe48009251416c750acac7\", \"gender\": 0, \"id\": 1207259, \"name\": \"Joseph Brady Madden\", \"order\": 39}, {\"cast_id\": 61, \"character\": \"Troupe\", \"credit_id\": \"52fe48009251416c750acacb\", \"gender\": 0, \"id\": 1207262, \"name\": \"Frankie Torres\", \"order\": 40}, {\"cast_id\": 62, \"character\": \"Troupe\", \"credit_id\": \"52fe48009251416c750acacf\", \"gender\": 1, \"id\": 1158600, \"name\": \"Austin Wilson\", \"order\": 41}, {\"cast_id\": 63, \"character\": \"Troupe\", \"credit_id\": \"52fe48019251416c750acad3\", \"gender\": 1, \"id\": 983705, \"name\": \"Sara Wilson\", \"order\": 42}, {\"cast_id\": 64, \"character\": \"Troupe\", \"credit_id\": \"52fe48019251416c750acad7\", \"gender\": 0, \"id\": 1207263, \"name\": \"Tamica Washington-Miller\", \"order\": 43}, {\"cast_id\": 65, \"character\": \"Op Center Staff\", \"credit_id\": \"52fe48019251416c750acadb\", \"gender\": 1, \"id\": 1145098, \"name\": \"Lucy Briant\", \"order\": 44}, {\"cast_id\": 66, \"character\": \"Op Center Staff\", \"credit_id\": \"52fe48019251416c750acadf\", \"gender\": 2, \"id\": 33305, \"name\": \"Nathan Meister\", \"order\": 45}, {\"cast_id\": 67, \"character\": \"Op Center Staff\", \"credit_id\": \"52fe48019251416c750acae3\", \"gender\": 0, \"id\": 1207264, \"name\": \"Gerry Blair\", \"order\": 46}, {\"cast_id\": 68, \"character\": \"Op Center Staff\", \"credit_id\": \"52fe48019251416c750acae7\", \"gender\": 2, \"id\": 33311, \"name\": \"Matthew Chamberlain\", \"order\": 47}, {\"cast_id\": 69, \"character\": \"Op Center Staff\", \"credit_id\": \"52fe48019251416c750acaeb\", \"gender\": 0, \"id\": 1207265, \"name\": \"Paul Yates\", \"order\": 48}, {\"cast_id\": 70, \"character\": \"Op Center Duty Officer\", \"credit_id\": \"52fe48019251416c750acaef\", \"gender\": 0, \"id\": 1207266, \"name\": \"Wray Wilson\", \"order\": 49}, {\"cast_id\": 71, \"character\": \"Op Center Staff\", \"credit_id\": \"52fe48019251416c750acaf3\", \"gender\": 2, \"id\": 54492, \"name\": \"James Gaylyn\", \"order\": 50}, {\"cast_id\": 72, \"character\": \"Dancer\", \"credit_id\": \"52fe48019251416c750acaf7\", \"gender\": 0, \"id\": 1207267, \"name\": \"Melvin Leno Clark III\", \"order\": 51}, {\"cast_id\": 73, \"character\": \"Dancer\", \"credit_id\": \"52fe48019251416c750acafb\", \"gender\": 0, \"id\": 1207268, \"name\": \"Carvon Futrell\", \"order\": 52}, {\"cast_id\": 74, \"character\": \"Dancer\", \"credit_id\": \"52fe48019251416c750acaff\", \"gender\": 0, \"id\": 1207269, \"name\": \"Brandon Jelkes\", \"order\": 53}, {\"cast_id\": 75, \"character\": \"Dancer\", \"credit_id\": \"52fe48019251416c750acb03\", \"gender\": 0, \"id\": 1207270, \"name\": \"Micah Moch\", \"order\": 54}, {\"cast_id\": 76, \"character\": \"Dancer\", \"credit_id\": \"52fe48019251416c750acb07\", \"gender\": 0, \"id\": 1207271, \"name\": \"Hanniyah Muhammad\", \"order\": 55}, {\"cast_id\": 77, \"character\": \"Dancer\", \"credit_id\": \"52fe48019251416c750acb0b\", \"gender\": 0, \"id\": 1207272, \"name\": \"Christopher Nolen\", \"order\": 56}, {\"cast_id\": 78, \"character\": \"Dancer\", \"credit_id\": \"52fe48019251416c750acb0f\", \"gender\": 0, \"id\": 1207273, \"name\": \"Christa Oliver\", \"order\": 57}, {\"cast_id\": 79, \"character\": \"Dancer\", \"credit_id\": \"52fe48019251416c750acb13\", \"gender\": 0, \"id\": 1207274, \"name\": \"April Marie Thomas\", \"order\": 58}, {\"cast_id\": 80, \"character\": \"Dancer\", \"credit_id\": \"52fe48019251416c750acb17\", \"gender\": 0, \"id\": 1207275, \"name\": \"Bravita A. Threatt\", \"order\": 59}, {\"cast_id\": 81, \"character\": \"Mining Chief (uncredited)\", \"credit_id\": \"52fe48019251416c750acb1b\", \"gender\": 0, \"id\": 1207276, \"name\": \"Colin Bleasdale\", \"order\": 60}, {\"cast_id\": 82, \"character\": \"Veteran Miner (uncredited)\", \"credit_id\": \"52fe48019251416c750acb1f\", \"gender\": 0, \"id\": 107969, \"name\": \"Mike Bodnar\", \"order\": 61}, {\"cast_id\": 83, \"character\": \"Richard (uncredited)\", \"credit_id\": \"52fe48019251416c750acb23\", \"gender\": 0, \"id\": 1207278, \"name\": \"Matt Clayton\", \"order\": 62}, {\"cast_id\": 84, \"character\": \"Nav\\'i (uncredited)\", \"credit_id\": \"52fe48019251416c750acb27\", \"gender\": 1, \"id\": 147898, \"name\": \"Nicole Dionne\", \"order\": 63}, {\"cast_id\": 85, \"character\": \"Trooper (uncredited)\", \"credit_id\": \"52fe48019251416c750acb2b\", \"gender\": 0, \"id\": 1207280, \"name\": \"Jamie Harrison\", \"order\": 64}, {\"cast_id\": 86, \"character\": \"Trooper (uncredited)\", \"credit_id\": \"52fe48019251416c750acb2f\", \"gender\": 0, \"id\": 1207281, \"name\": \"Allan Henry\", \"order\": 65}, {\"cast_id\": 87, \"character\": \"Ground Technician (uncredited)\", \"credit_id\": \"52fe48019251416c750acb33\", \"gender\": 2, \"id\": 1207282, \"name\": \"Anthony Ingruber\", \"order\": 66}, {\"cast_id\": 88, \"character\": \"Flight Crew Mechanic (uncredited)\", \"credit_id\": \"52fe48019251416c750acb37\", \"gender\": 0, \"id\": 1207283, \"name\": \"Ashley Jeffery\", \"order\": 67}, {\"cast_id\": 14, \"character\": \"Samson Pilot\", \"credit_id\": \"52fe48009251416c750ac9f9\", \"gender\": 0, \"id\": 98216, \"name\": \"Dean Knowsley\", \"order\": 68}, {\"cast_id\": 89, \"character\": \"Trooper (uncredited)\", \"credit_id\": \"52fe48019251416c750acb3b\", \"gender\": 0, \"id\": 1201399, \"name\": \"Joseph Mika-Hunt\", \"order\": 69}, {\"cast_id\": 90, \"character\": \"Banshee (uncredited)\", \"credit_id\": \"52fe48019251416c750acb3f\", \"gender\": 0, \"id\": 236696, \"name\": \"Terry Notary\", \"order\": 70}, {\"cast_id\": 91, \"character\": \"Soldier (uncredited)\", \"credit_id\": \"52fe48019251416c750acb43\", \"gender\": 0, \"id\": 1207287, \"name\": \"Kai Pantano\", \"order\": 71}, {\"cast_id\": 92, \"character\": \"Blast Technician (uncredited)\", \"credit_id\": \"52fe48019251416c750acb47\", \"gender\": 0, \"id\": 1207288, \"name\": \"Logan Pithyou\", \"order\": 72}, {\"cast_id\": 93, \"character\": \"Vindum Raah (uncredited)\", \"credit_id\": \"52fe48019251416c750acb4b\", \"gender\": 0, \"id\": 1207289, \"name\": \"Stuart Pollock\", \"order\": 73}, {\"cast_id\": 94, \"character\": \"Hero (uncredited)\", \"credit_id\": \"52fe48019251416c750acb4f\", \"gender\": 0, \"id\": 584868, \"name\": \"Raja\", \"order\": 74}, {\"cast_id\": 95, \"character\": \"Ops Centreworker (uncredited)\", \"credit_id\": \"52fe48019251416c750acb53\", \"gender\": 0, \"id\": 1207290, \"name\": \"Gareth Ruck\", \"order\": 75}, {\"cast_id\": 96, \"character\": \"Engineer (uncredited)\", \"credit_id\": \"52fe48019251416c750acb57\", \"gender\": 0, \"id\": 1062463, \"name\": \"Rhian Sheehan\", \"order\": 76}, {\"cast_id\": 97, \"character\": \"Col. Quaritch\\'s Mech Suit (uncredited)\", \"credit_id\": \"52fe48019251416c750acb5b\", \"gender\": 0, \"id\": 60656, \"name\": \"T. J. Storm\", \"order\": 77}, {\"cast_id\": 98, \"character\": \"Female Marine (uncredited)\", \"credit_id\": \"52fe48019251416c750acb5f\", \"gender\": 0, \"id\": 1207291, \"name\": \"Jodie Taylor\", \"order\": 78}, {\"cast_id\": 99, \"character\": \"Ikran Clan Leader (uncredited)\", \"credit_id\": \"52fe48019251416c750acb63\", \"gender\": 1, \"id\": 1186027, \"name\": \"Alicia Vela-Bailey\", \"order\": 79}, {\"cast_id\": 100, \"character\": \"Geologist (uncredited)\", \"credit_id\": \"52fe48019251416c750acb67\", \"gender\": 0, \"id\": 1207292, \"name\": \"Richard Whiteside\", \"order\": 80}, {\"cast_id\": 101, \"character\": \"Na\\'vi (uncredited)\", \"credit_id\": \"52fe48019251416c750acb6b\", \"gender\": 0, \"id\": 103259, \"name\": \"Nikie Zambo\", \"order\": 81}, {\"cast_id\": 102, \"character\": \"Ambient Room Tech / Troupe\", \"credit_id\": \"52fe48019251416c750acb6f\", \"gender\": 1, \"id\": 42286, \"name\": \"Julene Renee\", \"order\": 82}]',\n",
       "       '[{\"cast_id\": 4, \"character\": \"Captain Jack Sparrow\", \"credit_id\": \"52fe4232c3a36847f800b50d\", \"gender\": 2, \"id\": 85, \"name\": \"Johnny Depp\", \"order\": 0}, {\"cast_id\": 5, \"character\": \"Will Turner\", \"credit_id\": \"52fe4232c3a36847f800b511\", \"gender\": 2, \"id\": 114, \"name\": \"Orlando Bloom\", \"order\": 1}, {\"cast_id\": 6, \"character\": \"Elizabeth Swann\", \"credit_id\": \"52fe4232c3a36847f800b515\", \"gender\": 1, \"id\": 116, \"name\": \"Keira Knightley\", \"order\": 2}, {\"cast_id\": 12, \"character\": \"William \\\\\"Bootstrap Bill\\\\\" Turner\", \"credit_id\": \"52fe4232c3a36847f800b52d\", \"gender\": 2, \"id\": 1640, \"name\": \"Stellan Skarsg\\\\u00e5rd\", \"order\": 3}, {\"cast_id\": 10, \"character\": \"Captain Sao Feng\", \"credit_id\": \"52fe4232c3a36847f800b525\", \"gender\": 2, \"id\": 1619, \"name\": \"Chow Yun-fat\", \"order\": 4}, {\"cast_id\": 9, \"character\": \"Captain Davy Jones\", \"credit_id\": \"52fe4232c3a36847f800b521\", \"gender\": 2, \"id\": 2440, \"name\": \"Bill Nighy\", \"order\": 5}, {\"cast_id\": 7, \"character\": \"Captain Hector Barbossa\", \"credit_id\": \"52fe4232c3a36847f800b519\", \"gender\": 2, \"id\": 118, \"name\": \"Geoffrey Rush\", \"order\": 6}, {\"cast_id\": 14, \"character\": \"Admiral James Norrington\", \"credit_id\": \"52fe4232c3a36847f800b535\", \"gender\": 2, \"id\": 1709, \"name\": \"Jack Davenport\", \"order\": 7}, {\"cast_id\": 13, \"character\": \"Joshamee Gibbs\", \"credit_id\": \"52fe4232c3a36847f800b531\", \"gender\": 2, \"id\": 2449, \"name\": \"Kevin McNally\", \"order\": 8}, {\"cast_id\": 11, \"character\": \"Lord Cutler Beckett\", \"credit_id\": \"52fe4232c3a36847f800b529\", \"gender\": 2, \"id\": 2441, \"name\": \"Tom Hollander\", \"order\": 9}, {\"cast_id\": 19, \"character\": \"Tia Dalma\", \"credit_id\": \"52fe4232c3a36847f800b549\", \"gender\": 1, \"id\": 2038, \"name\": \"Naomie Harris\", \"order\": 10}, {\"cast_id\": 8, \"character\": \"Governor Weatherby Swann\", \"credit_id\": \"52fe4232c3a36847f800b51d\", \"gender\": 2, \"id\": 378, \"name\": \"Jonathan Pryce\", \"order\": 11}, {\"cast_id\": 37, \"character\": \"Captain Teague Sparrow\", \"credit_id\": \"52fe4232c3a36847f800b5b3\", \"gender\": 2, \"id\": 1430, \"name\": \"Keith Richards\", \"order\": 12}, {\"cast_id\": 16, \"character\": \"Pintel\", \"credit_id\": \"52fe4232c3a36847f800b53d\", \"gender\": 2, \"id\": 1710, \"name\": \"Lee Arenberg\", \"order\": 13}, {\"cast_id\": 15, \"character\": \"Ragetti\", \"credit_id\": \"52fe4232c3a36847f800b539\", \"gender\": 2, \"id\": 1711, \"name\": \"Mackenzie Crook\", \"order\": 14}, {\"cast_id\": 18, \"character\": \"Lieutenant Theodore Groves\", \"credit_id\": \"52fe4232c3a36847f800b545\", \"gender\": 2, \"id\": 4031, \"name\": \"Greg Ellis\", \"order\": 15}, {\"cast_id\": 55, \"character\": \"Cotton\", \"credit_id\": \"57e28d2ec3a3681a01005b5c\", \"gender\": 2, \"id\": 1715, \"name\": \"David Bailie\", \"order\": 16}, {\"cast_id\": 17, \"character\": \"Marty\", \"credit_id\": \"52fe4232c3a36847f800b541\", \"gender\": 2, \"id\": 4030, \"name\": \"Martin Klebba\", \"order\": 17}, {\"cast_id\": 57, \"character\": \"Ian Mercer\", \"credit_id\": \"57e28d78c3a36808b900bf4f\", \"gender\": 0, \"id\": 939, \"name\": \"David Schofield\", \"order\": 18}, {\"cast_id\": 62, \"character\": \"Scarlett\", \"credit_id\": \"57e28ec5c3a3681a50005855\", \"gender\": 1, \"id\": 2450, \"name\": \"Lauren Maher\", \"order\": 19}, {\"cast_id\": 63, \"character\": \"Giselle\", \"credit_id\": \"57e28ed692514123f5005635\", \"gender\": 1, \"id\": 2452, \"name\": \"Vanessa Branch\", \"order\": 20}, {\"cast_id\": 60, \"character\": \"Mullroy\", \"credit_id\": \"57e28db2c3a3681a01005bc7\", \"gender\": 2, \"id\": 1714, \"name\": \"Angus Barnett\", \"order\": 21}, {\"cast_id\": 59, \"character\": \"Murtogg\", \"credit_id\": \"57e28da192514118f7006008\", \"gender\": 0, \"id\": 1713, \"name\": \"Giles New\", \"order\": 22}, {\"cast_id\": 58, \"character\": \"Tai Huang\", \"credit_id\": \"57e28d8ec3a3681a01005bab\", \"gender\": 2, \"id\": 22075, \"name\": \"Reggie Lee\", \"order\": 23}, {\"cast_id\": 64, \"character\": \"Henry Turner\", \"credit_id\": \"57e29119925141151100a6cc\", \"gender\": 2, \"id\": 61259, \"name\": \"Dominic Scott Kay\", \"order\": 24}, {\"cast_id\": 39, \"character\": \"Mistress Ching\", \"credit_id\": \"52fe4232c3a36847f800b5bd\", \"gender\": 1, \"id\": 33500, \"name\": \"Takayo Fischer\", \"order\": 25}, {\"cast_id\": 40, \"character\": \"Lieutenant Greitzer\", \"credit_id\": \"52fe4232c3a36847f800b5c1\", \"gender\": 2, \"id\": 1224149, \"name\": \"David Meunier\", \"order\": 26}, {\"cast_id\": 49, \"character\": \"Hadras\", \"credit_id\": \"56d1871c92514174680010cf\", \"gender\": 2, \"id\": 429401, \"name\": \"Ho-Kwan Tse\", \"order\": 27}, {\"cast_id\": 56, \"character\": \"Clacker\", \"credit_id\": \"57e28d4b92514125710055cb\", \"gender\": 0, \"id\": 1123, \"name\": \"Andy Beckwith\", \"order\": 28}, {\"cast_id\": 51, \"character\": \"Penrod\", \"credit_id\": \"56ec8c14c3a3682260003c53\", \"gender\": 2, \"id\": 1056117, \"name\": \"Peter Donald Badalamenti II\", \"order\": 29}, {\"cast_id\": 61, \"character\": \"Cotton\\'s Parrot (voice)\", \"credit_id\": \"57e28dcc9251412463005678\", \"gender\": 2, \"id\": 21700, \"name\": \"Christopher S. Capp\", \"order\": 30}, {\"cast_id\": 65, \"character\": \"Captain Teague\", \"credit_id\": \"58bc2a37c3a368663003740b\", \"gender\": 2, \"id\": 1430, \"name\": \"Keith Richards\", \"order\": 31}, {\"cast_id\": 66, \"character\": \"Captain Jocard\", \"credit_id\": \"58bc2a8e925141609e03a179\", \"gender\": 2, \"id\": 2603, \"name\": \"Hakeem Kae-Kazim\", \"order\": 32}, {\"cast_id\": 67, \"character\": \"Captain Ammand\", \"credit_id\": \"58e2a21ac3a36872af00f9c2\", \"gender\": 0, \"id\": 70577, \"name\": \"Ghassan Massoud\", \"order\": 33}]',\n",
       "       '[{\"cast_id\": 1, \"character\": \"James Bond\", \"credit_id\": \"52fe4d22c3a368484e1d8d6b\", \"gender\": 2, \"id\": 8784, \"name\": \"Daniel Craig\", \"order\": 0}, {\"cast_id\": 14, \"character\": \"Blofeld\", \"credit_id\": \"54805866c3a36829ab002592\", \"gender\": 2, \"id\": 27319, \"name\": \"Christoph Waltz\", \"order\": 1}, {\"cast_id\": 13, \"character\": \"Madeleine\", \"credit_id\": \"546f934fc3a3682f9a002ca5\", \"gender\": 1, \"id\": 121529, \"name\": \"L\\\\u00e9a Seydoux\", \"order\": 2}, {\"cast_id\": 10, \"character\": \"M\", \"credit_id\": \"53e86503c3a368399c0031f0\", \"gender\": 2, \"id\": 5469, \"name\": \"Ralph Fiennes\", \"order\": 3}, {\"cast_id\": 17, \"character\": \"Lucia\", \"credit_id\": \"54805920c3a36829ae0022c5\", \"gender\": 1, \"id\": 28782, \"name\": \"Monica Bellucci\", \"order\": 4}, {\"cast_id\": 8, \"character\": \"Q\", \"credit_id\": \"52fe4d22c3a368484e1d8d87\", \"gender\": 2, \"id\": 17064, \"name\": \"Ben Whishaw\", \"order\": 5}, {\"cast_id\": 11, \"character\": \"Moneypenny\", \"credit_id\": \"53e8650cc3a368399c0031f4\", \"gender\": 1, \"id\": 2038, \"name\": \"Naomie Harris\", \"order\": 6}, {\"cast_id\": 16, \"character\": \"Hinx\", \"credit_id\": \"5480590f9251416e7b0022f4\", \"gender\": 2, \"id\": 543530, \"name\": \"Dave Bautista\", \"order\": 7}, {\"cast_id\": 15, \"character\": \"C\", \"credit_id\": \"548058ffc3a36829a7002511\", \"gender\": 2, \"id\": 125660, \"name\": \"Andrew Scott\", \"order\": 8}, {\"cast_id\": 19, \"character\": \"Tanner\", \"credit_id\": \"5480593cc3a36829ae0022ca\", \"gender\": 2, \"id\": 139549, \"name\": \"Rory Kinnear\", \"order\": 9}, {\"cast_id\": 23, \"character\": \"Mr. White\", \"credit_id\": \"5517b3849251416f0d0032c8\", \"gender\": 2, \"id\": 2244, \"name\": \"Jesper Christensen\", \"order\": 10}, {\"cast_id\": 24, \"character\": \"Marco Sciarra\", \"credit_id\": \"5517b398c3a36862fc002df6\", \"gender\": 0, \"id\": 1381616, \"name\": \"Alessandro Cremona\", \"order\": 11}, {\"cast_id\": 25, \"character\": \"Estrella\", \"credit_id\": \"5517b3c49251412c1e00180b\", \"gender\": 1, \"id\": 929937, \"name\": \"Stephanie Sigman\", \"order\": 12}, {\"cast_id\": 49, \"character\": \"Mexican Man in Lift\", \"credit_id\": \"5664561cc3a3682bd0007fc8\", \"gender\": 0, \"id\": 87265, \"name\": \"Tenoch Huerta\", \"order\": 13}, {\"cast_id\": 50, \"character\": \"Mexican Woman in Lift\", \"credit_id\": \"5664561dc3a3682be9008dc6\", \"gender\": 1, \"id\": 983710, \"name\": \"Adriana Paz\", \"order\": 14}, {\"cast_id\": 180, \"character\": \"Gallo\", \"credit_id\": \"56fddbacc3a36821b6000aca\", \"gender\": 2, \"id\": 1385592, \"name\": \"Domenico Fortunato\", \"order\": 15}, {\"cast_id\": 51, \"character\": \"Gallo\\'s Accomplice\", \"credit_id\": \"5664561dc3a3682bd8008fbe\", \"gender\": 0, \"id\": 1545546, \"name\": \"Marco Zingaro\", \"order\": 16}, {\"cast_id\": 52, \"character\": \"Gallo\\'s Accomplice\", \"credit_id\": \"5664561d9251412ad300870b\", \"gender\": 2, \"id\": 1545547, \"name\": \"Stefano Elfi DiClaudia\", \"order\": 17}, {\"cast_id\": 181, \"character\": \"Q\\'s Assistant\", \"credit_id\": \"56fddc319251412a4d0009f9\", \"gender\": 0, \"id\": 122556, \"name\": \"Ian Bonar\", \"order\": 18}, {\"cast_id\": 182, \"character\": \"Moneypenny\\'s Boyfriend\", \"credit_id\": \"56fddc66c3a36821b6000b04\", \"gender\": 2, \"id\": 1599239, \"name\": \"Tam Williams\", \"order\": 19}, {\"cast_id\": 183, \"character\": \"Blofeld\\'s London Helicopter Pilot\", \"credit_id\": \"56fddc989251412a56000a85\", \"gender\": 2, \"id\": 1599241, \"name\": \"Richard Banham\", \"order\": 20}, {\"cast_id\": 184, \"character\": \"SC019 Police Commander\", \"credit_id\": \"56fddccf9251412a4b000b5d\", \"gender\": 2, \"id\": 230681, \"name\": \"Pip Carter\", \"order\": 21}, {\"cast_id\": 185, \"character\": \"SC019 Police Officer\", \"credit_id\": \"56fddce6c3a36821ae000b45\", \"gender\": 2, \"id\": 30446, \"name\": \"Simon Lenagan\", \"order\": 22}, {\"cast_id\": 27, \"character\": \"Priest\", \"credit_id\": \"5517b4f69251416efe003370\", \"gender\": 2, \"id\": 48377, \"name\": \"Alessandro Bressanello\", \"order\": 23}, {\"cast_id\": 38, \"character\": \"Moreau\", \"credit_id\": \"56486811c3a3682605006adc\", \"gender\": 0, \"id\": 578512, \"name\": \"Marc Zinga\", \"order\": 24}, {\"cast_id\": 39, \"character\": \"Vogel\", \"credit_id\": \"56486820c3a368261a006de7\", \"gender\": 0, \"id\": 1093974, \"name\": \"Brigitte Millar\", \"order\": 25}, {\"cast_id\": 41, \"character\": \"Abrika\", \"credit_id\": \"564868a09251413ad7006da5\", \"gender\": 2, \"id\": 89624, \"name\": \"Adel Bencherif\", \"order\": 26}, {\"cast_id\": 186, \"character\": \"Blofeld\\'s Right Hand Man\", \"credit_id\": \"56fddd5a9251412a42000b52\", \"gender\": 2, \"id\": 1129783, \"name\": \"Gediminas Adomaitis\", \"order\": 27}, {\"cast_id\": 42, \"character\": \"Lorenzo\", \"credit_id\": \"564868c5c3a368260c006ee4\", \"gender\": 0, \"id\": 226388, \"name\": \"Peppe Lanzetta\", \"order\": 28}, {\"cast_id\": 187, \"character\": \"Francesco\", \"credit_id\": \"56fddd9cc3a36821a4000b5b\", \"gender\": 2, \"id\": 1299312, \"name\": \"Francesco Arca\", \"order\": 29}, {\"cast_id\": 188, \"character\": \"Marco\", \"credit_id\": \"56fdddb79251412a50000aad\", \"gender\": 2, \"id\": 124628, \"name\": \"Matteo Taranto\", \"order\": 30}, {\"cast_id\": 189, \"character\": \"Palazzo Security\", \"credit_id\": \"56fdddd69251412a56000ac6\", \"gender\": 2, \"id\": 1562103, \"name\": \"Emilio Aniba\", \"order\": 31}, {\"cast_id\": 190, \"character\": \"Guerra\", \"credit_id\": \"56fdddf19251412a50000ac1\", \"gender\": 2, \"id\": 1474616, \"name\": \"Benito Sagredo\", \"order\": 32}, {\"cast_id\": 191, \"character\": \"Businessman\", \"credit_id\": \"56fdde0d9251416cc200004c\", \"gender\": 2, \"id\": 1247684, \"name\": \"Dai Tabuchi\", \"order\": 33}, {\"cast_id\": 192, \"character\": \"Businessman\", \"credit_id\": \"56fdde1bc3a36821b1000ba8\", \"gender\": 2, \"id\": 1599245, \"name\": \"George Lasha\", \"order\": 34}, {\"cast_id\": 193, \"character\": \"Businessman\", \"credit_id\": \"56fdde259251412a42000b93\", \"gender\": 0, \"id\": 1599247, \"name\": \"Sargon Yelda\", \"order\": 35}, {\"cast_id\": 194, \"character\": \"Businessman\", \"credit_id\": \"56fdde9fc3a36821b6000ba0\", \"gender\": 2, \"id\": 1599251, \"name\": \"Andy Cheung\", \"order\": 36}, {\"cast_id\": 195, \"character\": \"Marshall\", \"credit_id\": \"56fddeb29251412a50000af4\", \"gender\": 2, \"id\": 1599252, \"name\": \"Erick Hayden\", \"order\": 37}, {\"cast_id\": 196, \"character\": \"Valerian\", \"credit_id\": \"56fddec8c3a36821ab000c19\", \"gender\": 2, \"id\": 1599253, \"name\": \"Oleg Mirochnikov\", \"order\": 38}, {\"cast_id\": 197, \"character\": \"Fiat Driver\", \"credit_id\": \"56fddef89251412a47000a79\", \"gender\": 2, \"id\": 123548, \"name\": \"Antonio Salines\", \"order\": 39}, {\"cast_id\": 198, \"character\": \"Street Sweeper\", \"credit_id\": \"56fddf109251416cc2000086\", \"gender\": 2, \"id\": 1599254, \"name\": \"Miloud Mourad Benamara\", \"order\": 40}, {\"cast_id\": 199, \"character\": \"Chairman\", \"credit_id\": \"56fddf4a9251412a42000bcf\", \"gender\": 2, \"id\": 1599255, \"name\": \"Gido Schimanski\", \"order\": 41}, {\"cast_id\": 200, \"character\": \"Head of Nation\", \"credit_id\": \"56fddf69c3a36821a7000b12\", \"gender\": 0, \"id\": 1404403, \"name\": \"Nigel Barber\", \"order\": 42}, {\"cast_id\": 201, \"character\": \"Head of Nation\", \"credit_id\": \"56fddf7fc3a36821b1000c0d\", \"gender\": 2, \"id\": 74415, \"name\": \"Patrice Naiambana\", \"order\": 43}, {\"cast_id\": 202, \"character\": \"Head of Nation\", \"credit_id\": \"56fddf89c3a368219d000adb\", \"gender\": 2, \"id\": 1599256, \"name\": \"Stephane Cornicard\", \"order\": 44}, {\"cast_id\": 203, \"character\": \"Head of Nation\", \"credit_id\": \"56fddf929251412a56000b29\", \"gender\": 2, \"id\": 1599257, \"name\": \"Gary Fannin\", \"order\": 45}, {\"cast_id\": 204, \"character\": \"Head of Nation\", \"credit_id\": \"56fddf9cc3a36821ae000be1\", \"gender\": 2, \"id\": 1599258, \"name\": \"Sadao Ueda\", \"order\": 46}, {\"cast_id\": 205, \"character\": \"Head of Nation\", \"credit_id\": \"56fddfb99251412a50000b30\", \"gender\": 0, \"id\": 1599259, \"name\": \"Phillip Law\", \"order\": 47}, {\"cast_id\": 206, \"character\": \"Head of Nation\", \"credit_id\": \"56fddfef9251412a54000ba8\", \"gender\": 2, \"id\": 1599260, \"name\": \"Wai Wong\", \"order\": 48}, {\"cast_id\": 207, \"character\": \"Head of Nation\", \"credit_id\": \"56fde0179251412a47000ac2\", \"gender\": 2, \"id\": 1477143, \"name\": \"Joseph Balderrama\", \"order\": 49}, {\"cast_id\": 208, \"character\": \"Aide\", \"credit_id\": \"56fde0809251416cc20000cb\", \"gender\": 2, \"id\": 1599261, \"name\": \"Eiji Mihara\", \"order\": 50}, {\"cast_id\": 209, \"character\": \"Aide\", \"credit_id\": \"56fde0a49251412a47000ae0\", \"gender\": 2, \"id\": 1168129, \"name\": \"Junichi Kajioka\", \"order\": 51}, {\"cast_id\": 40, \"character\": \"Clinic Barman\", \"credit_id\": \"56486850c3a368260c006ecf\", \"gender\": 0, \"id\": 48393, \"name\": \"Victor Schef\\\\u00e9\", \"order\": 52}, {\"cast_id\": 210, \"character\": \"Clinic Security Guard\", \"credit_id\": \"56fde0f19251412a42000c28\", \"gender\": 2, \"id\": 1437333, \"name\": \"Harald Windisch\", \"order\": 53}, {\"cast_id\": 211, \"character\": \"Clinic Security Guard\", \"credit_id\": \"56fde118c3a36821a4000c3c\", \"gender\": 2, \"id\": 1599262, \"name\": \"Tristan Matthiae\", \"order\": 54}, {\"cast_id\": 177, \"character\": \"Cable Car Heavy\", \"credit_id\": \"5696db21c3a3683af90002d6\", \"gender\": 2, \"id\": 14637, \"name\": \"Detlef Bothe\", \"order\": 55}, {\"cast_id\": 212, \"character\": \"Cable Car Heavy\", \"credit_id\": \"56fde128c3a368219d000b4f\", \"gender\": 2, \"id\": 1599263, \"name\": \"Bodo Friesecke\", \"order\": 56}, {\"cast_id\": 213, \"character\": \"Syringe Heavy\", \"credit_id\": \"56fde1769251412a54000c0b\", \"gender\": 2, \"id\": 1599264, \"name\": \"Wilhem Iben\", \"order\": 57}, {\"cast_id\": 214, \"character\": \"Snowboarder\", \"credit_id\": \"56fde1849251412a42000c4d\", \"gender\": 1, \"id\": 1599265, \"name\": \"Noemi Krausz\", \"order\": 58}, {\"cast_id\": 215, \"character\": \"Snowboarder\", \"credit_id\": \"56fde18dc3a36821b6000c4f\", \"gender\": 2, \"id\": 1599266, \"name\": \"Noah Saavedra\", \"order\": 59}, {\"cast_id\": 216, \"character\": \"Snowboarder\", \"credit_id\": \"56fde1989251412a54000c16\", \"gender\": 0, \"id\": 1599267, \"name\": \"Francis Attakpah\", \"order\": 60}, {\"cast_id\": 217, \"character\": \"Snowboarder\", \"credit_id\": \"56fde1a39251412a42000c58\", \"gender\": 2, \"id\": 1599268, \"name\": \"Michael Glantschnig\", \"order\": 61}, {\"cast_id\": 218, \"character\": \"Snowboarder\", \"credit_id\": \"56fde1aec3a36821ab000cbf\", \"gender\": 2, \"id\": 1599269, \"name\": \"Marlon Boess\", \"order\": 62}, {\"cast_id\": 219, \"character\": \"Snowboarder\", \"credit_id\": \"56fde1b8c3a36821ae000c62\", \"gender\": 1, \"id\": 1599270, \"name\": \"Marie Wohlmuth\", \"order\": 63}, {\"cast_id\": 220, \"character\": \"Snowboarder\", \"credit_id\": \"56fde1c1c3a36821b1000c9c\", \"gender\": 1, \"id\": 1599271, \"name\": \"Lili Epply\", \"order\": 64}, {\"cast_id\": 221, \"character\": \"Snowboarder\", \"credit_id\": \"56fde1cbc3a36821a7000baf\", \"gender\": 2, \"id\": 1599272, \"name\": \"Konstantin Gerlach\", \"order\": 65}, {\"cast_id\": 222, \"character\": \"L\\'Americain Manater\", \"credit_id\": \"56fde24c9251412a45000bfb\", \"gender\": 1, \"id\": 1102369, \"name\": \"Lara Parmiani\", \"order\": 66}, {\"cast_id\": 223, \"character\": \"Train Guard\", \"credit_id\": \"56fde2679251412a54000c42\", \"gender\": 2, \"id\": 1372694, \"name\": \"Umit Ulgen\", \"order\": 67}, {\"cast_id\": 224, \"character\": \"Train Waiter\", \"credit_id\": \"56fde2869251412a50000bf1\", \"gender\": 2, \"id\": 1363060, \"name\": \"Amra Mallassi\", \"order\": 68}, {\"cast_id\": 225, \"character\": \"Train Barman\", \"credit_id\": \"56fde2969251412a45000c15\", \"gender\": 2, \"id\": 1599275, \"name\": \"Ziad Abaza\", \"order\": 69}, {\"cast_id\": 226, \"character\": \"Blofeld\\'s Chauffeur\", \"credit_id\": \"56fde2a79251412a54000c55\", \"gender\": 2, \"id\": 1599276, \"name\": \"Walid Mumuni\", \"order\": 70}, {\"cast_id\": 227, \"character\": \"Blofeld\\'s Guard\", \"credit_id\": \"56fde2eb9251416cc200015b\", \"gender\": 0, \"id\": 1599277, \"name\": \"Derek Horsham\", \"order\": 71}, {\"cast_id\": 228, \"character\": \"Blofeld\\'s Guard\", \"credit_id\": \"56fde3059251412a47000b6a\", \"gender\": 2, \"id\": 229320, \"name\": \"Nari Blair-Mangat\", \"order\": 72}, {\"cast_id\": 229, \"character\": \"Blofeld\\'s Butler\", \"credit_id\": \"56fde321c3a36821ab000d32\", \"gender\": 0, \"id\": 1599278, \"name\": \"Michael White\", \"order\": 73}, {\"cast_id\": 230, \"character\": \"Blofeld\\'s Waiter\", \"credit_id\": \"56fde34c9251412a56000c21\", \"gender\": 0, \"id\": 1599279, \"name\": \"Adam McGrady\", \"order\": 74}, {\"cast_id\": 231, \"character\": \"Blofeld\\'s Analyst\", \"credit_id\": \"56fde36d9251412a50000c2b\", \"gender\": 2, \"id\": 1436816, \"name\": \"Nader Dernaika\", \"order\": 75}, {\"cast_id\": 232, \"character\": \"Blofeld\\'s Chief Analyst\", \"credit_id\": \"56fde37f9251412a4b000cf7\", \"gender\": 2, \"id\": 1599280, \"name\": \"Pezhmaan Alinia\", \"order\": 76}, {\"cast_id\": 31, \"character\": \"M (uncredited)\", \"credit_id\": \"562f218fc3a3681b5200c9e5\", \"gender\": 1, \"id\": 5309, \"name\": \"Judi Dench\", \"order\": 77}, {\"cast_id\": 26, \"character\": \"Clinic Patron (uncredited)\", \"credit_id\": \"5517b4bbc3a3686302002f36\", \"gender\": 1, \"id\": 1186597, \"name\": \"Neve Gachev\", \"order\": 78}, {\"cast_id\": 245, \"character\": \"Businessman (uncredited)\", \"credit_id\": \"57e11a3e92514104570052ba\", \"gender\": 2, \"id\": 1654739, \"name\": \"Karl Farrer\", \"order\": 79}, {\"cast_id\": 246, \"character\": \"Lair Staff (uncredited)\", \"credit_id\": \"57e124d992514104530055ec\", \"gender\": 1, \"id\": 1682535, \"name\": \"Kim Adis\", \"order\": 80}, {\"cast_id\": 247, \"character\": \"Mexican Sprite (uncredited)\", \"credit_id\": \"57e125ccc3a36853f2005365\", \"gender\": 1, \"id\": 1682536, \"name\": \"Maurisa Selene Coleman\", \"order\": 81}, {\"cast_id\": 249, \"character\": \"Pilot David\", \"credit_id\": \"585ab69fc3a3682fb8091219\", \"gender\": 2, \"id\": 1725801, \"name\": \"Matija Mondi Matovi\\\\u0107\", \"order\": 82}]',\n",
       "       ...,\n",
       "       '[{\"cast_id\": 8, \"character\": \"Oliver O\\\\u2019Toole\", \"credit_id\": \"52fe4df3c3a36847f8275ed3\", \"gender\": 2, \"id\": 11867, \"name\": \"Eric Mabius\", \"order\": 0}, {\"cast_id\": 9, \"character\": \"Shane McInerney\", \"credit_id\": \"52fe4df3c3a36847f8275ed7\", \"gender\": 1, \"id\": 34915, \"name\": \"Kristin Booth\", \"order\": 1}, {\"cast_id\": 11, \"character\": \"Rita Haywith\", \"credit_id\": \"52fe4df3c3a36847f8275edf\", \"gender\": 1, \"id\": 58393, \"name\": \"Crystal Lowe\", \"order\": 2}, {\"cast_id\": 12, \"character\": \"Norman Dorman\", \"credit_id\": \"52fe4df3c3a36847f8275ee3\", \"gender\": 0, \"id\": 119810, \"name\": \"Geoff Gustafson\", \"order\": 3}, {\"cast_id\": 14, \"character\": \"Charlie Riggs\", \"credit_id\": \"52fe4df3c3a36847f8275eeb\", \"gender\": 2, \"id\": 77865, \"name\": \"Benjamin Hollingsworth\", \"order\": 4}, {\"cast_id\": 13, \"character\": \"Kelly\", \"credit_id\": \"52fe4df3c3a36847f8275ee7\", \"gender\": 1, \"id\": 1037844, \"name\": \"Laci J Mailey\", \"order\": 5}, {\"cast_id\": 10, \"character\": \"Andrea Shmeckle\", \"credit_id\": \"52fe4df3c3a36847f8275edb\", \"gender\": 1, \"id\": 14668, \"name\": \"Daphne Zuniga\", \"order\": 6}]',\n",
       "       '[{\"cast_id\": 3, \"character\": \"Sam\", \"credit_id\": \"52fe4ad9c3a368484e16a375\", \"gender\": 2, \"id\": 82093, \"name\": \"Daniel Henney\", \"order\": 0}, {\"cast_id\": 4, \"character\": \"Amanda\", \"credit_id\": \"52fe4ad9c3a368484e16a379\", \"gender\": 1, \"id\": 210050, \"name\": \"Eliza Coupe\", \"order\": 1}, {\"cast_id\": 5, \"character\": \"Donald\", \"credit_id\": \"52fe4ad9c3a368484e16a37d\", \"gender\": 2, \"id\": 2053, \"name\": \"Bill Paxton\", \"order\": 2}, {\"cast_id\": 6, \"character\": \"Marcus Groff\", \"credit_id\": \"52fe4ad9c3a368484e16a381\", \"gender\": 2, \"id\": 2394, \"name\": \"Alan Ruck\", \"order\": 3}, {\"cast_id\": 7, \"character\": \"\", \"credit_id\": \"548347219251416e7b0081f7\", \"gender\": 0, \"id\": 1395490, \"name\": \"Zhu Shimao\", \"order\": 4}]',\n",
       "       '[{\"cast_id\": 3, \"character\": \"Herself\", \"credit_id\": \"52fe44e8c3a368484e03da91\", \"gender\": 1, \"id\": 69597, \"name\": \"Drew Barrymore\", \"order\": 0}, {\"cast_id\": 5, \"character\": \"Himself\", \"credit_id\": \"58ce01169251415a3901648f\", \"gender\": 2, \"id\": 85563, \"name\": \"Brian Herzlinger\", \"order\": 1}, {\"cast_id\": 6, \"character\": \"Himself\", \"credit_id\": \"58ce01339251415a410167f0\", \"gender\": 2, \"id\": 3034, \"name\": \"Corey Feldman\", \"order\": 2}, {\"cast_id\": 8, \"character\": \"Himself\", \"credit_id\": \"58ce018c9251415a7d016e36\", \"gender\": 2, \"id\": 21315, \"name\": \"Eric Roberts\", \"order\": 3}, {\"cast_id\": 9, \"character\": \"Himself\", \"credit_id\": \"58ce01b99251415a7d016e7d\", \"gender\": 0, \"id\": 2171, \"name\": \"Griffin Dunne\", \"order\": 4}, {\"cast_id\": 10, \"character\": \"Himself\", \"credit_id\": \"58ce01d19251415a8b0168be\", \"gender\": 2, \"id\": 2231, \"name\": \"Samuel L. Jackson\", \"order\": 5}, {\"cast_id\": 11, \"character\": \"Himself\", \"credit_id\": \"58ce01dd9251415a39016580\", \"gender\": 2, \"id\": 14407, \"name\": \"Matt LeBlanc\", \"order\": 6}, {\"cast_id\": 7, \"character\": \"Himself\", \"credit_id\": \"58ce0164c3a3685104015b28\", \"gender\": 2, \"id\": 155007, \"name\": \"Bill D\\'Elia\", \"order\": 7}]'],\n",
       "      dtype=object)"
      ]
     },
     "execution_count": 32,
     "metadata": {},
     "output_type": "execute_result"
    }
   ],
   "source": [
    "# now we want the top 3 dictionaries from the cast column\n",
    "movies['cast'].values"
   ]
  },
  {
   "cell_type": "code",
   "execution_count": 33,
   "id": "f724b40d-6726-49b0-83e4-d63b66fe9e95",
   "metadata": {},
   "outputs": [],
   "source": [
    "def convert(obj):\n",
    "    L = []\n",
    "    counter = 0\n",
    "    for i in ast.literal_eval(obj):\n",
    "        if counter!=3:\n",
    "            L.append(i['name'])\n",
    "            counter+=1\n",
    "        else:\n",
    "            break\n",
    "    return L"
   ]
  },
  {
   "cell_type": "code",
   "execution_count": 34,
   "id": "6a2e6a27-9017-4389-b636-f53130fda15e",
   "metadata": {},
   "outputs": [
    {
     "data": {
      "text/plain": [
       "0        [Sam Worthington, Zoe Saldana, Sigourney Weaver]\n",
       "1           [Johnny Depp, Orlando Bloom, Keira Knightley]\n",
       "2            [Daniel Craig, Christoph Waltz, Léa Seydoux]\n",
       "3            [Christian Bale, Michael Caine, Gary Oldman]\n",
       "4          [Taylor Kitsch, Lynn Collins, Samantha Morton]\n",
       "                              ...                        \n",
       "4804    [Carlos Gallardo, Jaime de Hoyos, Peter Marqua...\n",
       "4805         [Edward Burns, Kerry Bishé, Marsha Dietlein]\n",
       "4806           [Eric Mabius, Kristin Booth, Crystal Lowe]\n",
       "4807            [Daniel Henney, Eliza Coupe, Bill Paxton]\n",
       "4808    [Drew Barrymore, Brian Herzlinger, Corey Feldman]\n",
       "Name: cast, Length: 4806, dtype: object"
      ]
     },
     "execution_count": 34,
     "metadata": {},
     "output_type": "execute_result"
    }
   ],
   "source": [
    "movies['cast'].apply(convert)"
   ]
  },
  {
   "cell_type": "code",
   "execution_count": 35,
   "id": "0bba33e3-e562-4d99-8e0e-1749b233867b",
   "metadata": {},
   "outputs": [],
   "source": [
    "movies['cast']= movies['cast'].apply(convert)"
   ]
  },
  {
   "cell_type": "code",
   "execution_count": 36,
   "id": "67c623dd-cb42-40c3-9499-4d152e79c156",
   "metadata": {},
   "outputs": [
    {
     "data": {
      "text/html": [
       "<div>\n",
       "<style scoped>\n",
       "    .dataframe tbody tr th:only-of-type {\n",
       "        vertical-align: middle;\n",
       "    }\n",
       "\n",
       "    .dataframe tbody tr th {\n",
       "        vertical-align: top;\n",
       "    }\n",
       "\n",
       "    .dataframe thead th {\n",
       "        text-align: right;\n",
       "    }\n",
       "</style>\n",
       "<table border=\"1\" class=\"dataframe\">\n",
       "  <thead>\n",
       "    <tr style=\"text-align: right;\">\n",
       "      <th></th>\n",
       "      <th>movie_id</th>\n",
       "      <th>title</th>\n",
       "      <th>overview</th>\n",
       "      <th>genres</th>\n",
       "      <th>keywords</th>\n",
       "      <th>cast</th>\n",
       "      <th>crew</th>\n",
       "    </tr>\n",
       "  </thead>\n",
       "  <tbody>\n",
       "    <tr>\n",
       "      <th>0</th>\n",
       "      <td>19995</td>\n",
       "      <td>Avatar</td>\n",
       "      <td>In the 22nd century, a paraplegic Marine is di...</td>\n",
       "      <td>[Action, Adventure, Fantasy, Science Fiction]</td>\n",
       "      <td>[culture clash, future, space war, space colon...</td>\n",
       "      <td>[Sam Worthington, Zoe Saldana, Sigourney Weaver]</td>\n",
       "      <td>[{\"credit_id\": \"52fe48009251416c750aca23\", \"de...</td>\n",
       "    </tr>\n",
       "  </tbody>\n",
       "</table>\n",
       "</div>"
      ],
      "text/plain": [
       "   movie_id   title                                           overview  \\\n",
       "0     19995  Avatar  In the 22nd century, a paraplegic Marine is di...   \n",
       "\n",
       "                                          genres  \\\n",
       "0  [Action, Adventure, Fantasy, Science Fiction]   \n",
       "\n",
       "                                            keywords  \\\n",
       "0  [culture clash, future, space war, space colon...   \n",
       "\n",
       "                                               cast  \\\n",
       "0  [Sam Worthington, Zoe Saldana, Sigourney Weaver]   \n",
       "\n",
       "                                                crew  \n",
       "0  [{\"credit_id\": \"52fe48009251416c750aca23\", \"de...  "
      ]
     },
     "execution_count": 36,
     "metadata": {},
     "output_type": "execute_result"
    }
   ],
   "source": [
    "movies.head(1)"
   ]
  },
  {
   "cell_type": "code",
   "execution_count": 37,
   "id": "abe97a93-74fc-4d9e-be0a-a7555e2e6d98",
   "metadata": {
    "scrolled": true
   },
   "outputs": [
    {
     "data": {
      "text/plain": [
       "array(['[{\"credit_id\": \"52fe48009251416c750aca23\", \"department\": \"Editing\", \"gender\": 0, \"id\": 1721, \"job\": \"Editor\", \"name\": \"Stephen E. Rivkin\"}, {\"credit_id\": \"539c47ecc3a36810e3001f87\", \"department\": \"Art\", \"gender\": 2, \"id\": 496, \"job\": \"Production Design\", \"name\": \"Rick Carter\"}, {\"credit_id\": \"54491c89c3a3680fb4001cf7\", \"department\": \"Sound\", \"gender\": 0, \"id\": 900, \"job\": \"Sound Designer\", \"name\": \"Christopher Boyes\"}, {\"credit_id\": \"54491cb70e0a267480001bd0\", \"department\": \"Sound\", \"gender\": 0, \"id\": 900, \"job\": \"Supervising Sound Editor\", \"name\": \"Christopher Boyes\"}, {\"credit_id\": \"539c4a4cc3a36810c9002101\", \"department\": \"Production\", \"gender\": 1, \"id\": 1262, \"job\": \"Casting\", \"name\": \"Mali Finn\"}, {\"credit_id\": \"5544ee3b925141499f0008fc\", \"department\": \"Sound\", \"gender\": 2, \"id\": 1729, \"job\": \"Original Music Composer\", \"name\": \"James Horner\"}, {\"credit_id\": \"52fe48009251416c750ac9c3\", \"department\": \"Directing\", \"gender\": 2, \"id\": 2710, \"job\": \"Director\", \"name\": \"James Cameron\"}, {\"credit_id\": \"52fe48009251416c750ac9d9\", \"department\": \"Writing\", \"gender\": 2, \"id\": 2710, \"job\": \"Writer\", \"name\": \"James Cameron\"}, {\"credit_id\": \"52fe48009251416c750aca17\", \"department\": \"Editing\", \"gender\": 2, \"id\": 2710, \"job\": \"Editor\", \"name\": \"James Cameron\"}, {\"credit_id\": \"52fe48009251416c750aca29\", \"department\": \"Production\", \"gender\": 2, \"id\": 2710, \"job\": \"Producer\", \"name\": \"James Cameron\"}, {\"credit_id\": \"52fe48009251416c750aca3f\", \"department\": \"Writing\", \"gender\": 2, \"id\": 2710, \"job\": \"Screenplay\", \"name\": \"James Cameron\"}, {\"credit_id\": \"539c4987c3a36810ba0021a4\", \"department\": \"Art\", \"gender\": 2, \"id\": 7236, \"job\": \"Art Direction\", \"name\": \"Andrew Menzies\"}, {\"credit_id\": \"549598c3c3a3686ae9004383\", \"department\": \"Visual Effects\", \"gender\": 0, \"id\": 6690, \"job\": \"Visual Effects Producer\", \"name\": \"Jill Brooks\"}, {\"credit_id\": \"52fe48009251416c750aca4b\", \"department\": \"Production\", \"gender\": 1, \"id\": 6347, \"job\": \"Casting\", \"name\": \"Margery Simkin\"}, {\"credit_id\": \"570b6f419251417da70032fe\", \"department\": \"Art\", \"gender\": 2, \"id\": 6878, \"job\": \"Supervising Art Director\", \"name\": \"Kevin Ishioka\"}, {\"credit_id\": \"5495a0fac3a3686ae9004468\", \"department\": \"Sound\", \"gender\": 0, \"id\": 6883, \"job\": \"Music Editor\", \"name\": \"Dick Bernstein\"}, {\"credit_id\": \"54959706c3a3686af3003e81\", \"department\": \"Sound\", \"gender\": 0, \"id\": 8159, \"job\": \"Sound Effects Editor\", \"name\": \"Shannon Mills\"}, {\"credit_id\": \"54491d58c3a3680fb1001ccb\", \"department\": \"Sound\", \"gender\": 0, \"id\": 8160, \"job\": \"Foley\", \"name\": \"Dennie Thorpe\"}, {\"credit_id\": \"54491d6cc3a3680fa5001b2c\", \"department\": \"Sound\", \"gender\": 0, \"id\": 8163, \"job\": \"Foley\", \"name\": \"Jana Vance\"}, {\"credit_id\": \"52fe48009251416c750aca57\", \"department\": \"Costume & Make-Up\", \"gender\": 1, \"id\": 8527, \"job\": \"Costume Design\", \"name\": \"Deborah Lynn Scott\"}, {\"credit_id\": \"52fe48009251416c750aca2f\", \"department\": \"Production\", \"gender\": 2, \"id\": 8529, \"job\": \"Producer\", \"name\": \"Jon Landau\"}, {\"credit_id\": \"539c4937c3a36810ba002194\", \"department\": \"Art\", \"gender\": 0, \"id\": 9618, \"job\": \"Art Direction\", \"name\": \"Sean Haworth\"}, {\"credit_id\": \"539c49b6c3a36810c10020e6\", \"department\": \"Art\", \"gender\": 1, \"id\": 12653, \"job\": \"Set Decoration\", \"name\": \"Kim Sinclair\"}, {\"credit_id\": \"570b6f2f9251413a0e00020d\", \"department\": \"Art\", \"gender\": 1, \"id\": 12653, \"job\": \"Supervising Art Director\", \"name\": \"Kim Sinclair\"}, {\"credit_id\": \"54491a6c0e0a26748c001b19\", \"department\": \"Art\", \"gender\": 2, \"id\": 14350, \"job\": \"Set Designer\", \"name\": \"Richard F. Mays\"}, {\"credit_id\": \"56928cf4c3a3684cff0025c4\", \"department\": \"Production\", \"gender\": 1, \"id\": 20294, \"job\": \"Executive Producer\", \"name\": \"Laeta Kalogridis\"}, {\"credit_id\": \"52fe48009251416c750aca51\", \"department\": \"Costume & Make-Up\", \"gender\": 0, \"id\": 17675, \"job\": \"Costume Design\", \"name\": \"Mayes C. Rubeo\"}, {\"credit_id\": \"52fe48009251416c750aca11\", \"department\": \"Camera\", \"gender\": 2, \"id\": 18265, \"job\": \"Director of Photography\", \"name\": \"Mauro Fiore\"}, {\"credit_id\": \"5449194d0e0a26748f001b39\", \"department\": \"Art\", \"gender\": 0, \"id\": 42281, \"job\": \"Set Designer\", \"name\": \"Scott Herbertson\"}, {\"credit_id\": \"52fe48009251416c750aca05\", \"department\": \"Crew\", \"gender\": 0, \"id\": 42288, \"job\": \"Stunts\", \"name\": \"Woody Schultz\"}, {\"credit_id\": \"5592aefb92514152de0010f5\", \"department\": \"Costume & Make-Up\", \"gender\": 0, \"id\": 29067, \"job\": \"Makeup Artist\", \"name\": \"Linda DeVetta\"}, {\"credit_id\": \"5592afa492514152de00112c\", \"department\": \"Costume & Make-Up\", \"gender\": 0, \"id\": 29067, \"job\": \"Hairstylist\", \"name\": \"Linda DeVetta\"}, {\"credit_id\": \"54959ed592514130fc002e5d\", \"department\": \"Camera\", \"gender\": 2, \"id\": 33302, \"job\": \"Camera Operator\", \"name\": \"Richard Bluck\"}, {\"credit_id\": \"539c4891c3a36810ba002147\", \"department\": \"Art\", \"gender\": 2, \"id\": 33303, \"job\": \"Art Direction\", \"name\": \"Simon Bright\"}, {\"credit_id\": \"54959c069251417a81001f3a\", \"department\": \"Visual Effects\", \"gender\": 0, \"id\": 113145, \"job\": \"Visual Effects Supervisor\", \"name\": \"Richard Martin\"}, {\"credit_id\": \"54959a0dc3a3680ff5002c8d\", \"department\": \"Crew\", \"gender\": 2, \"id\": 58188, \"job\": \"Visual Effects Editor\", \"name\": \"Steve R. Moore\"}, {\"credit_id\": \"52fe48009251416c750aca1d\", \"department\": \"Editing\", \"gender\": 2, \"id\": 58871, \"job\": \"Editor\", \"name\": \"John Refoua\"}, {\"credit_id\": \"54491a4dc3a3680fc30018ca\", \"department\": \"Art\", \"gender\": 0, \"id\": 92359, \"job\": \"Set Designer\", \"name\": \"Karl J. Martin\"}, {\"credit_id\": \"52fe48009251416c750aca35\", \"department\": \"Camera\", \"gender\": 1, \"id\": 72201, \"job\": \"Director of Photography\", \"name\": \"Chiling Lin\"}, {\"credit_id\": \"52fe48009251416c750ac9ff\", \"department\": \"Crew\", \"gender\": 0, \"id\": 89714, \"job\": \"Stunts\", \"name\": \"Ilram Choi\"}, {\"credit_id\": \"54959c529251416e2b004394\", \"department\": \"Visual Effects\", \"gender\": 2, \"id\": 93214, \"job\": \"Visual Effects Supervisor\", \"name\": \"Steven Quale\"}, {\"credit_id\": \"54491edf0e0a267489001c37\", \"department\": \"Crew\", \"gender\": 1, \"id\": 122607, \"job\": \"Dialect Coach\", \"name\": \"Carla Meyer\"}, {\"credit_id\": \"539c485bc3a368653d001a3a\", \"department\": \"Art\", \"gender\": 2, \"id\": 132585, \"job\": \"Art Direction\", \"name\": \"Nick Bassett\"}, {\"credit_id\": \"539c4903c3a368653d001a74\", \"department\": \"Art\", \"gender\": 0, \"id\": 132596, \"job\": \"Art Direction\", \"name\": \"Jill Cormack\"}, {\"credit_id\": \"539c4967c3a368653d001a94\", \"department\": \"Art\", \"gender\": 0, \"id\": 132604, \"job\": \"Art Direction\", \"name\": \"Andy McLaren\"}, {\"credit_id\": \"52fe48009251416c750aca45\", \"department\": \"Crew\", \"gender\": 0, \"id\": 236696, \"job\": \"Motion Capture Artist\", \"name\": \"Terry Notary\"}, {\"credit_id\": \"54959e02c3a3680fc60027d2\", \"department\": \"Crew\", \"gender\": 2, \"id\": 956198, \"job\": \"Stunt Coordinator\", \"name\": \"Garrett Warren\"}, {\"credit_id\": \"54959ca3c3a3686ae300438c\", \"department\": \"Visual Effects\", \"gender\": 2, \"id\": 957874, \"job\": \"Visual Effects Supervisor\", \"name\": \"Jonathan Rothbart\"}, {\"credit_id\": \"570b6f519251412c74001b2f\", \"department\": \"Art\", \"gender\": 0, \"id\": 957889, \"job\": \"Supervising Art Director\", \"name\": \"Stefan Dechant\"}, {\"credit_id\": \"570b6f62c3a3680b77007460\", \"department\": \"Art\", \"gender\": 2, \"id\": 959555, \"job\": \"Supervising Art Director\", \"name\": \"Todd Cherniawsky\"}, {\"credit_id\": \"539c4a3ac3a36810da0021cc\", \"department\": \"Production\", \"gender\": 0, \"id\": 1016177, \"job\": \"Casting\", \"name\": \"Miranda Rivers\"}, {\"credit_id\": \"539c482cc3a36810c1002062\", \"department\": \"Art\", \"gender\": 0, \"id\": 1032536, \"job\": \"Production Design\", \"name\": \"Robert Stromberg\"}, {\"credit_id\": \"539c4b65c3a36810c9002125\", \"department\": \"Costume & Make-Up\", \"gender\": 2, \"id\": 1071680, \"job\": \"Costume Design\", \"name\": \"John Harding\"}, {\"credit_id\": \"54959e6692514130fc002e4e\", \"department\": \"Camera\", \"gender\": 0, \"id\": 1177364, \"job\": \"Steadicam Operator\", \"name\": \"Roberto De Angelis\"}, {\"credit_id\": \"539c49f1c3a368653d001aac\", \"department\": \"Costume & Make-Up\", \"gender\": 2, \"id\": 1202850, \"job\": \"Makeup Department Head\", \"name\": \"Mike Smithson\"}, {\"credit_id\": \"5495999ec3a3686ae100460c\", \"department\": \"Visual Effects\", \"gender\": 0, \"id\": 1204668, \"job\": \"Visual Effects Producer\", \"name\": \"Alain Lalanne\"}, {\"credit_id\": \"54959cdfc3a3681153002729\", \"department\": \"Visual Effects\", \"gender\": 0, \"id\": 1206410, \"job\": \"Visual Effects Supervisor\", \"name\": \"Lucas Salton\"}, {\"credit_id\": \"549596239251417a81001eae\", \"department\": \"Crew\", \"gender\": 0, \"id\": 1234266, \"job\": \"Post Production Supervisor\", \"name\": \"Janace Tashjian\"}, {\"credit_id\": \"54959c859251416e1e003efe\", \"department\": \"Visual Effects\", \"gender\": 0, \"id\": 1271932, \"job\": \"Visual Effects Supervisor\", \"name\": \"Stephen Rosenbaum\"}, {\"credit_id\": \"5592af28c3a368775a00105f\", \"department\": \"Costume & Make-Up\", \"gender\": 0, \"id\": 1310064, \"job\": \"Makeup Artist\", \"name\": \"Frankie Karena\"}, {\"credit_id\": \"539c4adfc3a36810e300203b\", \"department\": \"Costume & Make-Up\", \"gender\": 1, \"id\": 1319844, \"job\": \"Costume Supervisor\", \"name\": \"Lisa Lovaas\"}, {\"credit_id\": \"54959b579251416e2b004371\", \"department\": \"Visual Effects\", \"gender\": 0, \"id\": 1327028, \"job\": \"Visual Effects Supervisor\", \"name\": \"Jonathan Fawkner\"}, {\"credit_id\": \"539c48a7c3a36810b5001fa7\", \"department\": \"Art\", \"gender\": 0, \"id\": 1330561, \"job\": \"Art Direction\", \"name\": \"Robert Bavin\"}, {\"credit_id\": \"539c4a71c3a36810da0021e0\", \"department\": \"Costume & Make-Up\", \"gender\": 0, \"id\": 1330567, \"job\": \"Costume Supervisor\", \"name\": \"Anthony Almaraz\"}, {\"credit_id\": \"539c4a8ac3a36810ba0021e4\", \"department\": \"Costume & Make-Up\", \"gender\": 0, \"id\": 1330570, \"job\": \"Costume Supervisor\", \"name\": \"Carolyn M. Fenton\"}, {\"credit_id\": \"539c4ab6c3a36810da0021f0\", \"department\": \"Costume & Make-Up\", \"gender\": 0, \"id\": 1330574, \"job\": \"Costume Supervisor\", \"name\": \"Beth Koenigsberg\"}, {\"credit_id\": \"54491ab70e0a267480001ba2\", \"department\": \"Art\", \"gender\": 0, \"id\": 1336191, \"job\": \"Set Designer\", \"name\": \"Sam Page\"}, {\"credit_id\": \"544919d9c3a3680fc30018bd\", \"department\": \"Art\", \"gender\": 0, \"id\": 1339441, \"job\": \"Set Designer\", \"name\": \"Tex Kadonaga\"}, {\"credit_id\": \"54491cf50e0a267483001b0c\", \"department\": \"Editing\", \"gender\": 0, \"id\": 1352422, \"job\": \"Dialogue Editor\", \"name\": \"Kim Foscato\"}, {\"credit_id\": \"544919f40e0a26748c001b09\", \"department\": \"Art\", \"gender\": 0, \"id\": 1352962, \"job\": \"Set Designer\", \"name\": \"Tammy S. Lee\"}, {\"credit_id\": \"5495a115c3a3680ff5002d71\", \"department\": \"Crew\", \"gender\": 0, \"id\": 1357070, \"job\": \"Transportation Coordinator\", \"name\": \"Denny Caira\"}, {\"credit_id\": \"5495a12f92514130fc002e94\", \"department\": \"Crew\", \"gender\": 0, \"id\": 1357071, \"job\": \"Transportation Coordinator\", \"name\": \"James Waitkus\"}, {\"credit_id\": \"5495976fc3a36811530026b0\", \"department\": \"Sound\", \"gender\": 0, \"id\": 1360103, \"job\": \"Supervising Sound Editor\", \"name\": \"Addison Teague\"}, {\"credit_id\": \"54491837c3a3680fb1001c5a\", \"department\": \"Art\", \"gender\": 2, \"id\": 1376887, \"job\": \"Set Designer\", \"name\": \"C. Scott Baker\"}, {\"credit_id\": \"54491878c3a3680fb4001c9d\", \"department\": \"Art\", \"gender\": 0, \"id\": 1376888, \"job\": \"Set Designer\", \"name\": \"Luke Caska\"}, {\"credit_id\": \"544918dac3a3680fa5001ae0\", \"department\": \"Art\", \"gender\": 0, \"id\": 1376889, \"job\": \"Set Designer\", \"name\": \"David Chow\"}, {\"credit_id\": \"544919110e0a267486001b68\", \"department\": \"Art\", \"gender\": 0, \"id\": 1376890, \"job\": \"Set Designer\", \"name\": \"Jonathan Dyer\"}, {\"credit_id\": \"54491967c3a3680faa001b5e\", \"department\": \"Art\", \"gender\": 0, \"id\": 1376891, \"job\": \"Set Designer\", \"name\": \"Joseph Hiura\"}, {\"credit_id\": \"54491997c3a3680fb1001c8a\", \"department\": \"Art\", \"gender\": 0, \"id\": 1376892, \"job\": \"Art Department Coordinator\", \"name\": \"Rebecca Jellie\"}, {\"credit_id\": \"544919ba0e0a26748f001b42\", \"department\": \"Art\", \"gender\": 0, \"id\": 1376893, \"job\": \"Set Designer\", \"name\": \"Robert Andrew Johnson\"}, {\"credit_id\": \"54491b1dc3a3680faa001b8c\", \"department\": \"Art\", \"gender\": 0, \"id\": 1376895, \"job\": \"Assistant Art Director\", \"name\": \"Mike Stassi\"}, {\"credit_id\": \"54491b79c3a3680fbb001826\", \"department\": \"Art\", \"gender\": 0, \"id\": 1376897, \"job\": \"Construction Coordinator\", \"name\": \"John Villarino\"}, {\"credit_id\": \"54491baec3a3680fb4001ce6\", \"department\": \"Art\", \"gender\": 2, \"id\": 1376898, \"job\": \"Assistant Art Director\", \"name\": \"Jeffrey Wisniewski\"}, {\"credit_id\": \"54491d2fc3a3680fb4001d07\", \"department\": \"Editing\", \"gender\": 0, \"id\": 1376899, \"job\": \"Dialogue Editor\", \"name\": \"Cheryl Nardi\"}, {\"credit_id\": \"54491d86c3a3680fa5001b2f\", \"department\": \"Editing\", \"gender\": 0, \"id\": 1376901, \"job\": \"Dialogue Editor\", \"name\": \"Marshall Winn\"}, {\"credit_id\": \"54491d9dc3a3680faa001bb0\", \"department\": \"Sound\", \"gender\": 0, \"id\": 1376902, \"job\": \"Supervising Sound Editor\", \"name\": \"Gwendolyn Yates Whittle\"}, {\"credit_id\": \"54491dc10e0a267486001bce\", \"department\": \"Sound\", \"gender\": 0, \"id\": 1376903, \"job\": \"Sound Re-Recording Mixer\", \"name\": \"William Stein\"}, {\"credit_id\": \"54491f500e0a26747c001c07\", \"department\": \"Crew\", \"gender\": 0, \"id\": 1376909, \"job\": \"Choreographer\", \"name\": \"Lula Washington\"}, {\"credit_id\": \"549599239251412c4e002a2e\", \"department\": \"Visual Effects\", \"gender\": 0, \"id\": 1391692, \"job\": \"Visual Effects Producer\", \"name\": \"Chris Del Conte\"}, {\"credit_id\": \"54959d54c3a36831b8001d9a\", \"department\": \"Visual Effects\", \"gender\": 2, \"id\": 1391695, \"job\": \"Visual Effects Supervisor\", \"name\": \"R. Christopher White\"}, {\"credit_id\": \"54959bdf9251412c4e002a66\", \"department\": \"Visual Effects\", \"gender\": 0, \"id\": 1394070, \"job\": \"Visual Effects Supervisor\", \"name\": \"Dan Lemmon\"}, {\"credit_id\": \"5495971d92514132ed002922\", \"department\": \"Sound\", \"gender\": 0, \"id\": 1394129, \"job\": \"Sound Effects Editor\", \"name\": \"Tim Nielsen\"}, {\"credit_id\": \"5592b25792514152cc0011aa\", \"department\": \"Crew\", \"gender\": 0, \"id\": 1394286, \"job\": \"CG Supervisor\", \"name\": \"Michael Mulholland\"}, {\"credit_id\": \"54959a329251416e2b004355\", \"department\": \"Crew\", \"gender\": 0, \"id\": 1394750, \"job\": \"Visual Effects Editor\", \"name\": \"Thomas Nittmann\"}, {\"credit_id\": \"54959d6dc3a3686ae9004401\", \"department\": \"Visual Effects\", \"gender\": 0, \"id\": 1394755, \"job\": \"Visual Effects Supervisor\", \"name\": \"Edson Williams\"}, {\"credit_id\": \"5495a08fc3a3686ae300441c\", \"department\": \"Editing\", \"gender\": 0, \"id\": 1394953, \"job\": \"Digital Intermediate\", \"name\": \"Christine Carr\"}, {\"credit_id\": \"55402d659251413d6d000249\", \"department\": \"Visual Effects\", \"gender\": 0, \"id\": 1395269, \"job\": \"Visual Effects Supervisor\", \"name\": \"John Bruno\"}, {\"credit_id\": \"54959e7b9251416e1e003f3e\", \"department\": \"Camera\", \"gender\": 0, \"id\": 1398970, \"job\": \"Steadicam Operator\", \"name\": \"David Emmerichs\"}, {\"credit_id\": \"54959734c3a3686ae10045e0\", \"department\": \"Sound\", \"gender\": 0, \"id\": 1400906, \"job\": \"Sound Effects Editor\", \"name\": \"Christopher Scarabosio\"}, {\"credit_id\": \"549595dd92514130fc002d79\", \"department\": \"Production\", \"gender\": 0, \"id\": 1401784, \"job\": \"Production Supervisor\", \"name\": \"Jennifer Teves\"}, {\"credit_id\": \"549596009251413af70028cc\", \"department\": \"Production\", \"gender\": 0, \"id\": 1401785, \"job\": \"Production Manager\", \"name\": \"Brigitte Yorke\"}, {\"credit_id\": \"549596e892514130fc002d99\", \"department\": \"Sound\", \"gender\": 0, \"id\": 1401786, \"job\": \"Sound Effects Editor\", \"name\": \"Ken Fischer\"}, {\"credit_id\": \"549598229251412c4e002a1c\", \"department\": \"Crew\", \"gender\": 0, \"id\": 1401787, \"job\": \"Special Effects Coordinator\", \"name\": \"Iain Hutton\"}, {\"credit_id\": \"549598349251416e2b00432b\", \"department\": \"Crew\", \"gender\": 0, \"id\": 1401788, \"job\": \"Special Effects Coordinator\", \"name\": \"Steve Ingram\"}, {\"credit_id\": \"54959905c3a3686ae3004324\", \"department\": \"Visual Effects\", \"gender\": 0, \"id\": 1401789, \"job\": \"Visual Effects Producer\", \"name\": \"Joyce Cox\"}, {\"credit_id\": \"5495994b92514132ed002951\", \"department\": \"Visual Effects\", \"gender\": 0, \"id\": 1401790, \"job\": \"Visual Effects Producer\", \"name\": \"Jenny Foster\"}, {\"credit_id\": \"549599cbc3a3686ae1004613\", \"department\": \"Crew\", \"gender\": 0, \"id\": 1401791, \"job\": \"Visual Effects Editor\", \"name\": \"Christopher Marino\"}, {\"credit_id\": \"549599f2c3a3686ae100461e\", \"department\": \"Crew\", \"gender\": 0, \"id\": 1401792, \"job\": \"Visual Effects Editor\", \"name\": \"Jim Milton\"}, {\"credit_id\": \"54959a51c3a3686af3003eb5\", \"department\": \"Visual Effects\", \"gender\": 0, \"id\": 1401793, \"job\": \"Visual Effects Producer\", \"name\": \"Cyndi Ochs\"}, {\"credit_id\": \"54959a7cc3a36811530026f4\", \"department\": \"Crew\", \"gender\": 0, \"id\": 1401794, \"job\": \"Visual Effects Editor\", \"name\": \"Lucas Putnam\"}, {\"credit_id\": \"54959b91c3a3680ff5002cb4\", \"department\": \"Visual Effects\", \"gender\": 0, \"id\": 1401795, \"job\": \"Visual Effects Supervisor\", \"name\": \"Anthony \\'Max\\' Ivins\"}, {\"credit_id\": \"54959bb69251412c4e002a5f\", \"department\": \"Visual Effects\", \"gender\": 0, \"id\": 1401796, \"job\": \"Visual Effects Supervisor\", \"name\": \"John Knoll\"}, {\"credit_id\": \"54959cbbc3a3686ae3004391\", \"department\": \"Visual Effects\", \"gender\": 2, \"id\": 1401799, \"job\": \"Visual Effects Supervisor\", \"name\": \"Eric Saindon\"}, {\"credit_id\": \"54959d06c3a3686ae90043f6\", \"department\": \"Visual Effects\", \"gender\": 0, \"id\": 1401800, \"job\": \"Visual Effects Supervisor\", \"name\": \"Wayne Stables\"}, {\"credit_id\": \"54959d259251416e1e003f11\", \"department\": \"Visual Effects\", \"gender\": 0, \"id\": 1401801, \"job\": \"Visual Effects Supervisor\", \"name\": \"David Stinnett\"}, {\"credit_id\": \"54959db49251413af7002975\", \"department\": \"Visual Effects\", \"gender\": 0, \"id\": 1401803, \"job\": \"Visual Effects Supervisor\", \"name\": \"Guy Williams\"}, {\"credit_id\": \"54959de4c3a3681153002750\", \"department\": \"Crew\", \"gender\": 0, \"id\": 1401804, \"job\": \"Stunt Coordinator\", \"name\": \"Stuart Thorp\"}, {\"credit_id\": \"54959ef2c3a3680fc60027f2\", \"department\": \"Lighting\", \"gender\": 0, \"id\": 1401805, \"job\": \"Best Boy Electric\", \"name\": \"Giles Coburn\"}, {\"credit_id\": \"54959f07c3a3680fc60027f9\", \"department\": \"Camera\", \"gender\": 2, \"id\": 1401806, \"job\": \"Still Photographer\", \"name\": \"Mark Fellman\"}, {\"credit_id\": \"54959f47c3a3681153002774\", \"department\": \"Lighting\", \"gender\": 0, \"id\": 1401807, \"job\": \"Lighting Technician\", \"name\": \"Scott Sprague\"}, {\"credit_id\": \"54959f8cc3a36831b8001df2\", \"department\": \"Visual Effects\", \"gender\": 0, \"id\": 1401808, \"job\": \"Animation Director\", \"name\": \"Jeremy Hollobon\"}, {\"credit_id\": \"54959fa0c3a36831b8001dfb\", \"department\": \"Visual Effects\", \"gender\": 0, \"id\": 1401809, \"job\": \"Animation Director\", \"name\": \"Orlando Meunier\"}, {\"credit_id\": \"54959fb6c3a3686af3003f54\", \"department\": \"Visual Effects\", \"gender\": 0, \"id\": 1401810, \"job\": \"Animation Director\", \"name\": \"Taisuke Tanimura\"}, {\"credit_id\": \"54959fd2c3a36831b8001e02\", \"department\": \"Costume & Make-Up\", \"gender\": 0, \"id\": 1401812, \"job\": \"Set Costumer\", \"name\": \"Lilia Mishel Acevedo\"}, {\"credit_id\": \"54959ff9c3a3686ae300440c\", \"department\": \"Costume & Make-Up\", \"gender\": 0, \"id\": 1401814, \"job\": \"Set Costumer\", \"name\": \"Alejandro M. Hernandez\"}, {\"credit_id\": \"5495a0ddc3a3686ae10046fe\", \"department\": \"Editing\", \"gender\": 0, \"id\": 1401815, \"job\": \"Digital Intermediate\", \"name\": \"Marvin Hall\"}, {\"credit_id\": \"5495a1f7c3a3686ae3004443\", \"department\": \"Production\", \"gender\": 0, \"id\": 1401816, \"job\": \"Publicist\", \"name\": \"Judy Alley\"}, {\"credit_id\": \"5592b29fc3a36869d100002f\", \"department\": \"Crew\", \"gender\": 0, \"id\": 1418381, \"job\": \"CG Supervisor\", \"name\": \"Mike Perry\"}, {\"credit_id\": \"5592b23a9251415df8001081\", \"department\": \"Crew\", \"gender\": 0, \"id\": 1426854, \"job\": \"CG Supervisor\", \"name\": \"Andrew Morley\"}, {\"credit_id\": \"55491e1192514104c40002d8\", \"department\": \"Art\", \"gender\": 0, \"id\": 1438901, \"job\": \"Conceptual Design\", \"name\": \"Seth Engstrom\"}, {\"credit_id\": \"5525d5809251417276002b06\", \"department\": \"Crew\", \"gender\": 0, \"id\": 1447362, \"job\": \"Visual Effects Art Director\", \"name\": \"Eric Oliver\"}, {\"credit_id\": \"554427ca925141586500312a\", \"department\": \"Visual Effects\", \"gender\": 0, \"id\": 1447503, \"job\": \"Modeling\", \"name\": \"Matsune Suzuki\"}, {\"credit_id\": \"551906889251415aab001c88\", \"department\": \"Art\", \"gender\": 0, \"id\": 1447524, \"job\": \"Art Department Manager\", \"name\": \"Paul Tobin\"}, {\"credit_id\": \"5592af8492514152cc0010de\", \"department\": \"Costume & Make-Up\", \"gender\": 0, \"id\": 1452643, \"job\": \"Hairstylist\", \"name\": \"Roxane Griffin\"}, {\"credit_id\": \"553d3c109251415852001318\", \"department\": \"Lighting\", \"gender\": 0, \"id\": 1453938, \"job\": \"Lighting Artist\", \"name\": \"Arun Ram-Mohan\"}, {\"credit_id\": \"5592af4692514152d5001355\", \"department\": \"Costume & Make-Up\", \"gender\": 0, \"id\": 1457305, \"job\": \"Makeup Artist\", \"name\": \"Georgia Lockhart-Adams\"}, {\"credit_id\": \"5592b2eac3a36877470012a5\", \"department\": \"Crew\", \"gender\": 0, \"id\": 1466035, \"job\": \"CG Supervisor\", \"name\": \"Thrain Shadbolt\"}, {\"credit_id\": \"5592b032c3a36877450015f1\", \"department\": \"Crew\", \"gender\": 0, \"id\": 1483220, \"job\": \"CG Supervisor\", \"name\": \"Brad Alexander\"}, {\"credit_id\": \"5592b05592514152d80012f6\", \"department\": \"Crew\", \"gender\": 0, \"id\": 1483221, \"job\": \"CG Supervisor\", \"name\": \"Shadi Almassizadeh\"}, {\"credit_id\": \"5592b090c3a36877570010b5\", \"department\": \"Crew\", \"gender\": 0, \"id\": 1483222, \"job\": \"CG Supervisor\", \"name\": \"Simon Clutterbuck\"}, {\"credit_id\": \"5592b0dbc3a368774b00112c\", \"department\": \"Crew\", \"gender\": 0, \"id\": 1483223, \"job\": \"CG Supervisor\", \"name\": \"Graeme Demmocks\"}, {\"credit_id\": \"5592b0fe92514152db0010c1\", \"department\": \"Crew\", \"gender\": 0, \"id\": 1483224, \"job\": \"CG Supervisor\", \"name\": \"Adrian Fernandes\"}, {\"credit_id\": \"5592b11f9251415df8001059\", \"department\": \"Crew\", \"gender\": 0, \"id\": 1483225, \"job\": \"CG Supervisor\", \"name\": \"Mitch Gates\"}, {\"credit_id\": \"5592b15dc3a3687745001645\", \"department\": \"Crew\", \"gender\": 0, \"id\": 1483226, \"job\": \"CG Supervisor\", \"name\": \"Jerry Kung\"}, {\"credit_id\": \"5592b18e925141645a0004ae\", \"department\": \"Crew\", \"gender\": 0, \"id\": 1483227, \"job\": \"CG Supervisor\", \"name\": \"Andy Lomas\"}, {\"credit_id\": \"5592b1bfc3a368775d0010e7\", \"department\": \"Crew\", \"gender\": 0, \"id\": 1483228, \"job\": \"CG Supervisor\", \"name\": \"Sebastian Marino\"}, {\"credit_id\": \"5592b2049251415df8001078\", \"department\": \"Crew\", \"gender\": 0, \"id\": 1483229, \"job\": \"CG Supervisor\", \"name\": \"Matthias Menz\"}, {\"credit_id\": \"5592b27b92514152d800136a\", \"department\": \"Crew\", \"gender\": 0, \"id\": 1483230, \"job\": \"CG Supervisor\", \"name\": \"Sergei Nevshupov\"}, {\"credit_id\": \"5592b2c3c3a36869e800003c\", \"department\": \"Crew\", \"gender\": 0, \"id\": 1483231, \"job\": \"CG Supervisor\", \"name\": \"Philippe Rebours\"}, {\"credit_id\": \"5592b317c3a36877470012af\", \"department\": \"Crew\", \"gender\": 0, \"id\": 1483232, \"job\": \"CG Supervisor\", \"name\": \"Michael Takarangi\"}, {\"credit_id\": \"5592b345c3a36877470012bb\", \"department\": \"Crew\", \"gender\": 0, \"id\": 1483233, \"job\": \"CG Supervisor\", \"name\": \"David Weitzberg\"}, {\"credit_id\": \"5592b37cc3a368775100113b\", \"department\": \"Crew\", \"gender\": 0, \"id\": 1483234, \"job\": \"CG Supervisor\", \"name\": \"Ben White\"}, {\"credit_id\": \"573c8e2f9251413f5d000094\", \"department\": \"Crew\", \"gender\": 1, \"id\": 1621932, \"job\": \"Stunts\", \"name\": \"Min Windle\"}]',\n",
       "       '[{\"credit_id\": \"52fe4232c3a36847f800b579\", \"department\": \"Camera\", \"gender\": 2, \"id\": 120, \"job\": \"Director of Photography\", \"name\": \"Dariusz Wolski\"}, {\"credit_id\": \"52fe4232c3a36847f800b4fd\", \"department\": \"Directing\", \"gender\": 2, \"id\": 1704, \"job\": \"Director\", \"name\": \"Gore Verbinski\"}, {\"credit_id\": \"52fe4232c3a36847f800b54f\", \"department\": \"Production\", \"gender\": 2, \"id\": 770, \"job\": \"Producer\", \"name\": \"Jerry Bruckheimer\"}, {\"credit_id\": \"52fe4232c3a36847f800b503\", \"department\": \"Writing\", \"gender\": 2, \"id\": 1705, \"job\": \"Screenplay\", \"name\": \"Ted Elliott\"}, {\"credit_id\": \"52fe4232c3a36847f800b509\", \"department\": \"Writing\", \"gender\": 2, \"id\": 1706, \"job\": \"Screenplay\", \"name\": \"Terry Rossio\"}, {\"credit_id\": \"52fe4232c3a36847f800b57f\", \"department\": \"Editing\", \"gender\": 0, \"id\": 1721, \"job\": \"Editor\", \"name\": \"Stephen E. Rivkin\"}, {\"credit_id\": \"52fe4232c3a36847f800b585\", \"department\": \"Editing\", \"gender\": 2, \"id\": 1722, \"job\": \"Editor\", \"name\": \"Craig Wood\"}, {\"credit_id\": \"52fe4232c3a36847f800b573\", \"department\": \"Sound\", \"gender\": 2, \"id\": 947, \"job\": \"Original Music Composer\", \"name\": \"Hans Zimmer\"}, {\"credit_id\": \"52fe4232c3a36847f800b555\", \"department\": \"Production\", \"gender\": 2, \"id\": 2444, \"job\": \"Executive Producer\", \"name\": \"Mike Stenson\"}, {\"credit_id\": \"52fe4232c3a36847f800b561\", \"department\": \"Production\", \"gender\": 2, \"id\": 2445, \"job\": \"Producer\", \"name\": \"Eric McLeod\"}, {\"credit_id\": \"52fe4232c3a36847f800b55b\", \"department\": \"Production\", \"gender\": 2, \"id\": 2446, \"job\": \"Producer\", \"name\": \"Chad Oman\"}, {\"credit_id\": \"52fe4232c3a36847f800b567\", \"department\": \"Production\", \"gender\": 0, \"id\": 2447, \"job\": \"Producer\", \"name\": \"Peter Kohn\"}, {\"credit_id\": \"52fe4232c3a36847f800b56d\", \"department\": \"Production\", \"gender\": 0, \"id\": 2448, \"job\": \"Producer\", \"name\": \"Pat Sandston\"}, {\"credit_id\": \"52fe4232c3a36847f800b58b\", \"department\": \"Production\", \"gender\": 1, \"id\": 2215, \"job\": \"Casting\", \"name\": \"Denise Chamian\"}, {\"credit_id\": \"52fe4232c3a36847f800b597\", \"department\": \"Art\", \"gender\": 2, \"id\": 1226, \"job\": \"Production Design\", \"name\": \"Rick Heinrichs\"}, {\"credit_id\": \"52fe4232c3a36847f800b59d\", \"department\": \"Art\", \"gender\": 2, \"id\": 553, \"job\": \"Art Direction\", \"name\": \"John Dexter\"}, {\"credit_id\": \"52fe4232c3a36847f800b591\", \"department\": \"Production\", \"gender\": 1, \"id\": 3311, \"job\": \"Casting\", \"name\": \"Priscilla John\"}, {\"credit_id\": \"52fe4232c3a36847f800b5a3\", \"department\": \"Art\", \"gender\": 1, \"id\": 4032, \"job\": \"Set Decoration\", \"name\": \"Cheryl Carasik\"}, {\"credit_id\": \"52fe4232c3a36847f800b5a9\", \"department\": \"Costume & Make-Up\", \"gender\": 0, \"id\": 4033, \"job\": \"Costume Design\", \"name\": \"Liz Dann\"}, {\"credit_id\": \"52fe4232c3a36847f800b5af\", \"department\": \"Costume & Make-Up\", \"gender\": 1, \"id\": 4034, \"job\": \"Costume Design\", \"name\": \"Penny Rose\"}, {\"credit_id\": \"56427ce8c3a3686a53000d8b\", \"department\": \"Sound\", \"gender\": 2, \"id\": 5132, \"job\": \"Music Supervisor\", \"name\": \"Bob Badami\"}, {\"credit_id\": \"55993c15c3a36855db002f33\", \"department\": \"Art\", \"gender\": 2, \"id\": 146439, \"job\": \"Conceptual Design\", \"name\": \"James Ward Byrkit\"}, {\"credit_id\": \"52fe4232c3a36847f800b5b9\", \"department\": \"Costume & Make-Up\", \"gender\": 1, \"id\": 406204, \"job\": \"Makeup Department Head\", \"name\": \"Ve Neill\"}, {\"credit_id\": \"56e47f7892514132690017bd\", \"department\": \"Crew\", \"gender\": 2, \"id\": 1259516, \"job\": \"Stunts\", \"name\": \"John Dixon\"}, {\"credit_id\": \"5740be639251416597000849\", \"department\": \"Crew\", \"gender\": 0, \"id\": 1336716, \"job\": \"CGI Supervisor\", \"name\": \"Dottie Starling\"}, {\"credit_id\": \"56427c639251412fc8000dc1\", \"department\": \"Directing\", \"gender\": 1, \"id\": 1344278, \"job\": \"Script Supervisor\", \"name\": \"Pamela Alch\"}, {\"credit_id\": \"57083101c3a3681d320004e6\", \"department\": \"Crew\", \"gender\": 0, \"id\": 1368867, \"job\": \"Special Effects Coordinator\", \"name\": \"Allen Hall\"}, {\"credit_id\": \"56427d5ec3a3686a62000d4a\", \"department\": \"Sound\", \"gender\": 0, \"id\": 1368884, \"job\": \"Music Editor\", \"name\": \"Melissa Muik\"}, {\"credit_id\": \"56427c7b9251412fd4000e07\", \"department\": \"Directing\", \"gender\": 1, \"id\": 1395290, \"job\": \"Script Supervisor\", \"name\": \"Sharron Reynolds\"}, {\"credit_id\": \"56427d2bc3a3686a53000d9b\", \"department\": \"Sound\", \"gender\": 0, \"id\": 1399327, \"job\": \"Music Editor\", \"name\": \"Barbara McDermott\"}, {\"credit_id\": \"56427cb4c3a3686a53000d87\", \"department\": \"Directing\", \"gender\": 1, \"id\": 1400738, \"job\": \"Script Supervisor\", \"name\": \"Karen Golden\"}, {\"credit_id\": \"56427d169251412fd4000e23\", \"department\": \"Sound\", \"gender\": 0, \"id\": 1534197, \"job\": \"Music Editor\", \"name\": \"Katie Greathouse\"}]',\n",
       "       '[{\"credit_id\": \"54805967c3a36829b5002c41\", \"department\": \"Sound\", \"gender\": 2, \"id\": 153, \"job\": \"Original Music Composer\", \"name\": \"Thomas Newman\"}, {\"credit_id\": \"52fe4d22c3a368484e1d8d77\", \"department\": \"Directing\", \"gender\": 2, \"id\": 39, \"job\": \"Director\", \"name\": \"Sam Mendes\"}, {\"credit_id\": \"5677cd99925141691a005333\", \"department\": \"Art\", \"gender\": 1, \"id\": 8384, \"job\": \"Set Decoration\", \"name\": \"Anna Pinnock\"}, {\"credit_id\": \"52fe4d22c3a368484e1d8d8d\", \"department\": \"Writing\", \"gender\": 2, \"id\": 932, \"job\": \"Screenplay\", \"name\": \"John Logan\"}, {\"credit_id\": \"562fc9bb92514129fe0006b4\", \"department\": \"Writing\", \"gender\": 2, \"id\": 932, \"job\": \"Story\", \"name\": \"John Logan\"}, {\"credit_id\": \"5654d41c92514145c3000373\", \"department\": \"Art\", \"gender\": 2, \"id\": 4248, \"job\": \"Production Design\", \"name\": \"Dennis Gassner\"}, {\"credit_id\": \"52fe4d22c3a368484e1d8d71\", \"department\": \"Writing\", \"gender\": 2, \"id\": 9856, \"job\": \"Characters\", \"name\": \"Ian Fleming\"}, {\"credit_id\": \"54805989c3a36829ae0022d8\", \"department\": \"Editing\", \"gender\": 0, \"id\": 3904, \"job\": \"Editor\", \"name\": \"Lee Smith\"}, {\"credit_id\": \"5677df82c3a3681683008748\", \"department\": \"Sound\", \"gender\": 2, \"id\": 7538, \"job\": \"Music Editor\", \"name\": \"Bill Bernstein\"}, {\"credit_id\": \"5720e370c3a368117e00045b\", \"department\": \"Production\", \"gender\": 2, \"id\": 8784, \"job\": \"Co-Producer\", \"name\": \"Daniel Craig\"}, {\"credit_id\": \"5522fdd09251416d4a0024b6\", \"department\": \"Costume & Make-Up\", \"gender\": 1, \"id\": 11227, \"job\": \"Costume Design\", \"name\": \"Jany Temime\"}, {\"credit_id\": \"5677cc9ac3a368167c0089b5\", \"department\": \"Production\", \"gender\": 1, \"id\": 10496, \"job\": \"Casting\", \"name\": \"Debbie McWilliams\"}, {\"credit_id\": \"52fe4d22c3a368484e1d8d7d\", \"department\": \"Production\", \"gender\": 1, \"id\": 10666, \"job\": \"Producer\", \"name\": \"Barbara Broccoli\"}, {\"credit_id\": \"5720e3afc3a368117e00046a\", \"department\": \"Production\", \"gender\": 0, \"id\": 11268, \"job\": \"Line Producer\", \"name\": \"Roberto Malerba\"}, {\"credit_id\": \"5677df58c3a368167c008c82\", \"department\": \"Sound\", \"gender\": 0, \"id\": 40827, \"job\": \"Music Editor\", \"name\": \"Peter Clarke\"}, {\"credit_id\": \"5677dd1ec3a36816890085d3\", \"department\": \"Sound\", \"gender\": 0, \"id\": 14764, \"job\": \"Sound Designer\", \"name\": \"Christopher Assells\"}, {\"credit_id\": \"566046b9c3a36875f400323a\", \"department\": \"Sound\", \"gender\": 0, \"id\": 14765, \"job\": \"Supervising Sound Editor\", \"name\": \"Per Hallberg\"}, {\"credit_id\": \"5677ccab925141691a00530f\", \"department\": \"Production\", \"gender\": 0, \"id\": 36108, \"job\": \"Casting\", \"name\": \"Nicole Schmied\"}, {\"credit_id\": \"5677cfe4c3a36816850087d2\", \"department\": \"Production\", \"gender\": 0, \"id\": 36108, \"job\": \"Casting Associate\", \"name\": \"Nicole Schmied\"}, {\"credit_id\": \"562fc984c3a3681b5400e16f\", \"department\": \"Writing\", \"gender\": 2, \"id\": 10783, \"job\": \"Screenplay\", \"name\": \"Robert Wade\"}, {\"credit_id\": \"562fc9cec3a3681b4b00d168\", \"department\": \"Writing\", \"gender\": 2, \"id\": 10783, \"job\": \"Story\", \"name\": \"Robert Wade\"}, {\"credit_id\": \"562fc976c3a3681b5c00dd64\", \"department\": \"Writing\", \"gender\": 0, \"id\": 10782, \"job\": \"Screenplay\", \"name\": \"Neal Purvis\"}, {\"credit_id\": \"562fc9d79251414ad800c103\", \"department\": \"Writing\", \"gender\": 0, \"id\": 10782, \"job\": \"Story\", \"name\": \"Neal Purvis\"}, {\"credit_id\": \"5720e61d9251414235000477\", \"department\": \"Production\", \"gender\": 2, \"id\": 10876, \"job\": \"Executive Producer\", \"name\": \"Callum McDougall\"}, {\"credit_id\": \"562fc9a89251414ad800c0fe\", \"department\": \"Writing\", \"gender\": 2, \"id\": 21339, \"job\": \"Screenplay\", \"name\": \"Jez Butterworth\"}, {\"credit_id\": \"570bd7f2c3a36802a9000412\", \"department\": \"Art\", \"gender\": 0, \"id\": 23425, \"job\": \"Supervising Art Director\", \"name\": \"Chris Lowe\"}, {\"credit_id\": \"5677e45ac3a368168b0084fd\", \"department\": \"Art\", \"gender\": 0, \"id\": 23491, \"job\": \"Assistant Art Director\", \"name\": \"Roxana Alexandru \"}, {\"credit_id\": \"5677e29c925141691a00561c\", \"department\": \"Crew\", \"gender\": 0, \"id\": 23774, \"job\": \"Makeup Effects\", \"name\": \"Jo Grover\"}, {\"credit_id\": \"5677cf8492514179d20088ae\", \"department\": \"Production\", \"gender\": 2, \"id\": 10907, \"job\": \"Casting\", \"name\": \"St\\\\u00e9phane Foenkinos\"}, {\"credit_id\": \"5677d7b192514179d20089c6\", \"department\": \"Camera\", \"gender\": 2, \"id\": 61851, \"job\": \"Camera Operator\", \"name\": \"Lorenzo Senatore\"}, {\"credit_id\": \"5720e6f7925141423000046b\", \"department\": \"Production\", \"gender\": 0, \"id\": 64000, \"job\": \"Line Producer\", \"name\": \"Wolfgang Ramml\"}, {\"credit_id\": \"5677dfabc3a368168000899f\", \"department\": \"Sound\", \"gender\": 2, \"id\": 66941, \"job\": \"Orchestrator\", \"name\": \"J.A.C. Redford\"}, {\"credit_id\": \"5720e72e92514142320007fc\", \"department\": \"Production\", \"gender\": 0, \"id\": 81517, \"job\": \"Associate Producer\", \"name\": \"Gregg Wilson\"}, {\"credit_id\": \"52fe4d22c3a368484e1d8d83\", \"department\": \"Production\", \"gender\": 2, \"id\": 69678, \"job\": \"Producer\", \"name\": \"Michael G. Wilson\"}, {\"credit_id\": \"5720e325c3a368118100043e\", \"department\": \"Production\", \"gender\": 0, \"id\": 77511, \"job\": \"Line Producer\", \"name\": \"Zakaria Alaoui\"}, {\"credit_id\": \"548059799251416e7e00265c\", \"department\": \"Camera\", \"gender\": 0, \"id\": 74401, \"job\": \"Director of Photography\", \"name\": \"Hoyte van Hoytema\"}, {\"credit_id\": \"5677cef792514179db00904d\", \"department\": \"Crew\", \"gender\": 0, \"id\": 239885, \"job\": \"Special Effects Coordinator\", \"name\": \"Franco Ragusa\"}, {\"credit_id\": \"5677d7e992514179e7008654\", \"department\": \"Camera\", \"gender\": 0, \"id\": 937946, \"job\": \"Camera Operator\", \"name\": \"Peter Field\"}, {\"credit_id\": \"5677cd21c3a3681680008700\", \"department\": \"Art\", \"gender\": 2, \"id\": 979698, \"job\": \"Art Direction\", \"name\": \"Neal Callow\"}, {\"credit_id\": \"5677cd5a92514179e30086fb\", \"department\": \"Art\", \"gender\": 2, \"id\": 986687, \"job\": \"Art Direction\", \"name\": \"Mark Harris\"}, {\"credit_id\": \"5678090392514179e1009958\", \"department\": \"Crew\", \"gender\": 0, \"id\": 1024842, \"job\": \"Visual Effects Editor\", \"name\": \"Billy A. Campbell\"}, {\"credit_id\": \"5720e6749251414240000470\", \"department\": \"Production\", \"gender\": 0, \"id\": 1026247, \"job\": \"Co-Producer\", \"name\": \"Stacy Perskie\"}, {\"credit_id\": \"56780a2292514179dd008d18\", \"department\": \"Visual Effects\", \"gender\": 0, \"id\": 1029804, \"job\": \"Visual Effects Producer\", \"name\": \"Laura Schultz\"}, {\"credit_id\": \"5677e174925141691a0055f1\", \"department\": \"Costume & Make-Up\", \"gender\": 0, \"id\": 1087452, \"job\": \"Key Hair Stylist\", \"name\": \"Mari Paz Robles\"}, {\"credit_id\": \"5677e0cf9251417845001631\", \"department\": \"Costume & Make-Up\", \"gender\": 0, \"id\": 1099281, \"job\": \"Hairstylist\", \"name\": \"Gerardo Perez Arreola\"}, {\"credit_id\": \"5677d73b92514179dd008471\", \"department\": \"Camera\", \"gender\": 0, \"id\": 1118711, \"job\": \"Camera Operator\", \"name\": \"Kenji Katori\"}, {\"credit_id\": \"5677cd3a92514179d2008852\", \"department\": \"Art\", \"gender\": 0, \"id\": 1296445, \"job\": \"Art Direction\", \"name\": \"Ben Collins\"}, {\"credit_id\": \"5677cfc3c3a3681680008755\", \"department\": \"Production\", \"gender\": 0, \"id\": 1305251, \"job\": \"Casting Associate\", \"name\": \"Tusse Lande\"}, {\"credit_id\": \"5677e24f92514179e70087da\", \"department\": \"Costume & Make-Up\", \"gender\": 0, \"id\": 1315700, \"job\": \"Makeup Artist\", \"name\": \"Donald Mowat\"}, {\"credit_id\": \"5677d622c3a368167c008b25\", \"department\": \"Costume & Make-Up\", \"gender\": 0, \"id\": 1319160, \"job\": \"Costume Supervisor\", \"name\": \"Ken Crouch\"}, {\"credit_id\": \"5677cd0ec3a368168e008f75\", \"department\": \"Art\", \"gender\": 0, \"id\": 1335539, \"job\": \"Art Direction\", \"name\": \"Andrew Bennett\"}, {\"credit_id\": \"56780833925141691a005c2f\", \"department\": \"Visual Effects\", \"gender\": 0, \"id\": 1338241, \"job\": \"Visual Effects Coordinator\", \"name\": \"Sean McGrath\"}, {\"credit_id\": \"5677dcc7c3a36816830086cc\", \"department\": \"Sound\", \"gender\": 0, \"id\": 1338372, \"job\": \"Foley\", \"name\": \"Dan O\\'Connell\"}, {\"credit_id\": \"56780ac692514179dd008d31\", \"department\": \"Visual Effects\", \"gender\": 0, \"id\": 1341741, \"job\": \"Visual Effects Supervisor\", \"name\": \"Mark Curtis\"}, {\"credit_id\": \"5677dd9fc3a368168b0083f0\", \"department\": \"Sound\", \"gender\": 2, \"id\": 1341858, \"job\": \"Sound Re-Recording Mixer\", \"name\": \"Gregg Rudloff\"}, {\"credit_id\": \"566047029251412204002337\", \"department\": \"Directing\", \"gender\": 0, \"id\": 1342669, \"job\": \"Script Supervisor\", \"name\": \"Jayne-Ann Tenggren\"}, {\"credit_id\": \"5720e713925141423000046d\", \"department\": \"Production\", \"gender\": 0, \"id\": 1342669, \"job\": \"Associate Producer\", \"name\": \"Jayne-Ann Tenggren\"}, {\"credit_id\": \"5677dd8792514179db009235\", \"department\": \"Sound\", \"gender\": 0, \"id\": 1345595, \"job\": \"Sound Re-Recording Mixer\", \"name\": \"Scott Millan\"}, {\"credit_id\": \"5677def192514179e700875b\", \"department\": \"Directing\", \"gender\": 0, \"id\": 1358025, \"job\": \"Script Supervisor\", \"name\": \"Nicoletta Mani\"}, {\"credit_id\": \"5677dcb0925141691a00552a\", \"department\": \"Sound\", \"gender\": 0, \"id\": 1367493, \"job\": \"Foley\", \"name\": \"John T. Cucci\"}, {\"credit_id\": \"5677d7ff92514179e300884b\", \"department\": \"Camera\", \"gender\": 0, \"id\": 1377503, \"job\": \"Camera Operator\", \"name\": \"Sebastian Meuschel\"}, {\"credit_id\": \"5677d94192514179d20089ff\", \"department\": \"Camera\", \"gender\": 2, \"id\": 1388897, \"job\": \"Steadicam Operator\", \"name\": \"Julian Morson\"}, {\"credit_id\": \"5677dce5c3a36816830086d3\", \"department\": \"Sound\", \"gender\": 0, \"id\": 1389614, \"job\": \"Foley\", \"name\": \"Peter Michael Sullivan\"}, {\"credit_id\": \"56780a5a92514179e300908d\", \"department\": \"Visual Effects\", \"gender\": 0, \"id\": 1391691, \"job\": \"Visual Effects Producer\", \"name\": \"Ken Dailey\"}, {\"credit_id\": \"5677dd38c3a368167c008c21\", \"department\": \"Sound\", \"gender\": 0, \"id\": 1392083, \"job\": \"Sound Designer\", \"name\": \"Ann Scibelli\"}, {\"credit_id\": \"5677d7cd92514179db009178\", \"department\": \"Camera\", \"gender\": 0, \"id\": 1392246, \"job\": \"Camera Operator\", \"name\": \"Clive Jackson\"}, {\"credit_id\": \"5677de6192514179dd008566\", \"department\": \"Directing\", \"gender\": 0, \"id\": 1392661, \"job\": \"Script Supervisor\", \"name\": \"Susie Jones\"}, {\"credit_id\": \"5677d98fc3a3681685008904\", \"department\": \"Camera\", \"gender\": 2, \"id\": 1392718, \"job\": \"Still Photographer\", \"name\": \"Jasin Boland\"}, {\"credit_id\": \"5677cdd8c3a368168b0081e1\", \"department\": \"Art\", \"gender\": 0, \"id\": 1394117, \"job\": \"Art Department Coordinator\", \"name\": \"Jennifer Lewicki\"}, {\"credit_id\": \"5677e58cc3a3681685008adb\", \"department\": \"Art\", \"gender\": 0, \"id\": 1398089, \"job\": \"Greensman\", \"name\": \"Ian Whiteford\"}, {\"credit_id\": \"56780a7592514179db0099c4\", \"department\": \"Visual Effects\", \"gender\": 0, \"id\": 1398100, \"job\": \"Visual Effects Producer\", \"name\": \"Kilou Picard\"}, {\"credit_id\": \"5677d8ba92514179d20089f0\", \"department\": \"Camera\", \"gender\": 0, \"id\": 1399071, \"job\": \"Helicopter Camera\", \"name\": \"Hans Bjerno\"}, {\"credit_id\": \"5677dd02c3a368167a0091a2\", \"department\": \"Editing\", \"gender\": 2, \"id\": 1399862, \"job\": \"Dialogue Editor\", \"name\": \"Daniel Saxlid\"}, {\"credit_id\": \"5677e2e1c3a368167c008d1a\", \"department\": \"Costume & Make-Up\", \"gender\": 0, \"id\": 1401126, \"job\": \"Wigmaker\", \"name\": \"Alex Rouse\"}, {\"credit_id\": \"5678096bc3a368167c0093d2\", \"department\": \"Crew\", \"gender\": 0, \"id\": 1401147, \"job\": \"Visual Effects Editor\", \"name\": \"Anik Seguin\"}, {\"credit_id\": \"5677dc90c3a368167a009190\", \"department\": \"Sound\", \"gender\": 0, \"id\": 1401631, \"job\": \"ADR & Dubbing\", \"name\": \"Michelle Pazer\"}, {\"credit_id\": \"5677d75ac3a368167a0090e9\", \"department\": \"Camera\", \"gender\": 2, \"id\": 1403411, \"job\": \"Camera Operator\", \"name\": \"Lucas Bielan\"}, {\"credit_id\": \"566046d7c3a36875e900359d\", \"department\": \"Sound\", \"gender\": 0, \"id\": 1404212, \"job\": \"Supervising Sound Editor\", \"name\": \"Karen Baker Landers\"}, {\"credit_id\": \"5677dd519251417845001588\", \"department\": \"Sound\", \"gender\": 0, \"id\": 1404217, \"job\": \"Sound Designer\", \"name\": \"Peter Staubli\"}, {\"credit_id\": \"5677d8d192514179e1009100\", \"department\": \"Camera\", \"gender\": 0, \"id\": 1404244, \"job\": \"Helicopter Camera\", \"name\": \"John Marzano\"}, {\"credit_id\": \"5677d927c3a36816850088f2\", \"department\": \"Camera\", \"gender\": 0, \"id\": 1405241, \"job\": \"Helicopter Camera\", \"name\": \"Adam Dale\"}, {\"credit_id\": \"5677dff292514179e100921a\", \"department\": \"Editing\", \"gender\": 0, \"id\": 1408363, \"job\": \"First Assistant Editor\", \"name\": \"Emma McCleave\"}, {\"credit_id\": \"5677e191925141784500164f\", \"department\": \"Costume & Make-Up\", \"gender\": 0, \"id\": 1409821, \"job\": \"Makeup Designer\", \"name\": \"Naomi Donne\"}, {\"credit_id\": \"5677e2b5c3a368168e0092aa\", \"department\": \"Crew\", \"gender\": 0, \"id\": 1411323, \"job\": \"Makeup Effects\", \"name\": \"Susan Howard\"}, {\"credit_id\": \"5677d869c3a36816850088e3\", \"department\": \"Lighting\", \"gender\": 0, \"id\": 1414096, \"job\": \"Gaffer\", \"name\": \"David Smith\"}, {\"credit_id\": \"56780712c3a368168b008ace\", \"department\": \"Crew\", \"gender\": 0, \"id\": 1415157, \"job\": \"CG Supervisor\", \"name\": \"Joel Green\"}, {\"credit_id\": \"567806ba92514179e10098ee\", \"department\": \"Crew\", \"gender\": 0, \"id\": 1425484, \"job\": \"CG Supervisor\", \"name\": \"Laurent Hugueniot\"}, {\"credit_id\": \"56780a92c3a36816850090af\", \"department\": \"Visual Effects\", \"gender\": 0, \"id\": 1425488, \"job\": \"Visual Effects Producer\", \"name\": \"Tim Keene\"}, {\"credit_id\": \"5677e087c3a368167a00922b\", \"department\": \"Costume & Make-Up\", \"gender\": 0, \"id\": 1425971, \"job\": \"Hair Designer\", \"name\": \"Zoe Tahir\"}, {\"credit_id\": \"567808eb92514179e300904a\", \"department\": \"Crew\", \"gender\": 0, \"id\": 1428902, \"job\": \"Visual Effects Editor\", \"name\": \"Conor Byrne\"}, {\"credit_id\": \"5677e22d925141691a00560d\", \"department\": \"Costume & Make-Up\", \"gender\": 0, \"id\": 1439128, \"job\": \"Makeup Artist\", \"name\": \"Charlotte Hayward\"}, {\"credit_id\": \"5677cf3fc3a36816850087c1\", \"department\": \"Visual Effects\", \"gender\": 0, \"id\": 1442137, \"job\": \"Animation Supervisor\", \"name\": \"Catherine Mullan\"}, {\"credit_id\": \"56780988c3a3681683008e99\", \"department\": \"Crew\", \"gender\": 0, \"id\": 1447617, \"job\": \"Visual Effects Editor\", \"name\": \"Crystal Hadcroft\"}, {\"credit_id\": \"5677e0ec925141691a0055d6\", \"department\": \"Costume & Make-Up\", \"gender\": 0, \"id\": 1458416, \"job\": \"Hairstylist\", \"name\": \"Francesca Crowder\"}, {\"credit_id\": \"5677cf2892514179dd008356\", \"department\": \"Visual Effects\", \"gender\": 0, \"id\": 1459878, \"job\": \"Animation Director\", \"name\": \"Marlene Chazot\"}, {\"credit_id\": \"5678091d92514179db009985\", \"department\": \"Crew\", \"gender\": 0, \"id\": 1459899, \"job\": \"Visual Effects Editor\", \"name\": \"Struan Farquhar\"}, {\"credit_id\": \"56780731c3a3681680009013\", \"department\": \"Crew\", \"gender\": 0, \"id\": 1459925, \"job\": \"CG Supervisor\", \"name\": \"Daniel Pastore\"}, {\"credit_id\": \"5677d969c3a368168b00834a\", \"department\": \"Camera\", \"gender\": 0, \"id\": 1470167, \"job\": \"Still Photographer\", \"name\": \"Jonathan Olley\"}, {\"credit_id\": \"5677e48dc3a368167a0092c8\", \"department\": \"Art\", \"gender\": 0, \"id\": 1472773, \"job\": \"Assistant Art Director\", \"name\": \"Sami Gaidi\"}, {\"credit_id\": \"5751eed59251416b60000637\", \"department\": \"Production\", \"gender\": 2, \"id\": 1477203, \"job\": \"Co-Producer\", \"name\": \"Luca Marco Paracels\"}, {\"credit_id\": \"5677e157c3a36816800089ee\", \"department\": \"Costume & Make-Up\", \"gender\": 0, \"id\": 1480629, \"job\": \"Key Hair Stylist\", \"name\": \"Luca Vannella\"}, {\"credit_id\": \"56780b0e925141691a005c8f\", \"department\": \"Visual Effects\", \"gender\": 0, \"id\": 1483141, \"job\": \"Visual Effects Supervisor\", \"name\": \"Stuart Bullen\"}, {\"credit_id\": \"582f29fa925141022e003a74\", \"department\": \"Sound\", \"gender\": 0, \"id\": 1494824, \"job\": \"Sound Effects Editor\", \"name\": \"Russell Edwards\"}, {\"credit_id\": \"5677d63dc3a368167a0090b4\", \"department\": \"Costume & Make-Up\", \"gender\": 0, \"id\": 1510431, \"job\": \"Costume Supervisor\", \"name\": \"Stefano De Nardis\"}, {\"credit_id\": \"5677d79992514179d20089c2\", \"department\": \"Camera\", \"gender\": 0, \"id\": 1512767, \"job\": \"Camera Operator\", \"name\": \"Luis David Sansans\"}, {\"credit_id\": \"5677d609c3a368168000881a\", \"department\": \"Costume & Make-Up\", \"gender\": 0, \"id\": 1545912, \"job\": \"Costume Supervisor\", \"name\": \"Abderrahim Benkhayi\"}, {\"credit_id\": \"5677d66cc3a368167a0090be\", \"department\": \"Costume & Make-Up\", \"gender\": 0, \"id\": 1545913, \"job\": \"Set Costumer\", \"name\": \"Rachid Aadassi\"}, {\"credit_id\": \"5677da26c3a368167a009139\", \"department\": \"Camera\", \"gender\": 0, \"id\": 1545995, \"job\": \"Additional Camera\", \"name\": \"Carlos De Carvalho\"}, {\"credit_id\": \"5677d5bec3a368167c008b13\", \"department\": \"Costume & Make-Up\", \"gender\": 0, \"id\": 1546747, \"job\": \"Assistant Costume Designer\", \"name\": \"Vivienne Jones\"}, {\"credit_id\": \"5677dfcac3a368168300875b\", \"department\": \"Editing\", \"gender\": 0, \"id\": 1548406, \"job\": \"Digital Intermediate\", \"name\": \"Kim Honeyman\"}, {\"credit_id\": \"5677e105c3a368168b00846d\", \"department\": \"Costume & Make-Up\", \"gender\": 0, \"id\": 1550637, \"job\": \"Hairstylist\", \"name\": \"Kathryn Fa\"}, {\"credit_id\": \"5677ce0c9251417845001384\", \"department\": \"Crew\", \"gender\": 0, \"id\": 1551770, \"job\": \"Carpenter\", \"name\": \"Paul Duff\"}, {\"credit_id\": \"5677ce5192514179e300871b\", \"department\": \"Crew\", \"gender\": 0, \"id\": 1551771, \"job\": \"Property Master\", \"name\": \"Ben Wilkinson\"}, {\"credit_id\": \"5677cec292514179dd00834d\", \"department\": \"Crew\", \"gender\": 0, \"id\": 1551772, \"job\": \"Special Effects Coordinator\", \"name\": \"Lynne Corbould\"}, {\"credit_id\": \"5677cf57c3a368168e008fcc\", \"department\": \"Production\", \"gender\": 0, \"id\": 1551773, \"job\": \"Casting\", \"name\": \"Amal El-Farfachi\"}, {\"credit_id\": \"5677cf99c3a368168b00821d\", \"department\": \"Production\", \"gender\": 0, \"id\": 1551774, \"job\": \"Casting Associate\", \"name\": \"Celebrity Booker\"}, {\"credit_id\": \"5677cfadc3a368167c008a30\", \"department\": \"Production\", \"gender\": 0, \"id\": 1551775, \"job\": \"Casting Associate\", \"name\": \"Lucy Hellier\"}, {\"credit_id\": \"5677d5a392514179db00911d\", \"department\": \"Costume & Make-Up\", \"gender\": 0, \"id\": 1551777, \"job\": \"Assistant Costume Designer\", \"name\": \"Richard Davies\"}, {\"credit_id\": \"5677dd6bc3a368168b0083e2\", \"department\": \"Sound\", \"gender\": 0, \"id\": 1551789, \"job\": \"Sound Effects Editor\", \"name\": \"Ando Johnson\"}, {\"credit_id\": \"5677de2dc3a3681683008713\", \"department\": \"Crew\", \"gender\": 0, \"id\": 1551791, \"job\": \"Armorer\", \"name\": \"Greg Corke\"}, {\"credit_id\": \"5677de8a92514179e10091d9\", \"department\": \"Production\", \"gender\": 0, \"id\": 1551796, \"job\": \"Researcher\", \"name\": \"Amin Rharda\"}, {\"credit_id\": \"5677dea9c3a368168e00921c\", \"department\": \"Crew\", \"gender\": 0, \"id\": 1551797, \"job\": \"Armorer\", \"name\": \"Joss Skottowe\"}, {\"credit_id\": \"5677e11c92514179dd0085e3\", \"department\": \"Costume & Make-Up\", \"gender\": 0, \"id\": 1551798, \"job\": \"Hairstylist\", \"name\": \"Joseph Koniak\"}, {\"credit_id\": \"5677e1b19251417845001657\", \"department\": \"Costume & Make-Up\", \"gender\": 0, \"id\": 1551800, \"job\": \"Makeup Artist\", \"name\": \"Thal\\\\u00eda Echeveste\"}, {\"credit_id\": \"5677e1c7c3a368167c008cd8\", \"department\": \"Costume & Make-Up\", \"gender\": 0, \"id\": 1551801, \"job\": \"Makeup Artist\", \"name\": \"Charlie Hounslow\"}, {\"credit_id\": \"5677e1e592514179d2008b7b\", \"department\": \"Costume & Make-Up\", \"gender\": 0, \"id\": 1551802, \"job\": \"Makeup Artist\", \"name\": \"Lucy Friend\"}, {\"credit_id\": \"5677e1fa92514179e1009265\", \"department\": \"Costume & Make-Up\", \"gender\": 0, \"id\": 1551803, \"job\": \"Makeup Artist\", \"name\": \"Yelska Labrada\"}, {\"credit_id\": \"5677e20fc3a36816830087d9\", \"department\": \"Costume & Make-Up\", \"gender\": 0, \"id\": 1551804, \"job\": \"Makeup Artist\", \"name\": \"Ana Gabriela Quinonez\"}, {\"credit_id\": \"5677e32d9251417845001683\", \"department\": \"Production\", \"gender\": 0, \"id\": 1551807, \"job\": \"Researcher\", \"name\": \"Gina De Ferrer\"}, {\"credit_id\": \"5677e47592514179e10092dd\", \"department\": \"Art\", \"gender\": 0, \"id\": 1551809, \"job\": \"Assistant Art Director\", \"name\": \"Lydia Fry\"}, {\"credit_id\": \"5677e4a492514179db009373\", \"department\": \"Art\", \"gender\": 0, \"id\": 1551810, \"job\": \"Assistant Art Director\", \"name\": \"Liam Georgensen\"}, {\"credit_id\": \"5677e4bb92514179dd00868a\", \"department\": \"Art\", \"gender\": 0, \"id\": 1551811, \"job\": \"Assistant Art Director\", \"name\": \"Hugh McClelland\"}, {\"credit_id\": \"5677e53092514179db00938e\", \"department\": \"Crew\", \"gender\": 0, \"id\": 1551812, \"job\": \"Carpenter\", \"name\": \"John Allen\"}, {\"credit_id\": \"5677e547c3a368167a0092ef\", \"department\": \"Crew\", \"gender\": 0, \"id\": 1551813, \"job\": \"Carpenter\", \"name\": \"Eddie Murphy\"}, {\"credit_id\": \"567806e092514179dd008c84\", \"department\": \"Crew\", \"gender\": 0, \"id\": 1551872, \"job\": \"CG Supervisor\", \"name\": \"Carlos-Christian Nickel\"}, {\"credit_id\": \"567806f7c3a368167a0098d7\", \"department\": \"Crew\", \"gender\": 0, \"id\": 1551874, \"job\": \"CG Supervisor\", \"name\": \"Chris Petts\"}, {\"credit_id\": \"567807b7c3a368167a0098f0\", \"department\": \"Visual Effects\", \"gender\": 0, \"id\": 1551892, \"job\": \"Visual Effects Coordinator\", \"name\": \"Hugh Brompton\"}, {\"credit_id\": \"567807d1c3a3681680009022\", \"department\": \"Visual Effects\", \"gender\": 0, \"id\": 1551893, \"job\": \"Visual Effects Coordinator\", \"name\": \"Jillian Brooks\"}, {\"credit_id\": \"567807eb92514179db00995e\", \"department\": \"Visual Effects\", \"gender\": 0, \"id\": 1551894, \"job\": \"Visual Effects Coordinator\", \"name\": \"Geraint Hixson\"}, {\"credit_id\": \"5678084f92514179d2009226\", \"department\": \"Visual Effects\", \"gender\": 0, \"id\": 1551896, \"job\": \"Visual Effects Coordinator\", \"name\": \"Shawn Smolensky\"}, {\"credit_id\": \"5678086992514179db00996d\", \"department\": \"Visual Effects\", \"gender\": 0, \"id\": 1551897, \"job\": \"Visual Effects Coordinator\", \"name\": \"Todd Whalen\"}, {\"credit_id\": \"56780884c3a3681689008d28\", \"department\": \"Visual Effects\", \"gender\": 0, \"id\": 1551898, \"job\": \"Visual Effects Coordinator\", \"name\": \"Alysia Wildman\"}, {\"credit_id\": \"567808a0c3a368167c0093a1\", \"department\": \"Visual Effects\", \"gender\": 0, \"id\": 1551899, \"job\": \"Visual Effects Coordinator\", \"name\": \"Sam Girdler\"}, {\"credit_id\": \"567808cdc3a3681685009073\", \"department\": \"Visual Effects\", \"gender\": 0, \"id\": 1551902, \"job\": \"Visual Effects Coordinator\", \"name\": \"Samantha Dark\"}, {\"credit_id\": \"567809519251417845001d1a\", \"department\": \"Crew\", \"gender\": 0, \"id\": 1551904, \"job\": \"Visual Effects Editor\", \"name\": \"Ty Gibson\"}, {\"credit_id\": \"567809bfc3a368167c0093e7\", \"department\": \"Crew\", \"gender\": 0, \"id\": 1551906, \"job\": \"Visual Effects Editor\", \"name\": \"James Mann\"}, {\"credit_id\": \"567809e392514179dd008d0c\", \"department\": \"Visual Effects\", \"gender\": 0, \"id\": 1551907, \"job\": \"Visual Effects Producer\", \"name\": \"Leslie Lerman\"}, {\"credit_id\": \"56780aef92514179d2009276\", \"department\": \"Visual Effects\", \"gender\": 0, \"id\": 1551908, \"job\": \"Visual Effects Supervisor\", \"name\": \"Steven Begg\"}, {\"credit_id\": \"56780b249251417845001d4a\", \"department\": \"Visual Effects\", \"gender\": 0, \"id\": 1551909, \"job\": \"Visual Effects Supervisor\", \"name\": \"Zave Jackson\"}, {\"credit_id\": \"56780b4e9251417845001d57\", \"department\": \"Visual Effects\", \"gender\": 2, \"id\": 1551910, \"job\": \"Visual Effects Supervisor\", \"name\": \"Jonathan Knight\"}, {\"credit_id\": \"56780bb692514179d2009291\", \"department\": \"Visual Effects\", \"gender\": 0, \"id\": 1551911, \"job\": \"Visual Effects Supervisor\", \"name\": \"Alex Wuttke\"}, {\"credit_id\": \"56780c5a92514179e7008f22\", \"department\": \"Visual Effects\", \"gender\": 0, \"id\": 1551913, \"job\": \"Visual Effects Supervisor\", \"name\": \"Mark Bakowski\"}, {\"credit_id\": \"56780c8292514179e30090d1\", \"department\": \"Visual Effects\", \"gender\": 0, \"id\": 1551914, \"job\": \"Visual Effects Supervisor\", \"name\": \"Paul Round\"}, {\"credit_id\": \"56cd782ac3a368275b001cae\", \"department\": \"Lighting\", \"gender\": 0, \"id\": 1553236, \"job\": \"Gaffer\", \"name\": \"Stefano Marino\"}, {\"credit_id\": \"56cd7899c3a3682759001bfd\", \"department\": \"Lighting\", \"gender\": 0, \"id\": 1582109, \"job\": \"Gaffer\", \"name\": \"Hanz Kawson\"}]',\n",
       "       ...,\n",
       "       '[{\"credit_id\": \"52fe4df3c3a36847f8275ecf\", \"department\": \"Costume & Make-Up\", \"gender\": 0, \"id\": 23816, \"job\": \"Costume Design\", \"name\": \"Carla Hetland\"}, {\"credit_id\": \"583328efc3a368675d0016e4\", \"department\": \"Production\", \"gender\": 2, \"id\": 32733, \"job\": \"Producer\", \"name\": \"Harvey Kahn\"}, {\"credit_id\": \"52fe4df3c3a36847f8275eb7\", \"department\": \"Camera\", \"gender\": 2, \"id\": 43925, \"job\": \"Director of Photography\", \"name\": \"Adam Sliwinski\"}, {\"credit_id\": \"52fe4df3c3a36847f8275eb1\", \"department\": \"Writing\", \"gender\": 1, \"id\": 166873, \"job\": \"Writer\", \"name\": \"Martha Williamson\"}, {\"credit_id\": \"58332c6ac3a3686753001dcf\", \"department\": \"Production\", \"gender\": 1, \"id\": 166873, \"job\": \"Executive Producer\", \"name\": \"Martha Williamson\"}, {\"credit_id\": \"554ea9ddc3a36879530001d9\", \"department\": \"Production\", \"gender\": 2, \"id\": 174065, \"job\": \"Executive Producer\", \"name\": \"Joel S. Rice\"}, {\"credit_id\": \"5833288e92514103450018f0\", \"department\": \"Production\", \"gender\": 1, \"id\": 435006, \"job\": \"Casting\", \"name\": \"Jackie Lind\"}, {\"credit_id\": \"5833289ac3a36867500019b1\", \"department\": \"Production\", \"gender\": 0, \"id\": 551521, \"job\": \"Casting\", \"name\": \"Shana Landsburg\"}, {\"credit_id\": \"52fe4df3c3a36847f8275ec9\", \"department\": \"Art\", \"gender\": 1, \"id\": 1012891, \"job\": \"Production Design\", \"name\": \"Renee Read\"}, {\"credit_id\": \"52fe4df3c3a36847f8275ec3\", \"department\": \"Sound\", \"gender\": 2, \"id\": 1099146, \"job\": \"Original Music Composer\", \"name\": \"Hal Beckett\"}, {\"credit_id\": \"52fe4df3c3a36847f8275eab\", \"department\": \"Directing\", \"gender\": 0, \"id\": 1219158, \"job\": \"Director\", \"name\": \"Scott Smith\"}, {\"credit_id\": \"58332c3f9251410348001bf2\", \"department\": \"Production\", \"gender\": 0, \"id\": 1219158, \"job\": \"Executive Producer\", \"name\": \"Scott Smith\"}, {\"credit_id\": \"52fe4df3c3a36847f8275ebd\", \"department\": \"Editing\", \"gender\": 0, \"id\": 1271268, \"job\": \"Editor\", \"name\": \"Lisa Binkley\"}]',\n",
       "       '[{\"credit_id\": \"52fe4ad9c3a368484e16a36b\", \"department\": \"Directing\", \"gender\": 2, \"id\": 208138, \"job\": \"Director\", \"name\": \"Daniel Hsia\"}, {\"credit_id\": \"52fe4ad9c3a368484e16a371\", \"department\": \"Writing\", \"gender\": 2, \"id\": 208138, \"job\": \"Writer\", \"name\": \"Daniel Hsia\"}]',\n",
       "       '[{\"credit_id\": \"58ce021b9251415a390165d9\", \"department\": \"Production\", \"gender\": 2, \"id\": 6888, \"job\": \"Executive Producer\", \"name\": \"Clark Peterson\"}, {\"credit_id\": \"58ce0232c3a36850e90157da\", \"department\": \"Production\", \"gender\": 2, \"id\": 61051, \"job\": \"Executive Producer\", \"name\": \"Andrew Reimer\"}, {\"credit_id\": \"52fe44e8c3a368484e03da8d\", \"department\": \"Directing\", \"gender\": 2, \"id\": 85563, \"job\": \"Director\", \"name\": \"Brian Herzlinger\"}, {\"credit_id\": \"52fe44e8c3a368484e03da87\", \"department\": \"Directing\", \"gender\": 2, \"id\": 94471, \"job\": \"Director\", \"name\": \"Jon Gunn\"}, {\"credit_id\": \"52fe44e8c3a368484e03da97\", \"department\": \"Directing\", \"gender\": 0, \"id\": 997560, \"job\": \"Director\", \"name\": \"Brett Winn\"}]'],\n",
       "      dtype=object)"
      ]
     },
     "execution_count": 37,
     "metadata": {},
     "output_type": "execute_result"
    }
   ],
   "source": [
    "movies['crew'].values"
   ]
  },
  {
   "cell_type": "code",
   "execution_count": 38,
   "id": "f5894030-a032-41d4-a3b1-467df2aeff78",
   "metadata": {},
   "outputs": [],
   "source": [
    "# fetch_ director name\n",
    "\n",
    "def fetch_director(obj):\n",
    "    L = []\n",
    "    for i in ast.literal_eval(obj):\n",
    "        if i['job']== 'Director':\n",
    "            L.append(i['name'])\n",
    "            break\n",
    "    return L"
   ]
  },
  {
   "cell_type": "code",
   "execution_count": 39,
   "id": "e86ec94e-df8c-4833-a6f9-6137e13c2e9e",
   "metadata": {},
   "outputs": [
    {
     "data": {
      "text/plain": [
       "0           [James Cameron]\n",
       "1          [Gore Verbinski]\n",
       "2              [Sam Mendes]\n",
       "3       [Christopher Nolan]\n",
       "4          [Andrew Stanton]\n",
       "               ...         \n",
       "4804     [Robert Rodriguez]\n",
       "4805         [Edward Burns]\n",
       "4806          [Scott Smith]\n",
       "4807          [Daniel Hsia]\n",
       "4808     [Brian Herzlinger]\n",
       "Name: crew, Length: 4806, dtype: object"
      ]
     },
     "execution_count": 39,
     "metadata": {},
     "output_type": "execute_result"
    }
   ],
   "source": [
    "movies['crew'].apply(fetch_director)"
   ]
  },
  {
   "cell_type": "code",
   "execution_count": 40,
   "id": "31b8ae11-385b-4380-a8ee-f6c6c7c9c52d",
   "metadata": {},
   "outputs": [],
   "source": [
    "movies['crew']= movies['crew'].apply(fetch_director)"
   ]
  },
  {
   "cell_type": "code",
   "execution_count": 41,
   "id": "3203b819-1983-44cd-ba59-08e105227ad3",
   "metadata": {},
   "outputs": [
    {
     "data": {
      "text/plain": [
       "'In the 22nd century, a paraplegic Marine is dispatched to the moon Pandora on a unique mission, but becomes torn between following orders and protecting an alien civilization.'"
      ]
     },
     "execution_count": 41,
     "metadata": {},
     "output_type": "execute_result"
    }
   ],
   "source": [
    "## now we will deal with overview wala column\n",
    "movies['overview'][0]"
   ]
  },
  {
   "cell_type": "code",
   "execution_count": 42,
   "id": "2c7f0a8b-f066-4ecf-b7fc-335424dd19bf",
   "metadata": {},
   "outputs": [],
   "source": [
    "movies['overview']= movies['overview'].apply(lambda x: x.split())"
   ]
  },
  {
   "cell_type": "code",
   "execution_count": 43,
   "id": "2ae18e45-76c7-4de3-892a-8b2d691cb044",
   "metadata": {},
   "outputs": [
    {
     "data": {
      "text/html": [
       "<div>\n",
       "<style scoped>\n",
       "    .dataframe tbody tr th:only-of-type {\n",
       "        vertical-align: middle;\n",
       "    }\n",
       "\n",
       "    .dataframe tbody tr th {\n",
       "        vertical-align: top;\n",
       "    }\n",
       "\n",
       "    .dataframe thead th {\n",
       "        text-align: right;\n",
       "    }\n",
       "</style>\n",
       "<table border=\"1\" class=\"dataframe\">\n",
       "  <thead>\n",
       "    <tr style=\"text-align: right;\">\n",
       "      <th></th>\n",
       "      <th>movie_id</th>\n",
       "      <th>title</th>\n",
       "      <th>overview</th>\n",
       "      <th>genres</th>\n",
       "      <th>keywords</th>\n",
       "      <th>cast</th>\n",
       "      <th>crew</th>\n",
       "    </tr>\n",
       "  </thead>\n",
       "  <tbody>\n",
       "    <tr>\n",
       "      <th>0</th>\n",
       "      <td>19995</td>\n",
       "      <td>Avatar</td>\n",
       "      <td>[In, the, 22nd, century,, a, paraplegic, Marin...</td>\n",
       "      <td>[Action, Adventure, Fantasy, Science Fiction]</td>\n",
       "      <td>[culture clash, future, space war, space colon...</td>\n",
       "      <td>[Sam Worthington, Zoe Saldana, Sigourney Weaver]</td>\n",
       "      <td>[James Cameron]</td>\n",
       "    </tr>\n",
       "  </tbody>\n",
       "</table>\n",
       "</div>"
      ],
      "text/plain": [
       "   movie_id   title                                           overview  \\\n",
       "0     19995  Avatar  [In, the, 22nd, century,, a, paraplegic, Marin...   \n",
       "\n",
       "                                          genres  \\\n",
       "0  [Action, Adventure, Fantasy, Science Fiction]   \n",
       "\n",
       "                                            keywords  \\\n",
       "0  [culture clash, future, space war, space colon...   \n",
       "\n",
       "                                               cast             crew  \n",
       "0  [Sam Worthington, Zoe Saldana, Sigourney Weaver]  [James Cameron]  "
      ]
     },
     "execution_count": 43,
     "metadata": {},
     "output_type": "execute_result"
    }
   ],
   "source": [
    "movies.head(1)"
   ]
  },
  {
   "cell_type": "code",
   "execution_count": 44,
   "id": "a100319c-8865-4527-9e01-6ab1b5f16a8b",
   "metadata": {},
   "outputs": [],
   "source": [
    "## since we have converted every column in lists now we will add them"
   ]
  },
  {
   "cell_type": "code",
   "execution_count": 45,
   "id": "9aa267ba-3887-471b-8b78-09f41fb84640",
   "metadata": {},
   "outputs": [],
   "source": [
    "## one more problem we have to address and that is \n",
    "## for eg we want to watch sam worthington's movie, but we also have sam mendis in our data\n",
    "## so now we have to fill the gap such that it can become one entity "
   ]
  },
  {
   "cell_type": "code",
   "execution_count": 46,
   "id": "b55d70e5-0312-416f-859c-d6c47a95c804",
   "metadata": {},
   "outputs": [],
   "source": [
    "movies['genres']= movies['genres'].apply(lambda x: [i.replace(\" \", \"\") for i in x])\n",
    "movies['overview']= movies['overview'].apply(lambda x: [i.replace(\" \", \"\") for i in x])\n",
    "movies['keywords']= movies['keywords'].apply(lambda x: [i.replace(\" \", \"\") for i in x])\n",
    "movies['cast']= movies['cast'].apply(lambda x: [i.replace(\" \", \"\") for i in x])\n",
    "movies['crew']= movies['crew'].apply(lambda x: [i.replace(\" \", \"\") for i in x])"
   ]
  },
  {
   "cell_type": "code",
   "execution_count": 47,
   "id": "d448ed07-e957-463c-bcdf-78cce15bcb86",
   "metadata": {},
   "outputs": [
    {
     "data": {
      "text/html": [
       "<div>\n",
       "<style scoped>\n",
       "    .dataframe tbody tr th:only-of-type {\n",
       "        vertical-align: middle;\n",
       "    }\n",
       "\n",
       "    .dataframe tbody tr th {\n",
       "        vertical-align: top;\n",
       "    }\n",
       "\n",
       "    .dataframe thead th {\n",
       "        text-align: right;\n",
       "    }\n",
       "</style>\n",
       "<table border=\"1\" class=\"dataframe\">\n",
       "  <thead>\n",
       "    <tr style=\"text-align: right;\">\n",
       "      <th></th>\n",
       "      <th>movie_id</th>\n",
       "      <th>title</th>\n",
       "      <th>overview</th>\n",
       "      <th>genres</th>\n",
       "      <th>keywords</th>\n",
       "      <th>cast</th>\n",
       "      <th>crew</th>\n",
       "    </tr>\n",
       "  </thead>\n",
       "  <tbody>\n",
       "    <tr>\n",
       "      <th>0</th>\n",
       "      <td>19995</td>\n",
       "      <td>Avatar</td>\n",
       "      <td>[In, the, 22nd, century,, a, paraplegic, Marin...</td>\n",
       "      <td>[Action, Adventure, Fantasy, ScienceFiction]</td>\n",
       "      <td>[cultureclash, future, spacewar, spacecolony, ...</td>\n",
       "      <td>[SamWorthington, ZoeSaldana, SigourneyWeaver]</td>\n",
       "      <td>[JamesCameron]</td>\n",
       "    </tr>\n",
       "  </tbody>\n",
       "</table>\n",
       "</div>"
      ],
      "text/plain": [
       "   movie_id   title                                           overview  \\\n",
       "0     19995  Avatar  [In, the, 22nd, century,, a, paraplegic, Marin...   \n",
       "\n",
       "                                         genres  \\\n",
       "0  [Action, Adventure, Fantasy, ScienceFiction]   \n",
       "\n",
       "                                            keywords  \\\n",
       "0  [cultureclash, future, spacewar, spacecolony, ...   \n",
       "\n",
       "                                            cast            crew  \n",
       "0  [SamWorthington, ZoeSaldana, SigourneyWeaver]  [JamesCameron]  "
      ]
     },
     "execution_count": 47,
     "metadata": {},
     "output_type": "execute_result"
    }
   ],
   "source": [
    "movies.head(1)"
   ]
  },
  {
   "cell_type": "code",
   "execution_count": 48,
   "id": "1a8c50dc-5a5a-40e8-beec-b12401aa9bea",
   "metadata": {},
   "outputs": [],
   "source": [
    "## now we will be making tags using all these cols\n",
    "\n",
    "movies['tags']= movies['overview']+ movies['genres']+ movies['keywords']+ movies['cast']+ movies['crew']"
   ]
  },
  {
   "cell_type": "code",
   "execution_count": 49,
   "id": "2880e70f-fb94-479b-a26b-ea6caaa519a6",
   "metadata": {},
   "outputs": [
    {
     "data": {
      "text/html": [
       "<div>\n",
       "<style scoped>\n",
       "    .dataframe tbody tr th:only-of-type {\n",
       "        vertical-align: middle;\n",
       "    }\n",
       "\n",
       "    .dataframe tbody tr th {\n",
       "        vertical-align: top;\n",
       "    }\n",
       "\n",
       "    .dataframe thead th {\n",
       "        text-align: right;\n",
       "    }\n",
       "</style>\n",
       "<table border=\"1\" class=\"dataframe\">\n",
       "  <thead>\n",
       "    <tr style=\"text-align: right;\">\n",
       "      <th></th>\n",
       "      <th>movie_id</th>\n",
       "      <th>title</th>\n",
       "      <th>overview</th>\n",
       "      <th>genres</th>\n",
       "      <th>keywords</th>\n",
       "      <th>cast</th>\n",
       "      <th>crew</th>\n",
       "      <th>tags</th>\n",
       "    </tr>\n",
       "  </thead>\n",
       "  <tbody>\n",
       "    <tr>\n",
       "      <th>0</th>\n",
       "      <td>19995</td>\n",
       "      <td>Avatar</td>\n",
       "      <td>[In, the, 22nd, century,, a, paraplegic, Marin...</td>\n",
       "      <td>[Action, Adventure, Fantasy, ScienceFiction]</td>\n",
       "      <td>[cultureclash, future, spacewar, spacecolony, ...</td>\n",
       "      <td>[SamWorthington, ZoeSaldana, SigourneyWeaver]</td>\n",
       "      <td>[JamesCameron]</td>\n",
       "      <td>[In, the, 22nd, century,, a, paraplegic, Marin...</td>\n",
       "    </tr>\n",
       "  </tbody>\n",
       "</table>\n",
       "</div>"
      ],
      "text/plain": [
       "   movie_id   title                                           overview  \\\n",
       "0     19995  Avatar  [In, the, 22nd, century,, a, paraplegic, Marin...   \n",
       "\n",
       "                                         genres  \\\n",
       "0  [Action, Adventure, Fantasy, ScienceFiction]   \n",
       "\n",
       "                                            keywords  \\\n",
       "0  [cultureclash, future, spacewar, spacecolony, ...   \n",
       "\n",
       "                                            cast            crew  \\\n",
       "0  [SamWorthington, ZoeSaldana, SigourneyWeaver]  [JamesCameron]   \n",
       "\n",
       "                                                tags  \n",
       "0  [In, the, 22nd, century,, a, paraplegic, Marin...  "
      ]
     },
     "execution_count": 49,
     "metadata": {},
     "output_type": "execute_result"
    }
   ],
   "source": [
    "movies.head(1)"
   ]
  },
  {
   "cell_type": "code",
   "execution_count": 50,
   "id": "032d2f96-0942-4805-b2d8-e148684125b1",
   "metadata": {},
   "outputs": [],
   "source": [
    "## now\n",
    "\n",
    "new_df= movies[['movie_id', 'title', 'tags']]"
   ]
  },
  {
   "cell_type": "code",
   "execution_count": 51,
   "id": "305590e1-3955-4b87-bcec-159f62c7f8d2",
   "metadata": {},
   "outputs": [
    {
     "data": {
      "text/html": [
       "<div>\n",
       "<style scoped>\n",
       "    .dataframe tbody tr th:only-of-type {\n",
       "        vertical-align: middle;\n",
       "    }\n",
       "\n",
       "    .dataframe tbody tr th {\n",
       "        vertical-align: top;\n",
       "    }\n",
       "\n",
       "    .dataframe thead th {\n",
       "        text-align: right;\n",
       "    }\n",
       "</style>\n",
       "<table border=\"1\" class=\"dataframe\">\n",
       "  <thead>\n",
       "    <tr style=\"text-align: right;\">\n",
       "      <th></th>\n",
       "      <th>movie_id</th>\n",
       "      <th>title</th>\n",
       "      <th>tags</th>\n",
       "    </tr>\n",
       "  </thead>\n",
       "  <tbody>\n",
       "    <tr>\n",
       "      <th>0</th>\n",
       "      <td>19995</td>\n",
       "      <td>Avatar</td>\n",
       "      <td>[In, the, 22nd, century,, a, paraplegic, Marin...</td>\n",
       "    </tr>\n",
       "  </tbody>\n",
       "</table>\n",
       "</div>"
      ],
      "text/plain": [
       "   movie_id   title                                               tags\n",
       "0     19995  Avatar  [In, the, 22nd, century,, a, paraplegic, Marin..."
      ]
     },
     "execution_count": 51,
     "metadata": {},
     "output_type": "execute_result"
    }
   ],
   "source": [
    "new_df.head(1)"
   ]
  },
  {
   "cell_type": "code",
   "execution_count": 52,
   "id": "e5a40408-e6f7-4457-bf8d-74da53f0a786",
   "metadata": {},
   "outputs": [
    {
     "name": "stderr",
     "output_type": "stream",
     "text": [
      "C:\\Users\\Lenovo\\AppData\\Local\\Temp\\ipykernel_16492\\2001104138.py:2: SettingWithCopyWarning: \n",
      "A value is trying to be set on a copy of a slice from a DataFrame.\n",
      "Try using .loc[row_indexer,col_indexer] = value instead\n",
      "\n",
      "See the caveats in the documentation: https://pandas.pydata.org/pandas-docs/stable/user_guide/indexing.html#returning-a-view-versus-a-copy\n",
      "  new_df['tags']= new_df['tags'].apply(lambda x: \" \".join(x))\n"
     ]
    }
   ],
   "source": [
    "#converting it into strings\n",
    "new_df['tags']= new_df['tags'].apply(lambda x: \" \".join(x))"
   ]
  },
  {
   "cell_type": "code",
   "execution_count": 53,
   "id": "e9a9ab1a-6382-4341-83de-562b87d9e773",
   "metadata": {},
   "outputs": [
    {
     "data": {
      "text/plain": [
       "'In the 22nd century, a paraplegic Marine is dispatched to the moon Pandora on a unique mission, but becomes torn between following orders and protecting an alien civilization. Action Adventure Fantasy ScienceFiction cultureclash future spacewar spacecolony society spacetravel futuristic romance space alien tribe alienplanet cgi marine soldier battle loveaffair antiwar powerrelations mindandsoul 3d SamWorthington ZoeSaldana SigourneyWeaver JamesCameron'"
      ]
     },
     "execution_count": 53,
     "metadata": {},
     "output_type": "execute_result"
    }
   ],
   "source": [
    "new_df['tags'][0]"
   ]
  },
  {
   "cell_type": "code",
   "execution_count": 54,
   "id": "151a4fda-ac05-4cef-be7b-c4de3c98efb0",
   "metadata": {},
   "outputs": [
    {
     "name": "stderr",
     "output_type": "stream",
     "text": [
      "C:\\Users\\Lenovo\\AppData\\Local\\Temp\\ipykernel_16492\\4221490449.py:3: SettingWithCopyWarning: \n",
      "A value is trying to be set on a copy of a slice from a DataFrame.\n",
      "Try using .loc[row_indexer,col_indexer] = value instead\n",
      "\n",
      "See the caveats in the documentation: https://pandas.pydata.org/pandas-docs/stable/user_guide/indexing.html#returning-a-view-versus-a-copy\n",
      "  new_df['tags']= new_df['tags'].apply(lambda x: x.lower())\n"
     ]
    }
   ],
   "source": [
    "# we should convert everything in lowercase\n",
    "\n",
    "new_df['tags']= new_df['tags'].apply(lambda x: x.lower())"
   ]
  },
  {
   "cell_type": "code",
   "execution_count": 55,
   "id": "a57efa65-92ea-41ca-a4cb-c08edb92deb8",
   "metadata": {},
   "outputs": [
    {
     "data": {
      "text/html": [
       "<div>\n",
       "<style scoped>\n",
       "    .dataframe tbody tr th:only-of-type {\n",
       "        vertical-align: middle;\n",
       "    }\n",
       "\n",
       "    .dataframe tbody tr th {\n",
       "        vertical-align: top;\n",
       "    }\n",
       "\n",
       "    .dataframe thead th {\n",
       "        text-align: right;\n",
       "    }\n",
       "</style>\n",
       "<table border=\"1\" class=\"dataframe\">\n",
       "  <thead>\n",
       "    <tr style=\"text-align: right;\">\n",
       "      <th></th>\n",
       "      <th>movie_id</th>\n",
       "      <th>title</th>\n",
       "      <th>tags</th>\n",
       "    </tr>\n",
       "  </thead>\n",
       "  <tbody>\n",
       "    <tr>\n",
       "      <th>0</th>\n",
       "      <td>19995</td>\n",
       "      <td>Avatar</td>\n",
       "      <td>in the 22nd century, a paraplegic marine is di...</td>\n",
       "    </tr>\n",
       "    <tr>\n",
       "      <th>1</th>\n",
       "      <td>285</td>\n",
       "      <td>Pirates of the Caribbean: At World's End</td>\n",
       "      <td>captain barbossa, long believed to be dead, ha...</td>\n",
       "    </tr>\n",
       "    <tr>\n",
       "      <th>2</th>\n",
       "      <td>206647</td>\n",
       "      <td>Spectre</td>\n",
       "      <td>a cryptic message from bond’s past sends him o...</td>\n",
       "    </tr>\n",
       "    <tr>\n",
       "      <th>3</th>\n",
       "      <td>49026</td>\n",
       "      <td>The Dark Knight Rises</td>\n",
       "      <td>following the death of district attorney harve...</td>\n",
       "    </tr>\n",
       "    <tr>\n",
       "      <th>4</th>\n",
       "      <td>49529</td>\n",
       "      <td>John Carter</td>\n",
       "      <td>john carter is a war-weary, former military ca...</td>\n",
       "    </tr>\n",
       "  </tbody>\n",
       "</table>\n",
       "</div>"
      ],
      "text/plain": [
       "   movie_id                                     title  \\\n",
       "0     19995                                    Avatar   \n",
       "1       285  Pirates of the Caribbean: At World's End   \n",
       "2    206647                                   Spectre   \n",
       "3     49026                     The Dark Knight Rises   \n",
       "4     49529                               John Carter   \n",
       "\n",
       "                                                tags  \n",
       "0  in the 22nd century, a paraplegic marine is di...  \n",
       "1  captain barbossa, long believed to be dead, ha...  \n",
       "2  a cryptic message from bond’s past sends him o...  \n",
       "3  following the death of district attorney harve...  \n",
       "4  john carter is a war-weary, former military ca...  "
      ]
     },
     "execution_count": 55,
     "metadata": {},
     "output_type": "execute_result"
    }
   ],
   "source": [
    "new_df.head()"
   ]
  },
  {
   "cell_type": "code",
   "execution_count": 56,
   "id": "bde55b7d-f77f-47c0-8090-d723de128436",
   "metadata": {},
   "outputs": [],
   "source": [
    "import nltk\n",
    "from nltk.stem.porter import PorterStemmer\n",
    "ps= PorterStemmer()"
   ]
  },
  {
   "cell_type": "code",
   "execution_count": 57,
   "id": "5c0d7a88-e68f-4f3b-9f64-08bd57847b35",
   "metadata": {},
   "outputs": [],
   "source": [
    "def stem(text):\n",
    "    y=[]\n",
    "    for i in text.split():\n",
    "        y.append(ps.stem(i))\n",
    "    return \" \".join(y)"
   ]
  },
  {
   "cell_type": "code",
   "execution_count": 58,
   "id": "b24ac980-b683-4075-bcc4-f3c9a5e1852a",
   "metadata": {},
   "outputs": [
    {
     "name": "stderr",
     "output_type": "stream",
     "text": [
      "C:\\Users\\Lenovo\\AppData\\Local\\Temp\\ipykernel_16492\\3021978705.py:1: SettingWithCopyWarning: \n",
      "A value is trying to be set on a copy of a slice from a DataFrame.\n",
      "Try using .loc[row_indexer,col_indexer] = value instead\n",
      "\n",
      "See the caveats in the documentation: https://pandas.pydata.org/pandas-docs/stable/user_guide/indexing.html#returning-a-view-versus-a-copy\n",
      "  new_df['tags']= new_df['tags'].apply(stem)\n"
     ]
    }
   ],
   "source": [
    "new_df['tags']= new_df['tags'].apply(stem)"
   ]
  },
  {
   "cell_type": "code",
   "execution_count": 59,
   "id": "62826769-8f26-475c-b716-cd7797170812",
   "metadata": {},
   "outputs": [
    {
     "data": {
      "text/plain": [
       "'in the 22nd century, a parapleg marin is dispatch to the moon pandora on a uniqu mission, but becom torn between follow order and protect an alien civilization. action adventur fantasi sciencefict cultureclash futur spacewar spacecoloni societi spacetravel futurist romanc space alien tribe alienplanet cgi marin soldier battl loveaffair antiwar powerrel mindandsoul 3d samworthington zoesaldana sigourneyweav jamescameron'"
      ]
     },
     "execution_count": 59,
     "metadata": {},
     "output_type": "execute_result"
    }
   ],
   "source": [
    "new_df['tags'][0]"
   ]
  },
  {
   "cell_type": "code",
   "execution_count": 60,
   "id": "2ea44a6b-749a-4937-830c-ab08ec610442",
   "metadata": {},
   "outputs": [],
   "source": [
    "## now we have to do vectorization and we also need similarity scores"
   ]
  },
  {
   "cell_type": "code",
   "execution_count": 61,
   "id": "76faf9b6-78a3-4525-a777-32ac036f345a",
   "metadata": {},
   "outputs": [],
   "source": [
    "# we will be using bag of words technique\n",
    "\n",
    "from sklearn.feature_extraction.text import CountVectorizer\n",
    "cv= CountVectorizer(max_features= 5000, stop_words= 'english')"
   ]
  },
  {
   "cell_type": "code",
   "execution_count": 62,
   "id": "0c08cd20-e9a9-4d80-8cad-344a8512d57f",
   "metadata": {},
   "outputs": [],
   "source": [
    "tag_vectors= cv.fit_transform(new_df['tags']).toarray()"
   ]
  },
  {
   "cell_type": "code",
   "execution_count": 63,
   "id": "0cf1fa38-f98f-4ff6-8a77-122388af2679",
   "metadata": {},
   "outputs": [
    {
     "data": {
      "text/plain": [
       "(4806, 5000)"
      ]
     },
     "execution_count": 63,
     "metadata": {},
     "output_type": "execute_result"
    }
   ],
   "source": [
    "tag_vectors.shape"
   ]
  },
  {
   "cell_type": "code",
   "execution_count": 64,
   "id": "29dc979c-9ba8-4f48-8ec0-721b6606ddaa",
   "metadata": {},
   "outputs": [
    {
     "data": {
      "text/plain": [
       "array(['000', '007', '10', ..., 'zone', 'zoo', 'zooeydeschanel'],\n",
       "      dtype=object)"
      ]
     },
     "execution_count": 64,
     "metadata": {},
     "output_type": "execute_result"
    }
   ],
   "source": [
    "# to see these 5000 most occurent words\n",
    "cv.get_feature_names_out()"
   ]
  },
  {
   "cell_type": "code",
   "execution_count": 65,
   "id": "1b734f0b-5c97-4c9d-ae02-5f7ce400c89c",
   "metadata": {},
   "outputs": [],
   "source": [
    "# now we need cosine distance between these vectors"
   ]
  },
  {
   "cell_type": "code",
   "execution_count": 66,
   "id": "96523a9c-d189-468b-abb8-6a763eaa6239",
   "metadata": {},
   "outputs": [],
   "source": [
    "from sklearn.metrics.pairwise import cosine_similarity"
   ]
  },
  {
   "cell_type": "code",
   "execution_count": 67,
   "id": "38fee912-0dc8-4f80-86a2-45c4570b9e56",
   "metadata": {},
   "outputs": [],
   "source": [
    "#this fn calculates the similarity score of each movie with every movie\n",
    "similarity= cosine_similarity(tag_vectors)"
   ]
  },
  {
   "cell_type": "code",
   "execution_count": 68,
   "id": "cb884324-3744-4616-89ae-73a9b724d8fa",
   "metadata": {},
   "outputs": [
    {
     "data": {
      "text/plain": [
       "(4806,)"
      ]
     },
     "execution_count": 68,
     "metadata": {},
     "output_type": "execute_result"
    }
   ],
   "source": [
    "similarity[0].shape"
   ]
  },
  {
   "cell_type": "code",
   "execution_count": 69,
   "id": "a2829f88-32a7-4625-85db-869ddacdfca0",
   "metadata": {},
   "outputs": [],
   "source": [
    "#list(enumerate(similarity[0]))"
   ]
  },
  {
   "cell_type": "code",
   "execution_count": 70,
   "id": "c3fcf688-db44-4ca1-935f-cd8b71816eed",
   "metadata": {},
   "outputs": [],
   "source": [
    "#sorted(similarity[0])"
   ]
  },
  {
   "cell_type": "code",
   "execution_count": 71,
   "id": "711657fc-b46a-4b48-a8e6-11ea55d5031c",
   "metadata": {},
   "outputs": [],
   "source": [
    "#hence index position is changing on sorting \n",
    "# we have to find the other way-- use enumerate fn"
   ]
  },
  {
   "cell_type": "code",
   "execution_count": 72,
   "id": "dcfb0cd0-5259-47dd-9d22-a0820cae36c9",
   "metadata": {
    "scrolled": true
   },
   "outputs": [
    {
     "data": {
      "text/plain": [
       "[(0, 1.0000000000000002),\n",
       " (1214, 0.28676966733820225),\n",
       " (2405, 0.26901379342448517),\n",
       " (3728, 0.2605130246476754),\n",
       " (507, 0.255608593705383),\n",
       " (539, 0.25038669783359574),\n",
       " (582, 0.24511108480187255),\n",
       " (1202, 0.24455799402225925),\n",
       " (1192, 0.2367785320221084),\n",
       " (61, 0.23179316248638276),\n",
       " (778, 0.23174488732966073),\n",
       " (4046, 0.2278389747471728),\n",
       " (1916, 0.2252817784447915),\n",
       " (2782, 0.21853668936906193),\n",
       " (172, 0.21239769762143662),\n",
       " (972, 0.2108663315950723),\n",
       " (322, 0.2105263157894737),\n",
       " (2329, 0.20443988269091456),\n",
       " (3606, 0.20437977982832192),\n",
       " (260, 0.20395079136182276),\n",
       " (151, 0.2029530274475215),\n",
       " (4190, 0.2029530274475215),\n",
       " (1440, 0.20277677641345318),\n",
       " (74, 0.2024645717996314),\n",
       " (1087, 0.2020475485519274),\n",
       " (3671, 0.1979082783981174),\n",
       " (973, 0.19767387315371682),\n",
       " (577, 0.1976738731537168),\n",
       " (47, 0.19672236884115843),\n",
       " (2969, 0.1925214071641298),\n",
       " (942, 0.19134594929397597),\n",
       " (495, 0.19088542889273336),\n",
       " (1199, 0.19088542889273336),\n",
       " (305, 0.19007487139298027),\n",
       " (4, 0.1892994097121204),\n",
       " (4405, 0.18731716231633883),\n",
       " (94, 0.1873171623163388),\n",
       " (27, 0.18693292157876878),\n",
       " (3325, 0.1860807318911967),\n",
       " (1273, 0.18394180184548975),\n",
       " (1327, 0.18394180184548975),\n",
       " (2997, 0.1813690625275029),\n",
       " (3997, 0.18074256993863339),\n",
       " (83, 0.17996850826633903),\n",
       " (1069, 0.17954621161490197),\n",
       " (220, 0.1777046633277277),\n",
       " (184, 0.177343107178349),\n",
       " (1319, 0.17699808135119718),\n",
       " (168, 0.17521916101261562),\n",
       " (2200, 0.17521916101261562),\n",
       " (4336, 0.17521916101261562),\n",
       " (931, 0.1748149640244195),\n",
       " (36, 0.17316974359835272),\n",
       " (373, 0.17292861596651865),\n",
       " (300, 0.1711905958155815),\n",
       " (3536, 0.1711905958155815),\n",
       " (3160, 0.17040572913692198),\n",
       " (1978, 0.16943474841747155),\n",
       " (661, 0.1675415633166782),\n",
       " (529, 0.16742770563222897),\n",
       " (1827, 0.16742770563222897),\n",
       " (91, 0.16692446522239718),\n",
       " (41, 0.16563698349810535),\n",
       " (67, 0.16452254913212452),\n",
       " (150, 0.16426202236672155),\n",
       " (1533, 0.16222142113076254),\n",
       " (342, 0.16122923187750418),\n",
       " (595, 0.16059101370939324),\n",
       " (31, 0.15907119074394446),\n",
       " (2511, 0.15907119074394446),\n",
       " (1176, 0.15789473684210528),\n",
       " (4008, 0.15737789507292674),\n",
       " (2727, 0.15609763526361567),\n",
       " (149, 0.15511334686589626),\n",
       " (838, 0.1540171257313038),\n",
       " (26, 0.15389675281277312),\n",
       " (187, 0.15389675281277312),\n",
       " (1379, 0.152008377581442),\n",
       " (111, 0.15018785229652767),\n",
       " (1342, 0.15018785229652767),\n",
       " (311, 0.15018785229652765),\n",
       " (52, 0.14843120879858804),\n",
       " (513, 0.14843120879858804),\n",
       " (2071, 0.14808721943977307),\n",
       " (7, 0.14673479641335554),\n",
       " (2756, 0.14659886790209342),\n",
       " (127, 0.14601068654819693),\n",
       " (579, 0.14567913668701626),\n",
       " (581, 0.14567913668701626),\n",
       " (108, 0.14509525002200235),\n",
       " (1295, 0.14509525002200235),\n",
       " (466, 0.14509525002200233),\n",
       " (1392, 0.14421498760030763),\n",
       " (1475, 0.1442149876003076),\n",
       " (1353, 0.14350946197048198),\n",
       " (1934, 0.14350946197048198),\n",
       " (275, 0.1433848336691011),\n",
       " (294, 0.1433848336691011),\n",
       " (3352, 0.1433848336691011),\n",
       " (1054, 0.1419745572840903),\n",
       " (1271, 0.1419745572840903),\n",
       " (490, 0.14159846508095775),\n",
       " (1484, 0.14159846508095775),\n",
       " (413, 0.1411956236812263),\n",
       " (461, 0.1411956236812263),\n",
       " (568, 0.1411956236812263),\n",
       " (2492, 0.1411956236812263),\n",
       " (95, 0.14048787173725413),\n",
       " (17, 0.13977653617040256),\n",
       " (46, 0.1391037210186643),\n",
       " (3407, 0.1391037210186643),\n",
       " (1961, 0.13872950617564817),\n",
       " (56, 0.13834289277321493),\n",
       " (249, 0.13834289277321493),\n",
       " (1325, 0.13834289277321493),\n",
       " (3779, 0.13834289277321493),\n",
       " (72, 0.13710212427677043),\n",
       " (843, 0.13710212427677043),\n",
       " (859, 0.13710212427677043),\n",
       " (2165, 0.13710212427677043),\n",
       " (4538, 0.13629325512727639),\n",
       " (476, 0.13530201829834768),\n",
       " (505, 0.13530201829834768),\n",
       " (668, 0.13530201829834768),\n",
       " (935, 0.13530201829834768),\n",
       " (3980, 0.13530201829834768),\n",
       " (1804, 0.13518451760896877),\n",
       " (4348, 0.13497638119975428),\n",
       " (1320, 0.13476498501489081),\n",
       " (158, 0.13369695534647594),\n",
       " (502, 0.13369695534647594),\n",
       " (777, 0.13369695534647594),\n",
       " (126, 0.13334518676566626),\n",
       " (1556, 0.13334518676566626),\n",
       " (1369, 0.1324532357065044),\n",
       " (2374, 0.1324532357065044),\n",
       " (2580, 0.1324532357065044),\n",
       " (4077, 0.13157894736842107),\n",
       " (2129, 0.13124359177794215),\n",
       " (1013, 0.12988108336653278),\n",
       " (2177, 0.12988108336653278),\n",
       " (3620, 0.12988108336653278),\n",
       " (134, 0.12977713690461004),\n",
       " (368, 0.12977713690461004),\n",
       " (1770, 0.12977713690461004),\n",
       " (2869, 0.12892051277806202),\n",
       " (14, 0.12824729401064427),\n",
       " (138, 0.12824729401064427),\n",
       " (369, 0.12824729401064427),\n",
       " (1084, 0.12824729401064427),\n",
       " (2682, 0.12824729401064427),\n",
       " (4228, 0.12824729401064427),\n",
       " (487, 0.12725695259515557),\n",
       " (773, 0.12725695259515557),\n",
       " (2968, 0.12725695259515557),\n",
       " (937, 0.126673647984535),\n",
       " (2476, 0.12565617248750865),\n",
       " (1737, 0.12565617248750863),\n",
       " (166, 0.12515654358043973),\n",
       " (754, 0.12515654358043973),\n",
       " (2446, 0.12515654358043973),\n",
       " (3626, 0.12515654358043973),\n",
       " (483, 0.12487810821089254),\n",
       " (1094, 0.12487810821089254),\n",
       " (1156, 0.12487810821089254),\n",
       " (2648, 0.12487810821089254),\n",
       " (102, 0.12462194771917919),\n",
       " (84, 0.12361284651454937),\n",
       " (208, 0.12262786789699316),\n",
       " (3374, 0.12262786789699316),\n",
       " (1874, 0.12262786789699313),\n",
       " (438, 0.12227899701112963),\n",
       " (557, 0.12227899701112963),\n",
       " (1297, 0.12227899701112963),\n",
       " (2327, 0.12166606584807191),\n",
       " (2670, 0.12166606584807191),\n",
       " (3081, 0.12166606584807191),\n",
       " (139, 0.12072654548783007),\n",
       " (68, 0.1204950466257556),\n",
       " (781, 0.1204950466257556),\n",
       " (1002, 0.1204950466257556),\n",
       " (1272, 0.1204950466257556),\n",
       " (1654, 0.1204950466257556),\n",
       " (1000, 0.11980845957463077),\n",
       " (549, 0.11959121830873498),\n",
       " (870, 0.11959121830873498),\n",
       " (900, 0.11959121830873498),\n",
       " (3233, 0.11959121830873498),\n",
       " (1045, 0.11846977555181847),\n",
       " (1829, 0.11846977555181847),\n",
       " (2056, 0.11846977555181847),\n",
       " (2737, 0.11846977555181847),\n",
       " (4673, 0.11846977555181847),\n",
       " (3719, 0.11803342130469506),\n",
       " (1669, 0.11803342130469505),\n",
       " (1711, 0.11803342130469505),\n",
       " (2785, 0.11803342130469505),\n",
       " (3998, 0.11803342130469505),\n",
       " (160, 0.11712303424679457),\n",
       " (182, 0.11707322644771176),\n",
       " (278, 0.11707322644771176),\n",
       " (454, 0.11707322644771176),\n",
       " (1613, 0.11707322644771176),\n",
       " (2280, 0.11707322644771176),\n",
       " (28, 0.116543309349613),\n",
       " (122, 0.116543309349613),\n",
       " (422, 0.116543309349613),\n",
       " (678, 0.116543309349613),\n",
       " (589, 0.1163350101494222),\n",
       " (2543, 0.11587244366483038),\n",
       " (1493, 0.11551284429847784),\n",
       " (3210, 0.11506355109724453),\n",
       " (189, 0.1147078669352809),\n",
       " (1218, 0.1147078669352809),\n",
       " (236, 0.11470786693528087),\n",
       " (1299, 0.11470786693528087),\n",
       " (85, 0.1141270638770543),\n",
       " (432, 0.11357771260606365),\n",
       " (1414, 0.11357771260606365),\n",
       " (50, 0.11295649894498103),\n",
       " (1612, 0.11295649894498103),\n",
       " (123, 0.1124803176664619),\n",
       " (420, 0.1124803176664619),\n",
       " (536, 0.1124803176664619),\n",
       " (889, 0.11243619908556624),\n",
       " (3145, 0.11239029738980327),\n",
       " (256, 0.11164843913471803),\n",
       " (808, 0.11164843913471803),\n",
       " (1346, 0.11164843913471803),\n",
       " (1571, 0.11164843913471803),\n",
       " (2368, 0.11141412945539662),\n",
       " (3307, 0.11141412945539662),\n",
       " (1508, 0.11141412945539661),\n",
       " (87, 0.11128297681493143),\n",
       " (121, 0.11128297681493143),\n",
       " (232, 0.11128297681493143),\n",
       " (4468, 0.11128297681493143),\n",
       " (206, 0.11092107999698035),\n",
       " (238, 0.11092107999698035),\n",
       " (228, 0.11037769642208699),\n",
       " (81, 0.11020775375559676),\n",
       " (1570, 0.11020775375559674),\n",
       " (3426, 0.10968169942141637),\n",
       " (21, 0.10968169942141635),\n",
       " (449, 0.10968169942141635),\n",
       " (1029, 0.10968169942141635),\n",
       " (1941, 0.10968169942141635),\n",
       " (2144, 0.10968169942141635),\n",
       " (3006, 0.10968169942141635),\n",
       " (692, 0.10936965981495178),\n",
       " (200, 0.10882143751650175),\n",
       " (627, 0.10882143751650175),\n",
       " (653, 0.10882143751650175),\n",
       " (1520, 0.10882143751650175),\n",
       " (307, 0.10876595882948199),\n",
       " (5, 0.10838874619051501),\n",
       " (740, 0.10838874619051501),\n",
       " (3091, 0.10838874619051501),\n",
       " (3628, 0.10838874619051501),\n",
       " (786, 0.10814761408717502),\n",
       " (3496, 0.10814761408717502),\n",
       " (4777, 0.10814761408717502),\n",
       " (229, 0.1074861545850028),\n",
       " (572, 0.10743376064838502),\n",
       " (939, 0.1068366854693644),\n",
       " (332, 0.106676149412533),\n",
       " (472, 0.106676149412533),\n",
       " (1235, 0.106676149412533),\n",
       " (170, 0.10650358071057624),\n",
       " (262, 0.10650358071057624),\n",
       " (1164, 0.10619884881071831),\n",
       " (1497, 0.10619884881071831),\n",
       " (1741, 0.10619884881071831),\n",
       " (2157, 0.10619884881071831),\n",
       " (2630, 0.10619884881071831),\n",
       " (4133, 0.10619884881071831),\n",
       " (467, 0.10559715077387793),\n",
       " (541, 0.10559715077387793),\n",
       " (1492, 0.10559715077387793),\n",
       " (131, 0.10526315789473685),\n",
       " (295, 0.10526315789473685),\n",
       " (2068, 0.10526315789473685),\n",
       " (3338, 0.10526315789473685),\n",
       " (2494, 0.10471347707292386),\n",
       " (75, 0.10390486669322622),\n",
       " (223, 0.10390486669322622),\n",
       " (687, 0.10390486669322622),\n",
       " (814, 0.10390486669322622),\n",
       " (1193, 0.10390486669322622),\n",
       " (1767, 0.10390486669322622),\n",
       " (2813, 0.10390486669322622),\n",
       " (654, 0.10385162309931599),\n",
       " (2435, 0.10385162309931599),\n",
       " (105, 0.1037571695799112),\n",
       " (233, 0.1037571695799112),\n",
       " (624, 0.1037571695799112),\n",
       " (2319, 0.1037571695799112),\n",
       " (2452, 0.1037571695799112),\n",
       " (2517, 0.1037571695799112),\n",
       " (3053, 0.1037571695799112),\n",
       " (3619, 0.1037571695799112),\n",
       " (3837, 0.1037571695799112),\n",
       " (1451, 0.10301070542879115),\n",
       " (10, 0.10259783520851541),\n",
       " (1080, 0.10259783520851541),\n",
       " (3150, 0.10259783520851541),\n",
       " (3632, 0.10259783520851541),\n",
       " (3753, 0.10259783520851541),\n",
       " (3872, 0.10259783520851541),\n",
       " (4095, 0.10259783520851541),\n",
       " (2102, 0.10218988991416095),\n",
       " (2758, 0.10147651372376076),\n",
       " (3659, 0.10147651372376076),\n",
       " (3952, 0.10147651372376076),\n",
       " (3439, 0.10138838820672659),\n",
       " (508, 0.101338918387628),\n",
       " (1292, 0.101338918387628),\n",
       " (2243, 0.10133891838762799),\n",
       " (1401, 0.10060545457319173),\n",
       " (1435, 0.10060545457319173),\n",
       " (2095, 0.10060545457319173),\n",
       " (312, 0.10012523486435178),\n",
       " (330, 0.10012523486435178),\n",
       " (643, 0.10012523486435178),\n",
       " (986, 0.10012523486435178),\n",
       " (1035, 0.10012523486435178),\n",
       " (1610, 0.10012523486435178),\n",
       " (35, 0.09933992677987831),\n",
       " (157, 0.09933992677987831),\n",
       " (319, 0.09933992677987831),\n",
       " (325, 0.09933992677987831),\n",
       " (715, 0.09933992677987831),\n",
       " (1075, 0.09933992677987831),\n",
       " (1278, 0.09933992677987831),\n",
       " (1880, 0.09933992677987831),\n",
       " (2049, 0.09933992677987831),\n",
       " (4016, 0.09933992677987831),\n",
       " (4196, 0.09933992677987831),\n",
       " (4490, 0.09933992677987831),\n",
       " (363, 0.09909250441117726),\n",
       " (491, 0.09909250441117726),\n",
       " (266, 0.0989541391990587),\n",
       " (445, 0.0989541391990587),\n",
       " (510, 0.0989541391990587),\n",
       " (3618, 0.0989541391990587),\n",
       " (3781, 0.0989541391990587),\n",
       " (3933, 0.0989541391990587),\n",
       " (1771, 0.09836118442057921),\n",
       " (410, 0.0978231976089037),\n",
       " (480, 0.0978231976089037),\n",
       " (535, 0.0978231976089037),\n",
       " (898, 0.0978231976089037),\n",
       " (1107, 0.0978231976089037),\n",
       " (1397, 0.0978231976089037),\n",
       " (1819, 0.0978231976089037),\n",
       " (2249, 0.0978231976089037),\n",
       " (33, 0.09733285267845754),\n",
       " (148, 0.09733285267845754),\n",
       " (263, 0.09733285267845754),\n",
       " (878, 0.09733285267845754),\n",
       " (1154, 0.09733285267845754),\n",
       " (1723, 0.09733285267845754),\n",
       " (1938, 0.09733285267845754),\n",
       " (2783, 0.09733285267845754),\n",
       " (4254, 0.09733285267845754),\n",
       " (4403, 0.09733285267845754),\n",
       " (4472, 0.09733285267845754),\n",
       " (9, 0.0967301666813349),\n",
       " (334, 0.0967301666813349),\n",
       " (371, 0.09567297464698798),\n",
       " (412, 0.09567297464698798),\n",
       " (2237, 0.09567297464698798),\n",
       " (2552, 0.09567297464698798),\n",
       " (4545, 0.09558988911273408),\n",
       " (362, 0.09544271444636668),\n",
       " (791, 0.09544271444636668),\n",
       " (1569, 0.09544271444636668),\n",
       " (2558, 0.09544271444636668),\n",
       " (4201, 0.09544271444636668),\n",
       " (18, 0.09493290614465533),\n",
       " (11, 0.09464970485606021),\n",
       " (587, 0.09464970485606021),\n",
       " (660, 0.09365858115816941),\n",
       " (920, 0.09365858115816941),\n",
       " (978, 0.09365858115816941),\n",
       " (1274, 0.09365858115816941),\n",
       " (1355, 0.09365858115816941),\n",
       " (1470, 0.09365858115816941),\n",
       " (1682, 0.09365858115816941),\n",
       " (1688, 0.09365858115816941),\n",
       " (1717, 0.09365858115816941),\n",
       " (2392, 0.09365858115816941),\n",
       " (2484, 0.09365858115816941),\n",
       " (2588, 0.09365858115816941),\n",
       " (2641, 0.09365858115816941),\n",
       " (2646, 0.09365858115816941),\n",
       " (2816, 0.09365858115816941),\n",
       " (3535, 0.09365858115816941),\n",
       " (3718, 0.09365858115816941),\n",
       " (4331, 0.09365858115816941),\n",
       " (4502, 0.09365858115816941),\n",
       " (301, 0.09365858115816939),\n",
       " (129, 0.09269795493186431),\n",
       " (243, 0.09269795493186431),\n",
       " (279, 0.09269795493186431),\n",
       " (473, 0.09269795493186431),\n",
       " (596, 0.09269795493186431),\n",
       " (813, 0.09269795493186431),\n",
       " (1442, 0.09269795493186431),\n",
       " (1697, 0.09269795493186431),\n",
       " (3405, 0.09269795493186431),\n",
       " (785, 0.09243423333081695),\n",
       " (219, 0.09197090092274487),\n",
       " (244, 0.09197090092274487),\n",
       " (511, 0.09197090092274487),\n",
       " (1752, 0.09197090092274487),\n",
       " (2089, 0.09197090092274487),\n",
       " (2647, 0.09197090092274487),\n",
       " (3734, 0.09197090092274487),\n",
       " (230, 0.09183979479633063),\n",
       " (799, 0.09183979479633063),\n",
       " (239, 0.09125667909262308),\n",
       " (2566, 0.09125667909262308),\n",
       " (43, 0.09086217008485092),\n",
       " (602, 0.09086217008485092),\n",
       " (995, 0.09086217008485092),\n",
       " (1231, 0.09086217008485092),\n",
       " (1842, 0.09086217008485092),\n",
       " (3879, 0.09086217008485092),\n",
       " (12, 0.09037128496931669),\n",
       " (88, 0.09037128496931669),\n",
       " (167, 0.09037128496931669),\n",
       " (356, 0.09037128496931669),\n",
       " (400, 0.09037128496931669),\n",
       " (1304, 0.09037128496931669),\n",
       " (1476, 0.09037128496931669),\n",
       " (2247, 0.09037128496931669),\n",
       " (2955, 0.09037128496931669),\n",
       " (331, 0.08998425413316952),\n",
       " (2359, 0.08998425413316952),\n",
       " (2792, 0.08998425413316952),\n",
       " (2852, 0.08998425413316952),\n",
       " (3387, 0.08998425413316952),\n",
       " (3441, 0.08998425413316952),\n",
       " (3460, 0.08998425413316952),\n",
       " (4343, 0.08998425413316952),\n",
       " (4353, 0.08998425413316952),\n",
       " (274, 0.08977310580745099),\n",
       " (1902, 0.0891313035643173),\n",
       " (2111, 0.08903057122447033),\n",
       " (292, 0.08885233166386385),\n",
       " (564, 0.08885233166386385),\n",
       " (1025, 0.08885233166386385),\n",
       " (2656, 0.08885233166386385),\n",
       " (2864, 0.08885233166386385),\n",
       " (3320, 0.08885233166386385),\n",
       " (169, 0.08830215713766959),\n",
       " (270, 0.08830215713766959),\n",
       " (618, 0.08830215713766959),\n",
       " (1779, 0.08830215713766959),\n",
       " (2105, 0.08830215713766959),\n",
       " (2709, 0.08830215713766959),\n",
       " (2736, 0.08830215713766959),\n",
       " (3551, 0.08830215713766959),\n",
       " (479, 0.08797691788472335),\n",
       " (752, 0.08749572785196143),\n",
       " (1828, 0.08749572785196143),\n",
       " (2444, 0.08746392856766495),\n",
       " (23, 0.08740748201220976),\n",
       " (141, 0.08740748201220976),\n",
       " (389, 0.08740748201220976),\n",
       " (745, 0.08740748201220976),\n",
       " (794, 0.08740748201220976),\n",
       " (960, 0.08740748201220976),\n",
       " (1247, 0.08740748201220976),\n",
       " (1257, 0.08740748201220976),\n",
       " (3446, 0.08740748201220976),\n",
       " (3447, 0.08740748201220976),\n",
       " (143, 0.08671099695241201),\n",
       " (199, 0.08671099695241201),\n",
       " (827, 0.08671099695241201),\n",
       " (1526, 0.08671099695241201),\n",
       " (2876, 0.08671099695241201),\n",
       " (3554, 0.08671099695241201),\n",
       " (4516, 0.08671099695241201),\n",
       " (4587, 0.08671099695241201),\n",
       " (2, 0.08603090020146065),\n",
       " (457, 0.08603090020146065),\n",
       " (775, 0.08603090020146065),\n",
       " (1374, 0.08603090020146065),\n",
       " (2579, 0.08603090020146065),\n",
       " (3133, 0.08603090020146065),\n",
       " (4754, 0.08603090020146065),\n",
       " (234, 0.08594700851870801),\n",
       " (1017, 0.08594700851870801),\n",
       " (2350, 0.08594700851870801),\n",
       " (32, 0.08520286456846099),\n",
       " (217, 0.08520286456846099),\n",
       " (142, 0.08471737420873576),\n",
       " (894, 0.08471737420873576),\n",
       " (1095, 0.08471737420873576),\n",
       " (1140, 0.08471737420873576),\n",
       " (1585, 0.08471737420873576),\n",
       " (2300, 0.08471737420873576),\n",
       " (4560, 0.08471737420873576),\n",
       " (48, 0.08447772061910234),\n",
       " (190, 0.08447772061910234),\n",
       " (1303, 0.08447772061910234),\n",
       " (1635, 0.08447772061910234),\n",
       " (2966, 0.08447772061910234),\n",
       " (62, 0.0837707816583391),\n",
       " (381, 0.0837707816583391),\n",
       " (534, 0.0837707816583391),\n",
       " (1694, 0.0837707816583391),\n",
       " (3178, 0.0837707816583391),\n",
       " (3216, 0.0837707816583391),\n",
       " (3976, 0.0837707816583391),\n",
       " (4737, 0.0837707816583391),\n",
       " (1, 0.08346223261119858),\n",
       " (152, 0.08346223261119858),\n",
       " (203, 0.08346223261119858),\n",
       " (315, 0.08346223261119858),\n",
       " (547, 0.08346223261119858),\n",
       " (1684, 0.08346223261119858),\n",
       " (2124, 0.08346223261119858),\n",
       " (2382, 0.08321783316232578),\n",
       " (19, 0.0830812984794528),\n",
       " (403, 0.0830812984794528),\n",
       " (3903, 0.0830812984794528),\n",
       " (45, 0.08240856434303293),\n",
       " (2199, 0.08240856434303293),\n",
       " (39, 0.08226127456606226),\n",
       " (227, 0.08226127456606226),\n",
       " (341, 0.08226127456606226),\n",
       " (626, 0.08226127456606226),\n",
       " (787, 0.08226127456606226),\n",
       " (1205, 0.08226127456606226),\n",
       " (1745, 0.08226127456606226),\n",
       " (2163, 0.08226127456606226),\n",
       " (2657, 0.08226127456606226),\n",
       " (3138, 0.08226127456606226),\n",
       " (3299, 0.08226127456606226),\n",
       " (3468, 0.08226127456606226),\n",
       " (63, 0.08175191193132876),\n",
       " (501, 0.08175191193132876),\n",
       " (38, 0.08111071056538127),\n",
       " (242, 0.08111071056538127),\n",
       " (245, 0.08111071056538127),\n",
       " (306, 0.08111071056538127),\n",
       " (584, 0.08111071056538127),\n",
       " (812, 0.08111071056538127),\n",
       " (866, 0.08111071056538127),\n",
       " (901, 0.08111071056538127),\n",
       " (1267, 0.08111071056538127),\n",
       " (1515, 0.08111071056538127),\n",
       " (1660, 0.08111071056538127),\n",
       " (2335, 0.08111071056538127),\n",
       " (2640, 0.08111071056538127),\n",
       " (2667, 0.08111071056538127),\n",
       " (2861, 0.08111071056538127),\n",
       " (2873, 0.08111071056538127),\n",
       " (3525, 0.08111071056538127),\n",
       " (3924, 0.08111071056538127),\n",
       " (4492, 0.08111071056538127),\n",
       " (4568, 0.08111071056538127),\n",
       " (4626, 0.08111071056538127),\n",
       " (4641, 0.08111071056538127),\n",
       " (4654, 0.08111071056538127),\n",
       " (4657, 0.08111071056538127),\n",
       " (51, 0.08048436365855338),\n",
       " (164, 0.08000711205939975),\n",
       " (854, 0.08000711205939975),\n",
       " (899, 0.08000711205939975),\n",
       " (1323, 0.08000711205939975),\n",
       " (1743, 0.08000711205939975),\n",
       " (2679, 0.08000711205939975),\n",
       " (3762, 0.08000711205939975),\n",
       " (3814, 0.08000711205939975),\n",
       " (3849, 0.08000711205939975),\n",
       " (486, 0.07992075789278004),\n",
       " (103, 0.07987230638308718),\n",
       " (222, 0.07987230638308718),\n",
       " (1530, 0.07987230638308718),\n",
       " (2788, 0.07987230638308718),\n",
       " (4506, 0.07987230638308718),\n",
       " (1894, 0.0792740035289418),\n",
       " (16, 0.07894736842105264),\n",
       " (37, 0.07894736842105264),\n",
       " (241, 0.07894736842105264),\n",
       " (329, 0.07894736842105264),\n",
       " (1078, 0.07894736842105264),\n",
       " (1159, 0.07894736842105264),\n",
       " (2291, 0.07894736842105264),\n",
       " (3231, 0.07894736842105264),\n",
       " (4316, 0.07894736842105264),\n",
       " (193, 0.07878168645790681),\n",
       " (153, 0.07868894753646337),\n",
       " (776, 0.07868894753646337),\n",
       " (1043, 0.07868894753646337),\n",
       " (1824, 0.07868894753646337),\n",
       " (1922, 0.07868894753646337),\n",
       " (3726, 0.07868894753646337),\n",
       " (3830, 0.07868894753646337),\n",
       " (4279, 0.07868894753646337),\n",
       " (4473, 0.07868894753646337),\n",
       " (125, 0.07843304784240032),\n",
       " (286, 0.0781166566864507),\n",
       " (1655, 0.0781166566864507),\n",
       " (174, 0.07792865001991967),\n",
       " (402, 0.07792865001991967),\n",
       " (922, 0.07792865001991967),\n",
       " (1111, 0.07792865001991967),\n",
       " (2936, 0.07792865001991967),\n",
       " (3026, 0.07792865001991967),\n",
       " (3089, 0.07792865001991967),\n",
       " (3100, 0.07792865001991967),\n",
       " (3162, 0.07792865001991967),\n",
       " (4341, 0.07792865001991967),\n",
       " (1920, 0.07755667343294813),\n",
       " (3558, 0.07755667343294813),\n",
       " (1280, 0.0770085628656519),\n",
       " (40, 0.07694837640638656),\n",
       " (96, 0.07694837640638656),\n",
       " (101, 0.07694837640638656),\n",
       " (112, 0.07694837640638656),\n",
       " (207, 0.07694837640638656),\n",
       " (632, 0.07694837640638656),\n",
       " (737, 0.07694837640638656),\n",
       " (1287, 0.07694837640638656),\n",
       " (2215, 0.07694837640638656),\n",
       " (4266, 0.07694837640638656),\n",
       " (4624, 0.07694837640638656),\n",
       " (850, 0.07647191129018727),\n",
       " (1003, 0.07647191129018727),\n",
       " (1137, 0.07647191129018727),\n",
       " (1252, 0.07647191129018727),\n",
       " (1617, 0.07647191129018727),\n",
       " (2161, 0.07647191129018727),\n",
       " (2270, 0.07647191129018727),\n",
       " (2708, 0.07647191129018727),\n",
       " (3428, 0.07647191129018727),\n",
       " (4163, 0.07647191129018727),\n",
       " (70, 0.076004188790721),\n",
       " (82, 0.076004188790721),\n",
       " (235, 0.076004188790721),\n",
       " (349, 0.076004188790721),\n",
       " (492, 0.076004188790721),\n",
       " (1288, 0.076004188790721),\n",
       " (1519, 0.076004188790721),\n",
       " (2445, 0.076004188790721),\n",
       " (2914, 0.076004188790721),\n",
       " (4558, 0.076004188790721),\n",
       " (246, 0.07594632491572426),\n",
       " (2001, 0.07543142864047142),\n",
       " (3329, 0.07530940414109724),\n",
       " (98, 0.07509392614826384),\n",
       " (210, 0.07509392614826384),\n",
       " (361, 0.07509392614826384),\n",
       " (365, 0.07509392614826384),\n",
       " (503, 0.07509392614826384),\n",
       " (540, 0.07509392614826384),\n",
       " (680, 0.07509392614826384),\n",
       " (1007, 0.07509392614826384),\n",
       " (1291, 0.07509392614826384),\n",
       " (2159, 0.07509392614826384),\n",
       " (4043, 0.07509392614826384),\n",
       " (4203, 0.07509392614826384),\n",
       " (2252, 0.07492686492653551),\n",
       " (205, 0.07443229275647868),\n",
       " (800, 0.07443229275647868),\n",
       " (993, 0.07443229275647868),\n",
       " (1321, 0.07443229275647868),\n",
       " (1517, 0.07443229275647868),\n",
       " (1766, 0.07443229275647868),\n",
       " (2322, 0.07443229275647868),\n",
       " (2547, 0.07443229275647868),\n",
       " (2797, 0.07443229275647868),\n",
       " (3067, 0.07443229275647868),\n",
       " (3115, 0.07443229275647868),\n",
       " (3124, 0.07443229275647868),\n",
       " (4009, 0.07443229275647868),\n",
       " (4412, 0.07443229275647868),\n",
       " (4542, 0.07443229275647868),\n",
       " (634, 0.07421560439929402),\n",
       " (885, 0.07421560439929402),\n",
       " (1068, 0.07421560439929402),\n",
       " (2391, 0.07421560439929402),\n",
       " (3699, 0.07421560439929402),\n",
       " (1986, 0.07394738666465357),\n",
       " (2186, 0.07394738666465357),\n",
       " (3429, 0.07394738666465357),\n",
       " (3, 0.0734718358370645),\n",
       " (1483, 0.0734718358370645),\n",
       " (71, 0.07336739820667779),\n",
       " (908, 0.07336739820667779),\n",
       " (1619, 0.07336739820667779),\n",
       " (2017, 0.07336739820667779),\n",
       " (3020, 0.07336739820667779),\n",
       " (3283, 0.07336739820667779),\n",
       " (3803, 0.07336739820667779),\n",
       " (1363, 0.07336739820667777),\n",
       " (2052, 0.07336739820667777),\n",
       " (728, 0.07254762501100118),\n",
       " (833, 0.07254762501100118),\n",
       " (977, 0.07254762501100118),\n",
       " (1761, 0.07254762501100118),\n",
       " (1992, 0.07254762501100118),\n",
       " (2986, 0.07254762501100118),\n",
       " (3253, 0.07254762501100118),\n",
       " (3353, 0.07254762501100118),\n",
       " (4640, 0.07254762501100118),\n",
       " (59, 0.07254762501100116),\n",
       " (179, 0.07254762501100116),\n",
       " (1485, 0.07254762501100116),\n",
       " (1651, 0.07254762501100116),\n",
       " (2110, 0.07254762501100116),\n",
       " (2208, 0.07254762501100116),\n",
       " (2293, 0.07254762501100116),\n",
       " (2313, 0.07254762501100116),\n",
       " (2377, 0.07254762501100116),\n",
       " (2475, 0.07254762501100116),\n",
       " (2768, 0.07254762501100116),\n",
       " (3070, 0.07254762501100116),\n",
       " (3101, 0.07254762501100116),\n",
       " (3153, 0.07254762501100116),\n",
       " (3481, 0.07254762501100116),\n",
       " (3714, 0.07254762501100116),\n",
       " (3974, 0.07254762501100116),\n",
       " (4431, 0.07254762501100116),\n",
       " (4443, 0.07254762501100116),\n",
       " (790, 0.07209840939145001),\n",
       " (1955, 0.07209840939145001),\n",
       " (76, 0.07175473098524099),\n",
       " (784, 0.07175473098524099),\n",
       " (932, 0.07175473098524099),\n",
       " (933, 0.07175473098524099),\n",
       " (1166, 0.07175473098524099),\n",
       " (1879, 0.07175473098524099),\n",
       " (2697, 0.07175473098524099),\n",
       " (2848, 0.07175473098524099),\n",
       " (2901, 0.07175473098524099),\n",
       " (3303, 0.07175473098524099),\n",
       " (3421, 0.07175473098524099),\n",
       " (3462, 0.07175473098524099),\n",
       " (4081, 0.07175473098524099),\n",
       " (86, 0.07098727864204515),\n",
       " (93, 0.07098727864204515),\n",
       " (175, 0.07098727864204515),\n",
       " (271, 0.07098727864204515),\n",
       " (543, 0.07098727864204515),\n",
       " (674, 0.07098727864204515),\n",
       " (1143, 0.07098727864204515),\n",
       " (1338, 0.07098727864204515),\n",
       " (2827, 0.07098727864204515),\n",
       " (3204, 0.07098727864204515),\n",
       " (3609, 0.07098727864204515),\n",
       " (4483, 0.07098727864204515),\n",
       " (1238, 0.07079923254047887),\n",
       " (1406, 0.07079923254047887),\n",
       " (2441, 0.07079923254047887),\n",
       " (2759, 0.07079923254047887),\n",
       " (2850, 0.07079923254047887),\n",
       " (3221, 0.07079923254047887),\n",
       " (4638, 0.07079923254047887),\n",
       " (55, 0.07038153430777869),\n",
       " (183, 0.07038153430777869),\n",
       " (1628, 0.07024393586862707),\n",
       " (1843, 0.07024393586862707),\n",
       " (3483, 0.07024393586862707),\n",
       " (97, 0.06952346619889824),\n",
       " (254, 0.06952346619889824),\n",
       " (302, 0.06952346619889824),\n",
       " (782, 0.06952346619889824),\n",
       " (1144, 0.06952346619889824),\n",
       " (1453, 0.06952346619889824),\n",
       " (2099, 0.06952346619889824),\n",
       " (3298, 0.06952346619889824),\n",
       " (3905, 0.06952346619889824),\n",
       " (4178, 0.06952346619889824),\n",
       " (336, 0.06917144638660747),\n",
       " (1733, 0.06917144638660747),\n",
       " (2529, 0.06917144638660747),\n",
       " (3889, 0.06917144638660747),\n",
       " (4290, 0.06917144638660747),\n",
       " (419, 0.06882472016116853),\n",
       " (600, 0.06882472016116853),\n",
       " (1276, 0.06882472016116853),\n",
       " (1998, 0.06882472016116853),\n",
       " (2014, 0.06882472016116853),\n",
       " (2205, 0.06882472016116853),\n",
       " (2239, 0.06882472016116853),\n",
       " (665, 0.06814662756363819),\n",
       " (671, 0.06814662756363819),\n",
       " (704, 0.06814662756363819),\n",
       " (732, 0.06814662756363819),\n",
       " (1534, 0.06814662756363819),\n",
       " (2031, 0.06814662756363819),\n",
       " (3018, 0.06814662756363819),\n",
       " (3308, 0.06814662756363819),\n",
       " (3586, 0.06814662756363819),\n",
       " (4121, 0.06814662756363819),\n",
       " (4392, 0.06814662756363819),\n",
       " (100, 0.06765100914917384),\n",
       " (209, 0.06765100914917384),\n",
       " (308, 0.06765100914917384),\n",
       " (498, 0.06765100914917384),\n",
       " (537, 0.06765100914917384),\n",
       " (570, 0.06765100914917384),\n",
       " (1290, 0.06765100914917384),\n",
       " (1462, 0.06765100914917384),\n",
       " (1856, 0.06765100914917384),\n",
       " (2214, 0.06765100914917384),\n",
       " (2431, 0.06765100914917384),\n",
       " (2618, 0.06765100914917384),\n",
       " (2660, 0.06765100914917384),\n",
       " (2739, 0.06765100914917384),\n",
       " (3396, 0.06765100914917384),\n",
       " (3674, 0.06765100914917384),\n",
       " (4214, 0.06765100914917384),\n",
       " (58, 0.06748819059987714),\n",
       " (124, 0.06748819059987714),\n",
       " (1441, 0.06748819059987714),\n",
       " (2301, 0.06748819059987714),\n",
       " (3223, 0.06748819059987714),\n",
       " (3908, 0.06748819059987714),\n",
       " (1630, 0.0672863110252489),\n",
       " (30, 0.06684847767323797),\n",
       " (734, 0.06684847767323797),\n",
       " (735, 0.06684847767323797),\n",
       " (3877, 0.06684847767323797),\n",
       " (488, 0.06657426652986062),\n",
       " (22, 0.0662266178532522),\n",
       " (237, 0.0662266178532522),\n",
       " (604, 0.0662266178532522),\n",
       " (695, 0.0662266178532522),\n",
       " (1083, 0.0662266178532522),\n",
       " (1169, 0.0662266178532522),\n",
       " (1377, 0.0662266178532522),\n",
       " (2246, 0.0662266178532522),\n",
       " (2255, 0.0662266178532522),\n",
       " (2888, 0.0662266178532522),\n",
       " (2974, 0.0662266178532522),\n",
       " (3239, 0.0662266178532522),\n",
       " (3410, 0.0662266178532522),\n",
       " (3992, 0.0662266178532522),\n",
       " (4059, 0.0662266178532522),\n",
       " (4351, 0.0662266178532522),\n",
       " (212, 0.06622661785325219),\n",
       " (215, 0.06622661785325219),\n",
       " (635, 0.06622661785325219),\n",
       " (1016, 0.06622661785325219),\n",
       " (1085, 0.06622661785325219),\n",
       " (1119, 0.06622661785325219),\n",
       " (1428, 0.06622661785325219),\n",
       " (2298, 0.06622661785325219),\n",
       " (2316, 0.06622661785325219),\n",
       " (2653, 0.06622661785325219),\n",
       " (304, 0.06578947368421054),\n",
       " (1173, 0.06562179588897107),\n",
       " (1999, 0.06562179588897107),\n",
       " (2131, 0.06562179588897107),\n",
       " (2400, 0.06562179588897107),\n",
       " (2592, 0.06562179588897107),\n",
       " (3388, 0.06562179588897107),\n",
       " (3633, 0.06562179588897107),\n",
       " (4017, 0.06554735253444621),\n",
       " (2828, 0.06521546507260247),\n",
       " (29, 0.065033247714309),\n",
       " (281, 0.065033247714309),\n",
       " (1527, 0.065033247714309),\n",
       " (2048, 0.065033247714309),\n",
       " (3820, 0.065033247714309),\n",
       " (109, 0.06488856845230502),\n",
       " (216, 0.06488856845230502),\n",
       " (267, 0.06488856845230502),\n",
       " (621, 0.06488856845230502),\n",
       " (744, 0.06488856845230502),\n",
       " (1066, 0.06488856845230502),\n",
       " (1074, 0.06488856845230502),\n",
       " (1434, 0.06488856845230502),\n",
       " (1482, 0.06488856845230502),\n",
       " (2264, 0.06488856845230502),\n",
       " (2266, 0.06488856845230502),\n",
       " (2305, 0.06488856845230502),\n",
       " (2575, 0.06488856845230502),\n",
       " (2711, 0.06488856845230502),\n",
       " (2880, 0.06488856845230502),\n",
       " (3179, 0.06488856845230502),\n",
       " (3372, 0.06488856845230502),\n",
       " (3570, 0.06488856845230502),\n",
       " (3899, 0.06488856845230502),\n",
       " (3927, 0.06488856845230502),\n",
       " (4623, 0.06488856845230502),\n",
       " (447, 0.06446025638903101),\n",
       " (746, 0.06446025638903101),\n",
       " (1009, 0.06446025638903101),\n",
       " (1844, 0.06446025638903101),\n",
       " (3172, 0.06446025638903101),\n",
       " (2515, 0.06424925662032356),\n",
       " (425, 0.06390214842634574),\n",
       " (443, 0.06390214842634574),\n",
       " (471, 0.06390214842634574),\n",
       " (1975, 0.06390214842634574),\n",
       " (2260, 0.06390214842634574),\n",
       " (2523, 0.06390214842634574),\n",
       " (159, 0.06362847629757779),\n",
       " (290, 0.06362847629757779),\n",
       " (546, 0.06362847629757779),\n",
       " (951, 0.06362847629757779),\n",
       " (1260, 0.06362847629757779),\n",
       " (1302, 0.06362847629757779),\n",
       " (1703, 0.06362847629757779),\n",
       " (1850, 0.06362847629757779),\n",
       " (1946, 0.06362847629757779),\n",
       " (2109, 0.06362847629757779),\n",
       " (2224, 0.06362847629757779),\n",
       " (3116, 0.06362847629757779),\n",
       " (3131, 0.06362847629757779),\n",
       " (3251, 0.06362847629757779),\n",
       " (3929, 0.06362847629757779),\n",
       " (4004, 0.06362847629757779),\n",
       " (4271, 0.06362847629757779),\n",
       " (4312, 0.06362847629757779),\n",
       " (4355, 0.06362847629757779),\n",
       " (4704, 0.06362847629757779),\n",
       " (612, 0.06335829046432676),\n",
       " (1091, 0.06335829046432676),\n",
       " (1458, 0.06335829046432676),\n",
       " (3342, 0.06335829046432676),\n",
       " (3738, 0.06335829046432676),\n",
       " (15, 0.06282808624375433),\n",
       " (253, 0.06282808624375433),\n",
       " (591, 0.06282808624375433),\n",
       " (2315, 0.06282808624375433),\n",
       " (3296, 0.06282808624375433),\n",
       " (3605, 0.06282808624375433),\n",
       " (276, 0.06243905410544627),\n",
       " (309, 0.06243905410544627),\n",
       " (957, 0.06243905410544627),\n",
       " (1601, 0.06243905410544627),\n",
       " (1602, 0.06243905410544627),\n",
       " (1940, 0.06243905410544627),\n",
       " (2596, 0.06243905410544627),\n",
       " (2946, 0.06243905410544627),\n",
       " (3832, 0.06243905410544627),\n",
       " (4357, 0.06243905410544627),\n",
       " (79, 0.0623109738595896),\n",
       " (92, 0.0623109738595896),\n",
       " (106, 0.0623109738595896),\n",
       " (963, 0.0623109738595896),\n",
       " (1189, 0.0623109738595896),\n",
       " (1200, 0.0623109738595896),\n",
       " (2516, 0.0623109738595896),\n",
       " (2886, 0.0623109738595896),\n",
       " (1028, 0.06231097385958959),\n",
       " (107, 0.061806423257274694),\n",
       " (836, 0.061806423257274694),\n",
       " (3076, 0.061806423257274694),\n",
       " (90, 0.06131393394849658),\n",
       " (154, 0.06131393394849658),\n",
       " (259, 0.06131393394849658),\n",
       " (348, 0.06131393394849658),\n",
       " (404, 0.06131393394849658),\n",
       " (615, 0.06131393394849658),\n",
       " (863, 0.06131393394849658),\n",
       " (945, 0.06131393394849658),\n",
       " (1145, 0.06131393394849658),\n",
       " (1345, 0.06131393394849658),\n",
       " (1580, 0.06131393394849658),\n",
       " (1603, 0.06131393394849658),\n",
       " (2086, 0.06131393394849658),\n",
       " (2116, 0.06131393394849658),\n",
       " (2123, 0.06131393394849658),\n",
       " (2534, 0.06131393394849658),\n",
       " (2616, 0.06131393394849658),\n",
       " (3238, 0.06131393394849658),\n",
       " (3768, 0.06131393394849658),\n",
       " (4194, 0.06131393394849658),\n",
       " (4320, 0.06131393394849658),\n",
       " (4566, 0.06131393394849658),\n",
       " (4652, 0.06131393394849658),\n",
       " (4664, 0.06131393394849658),\n",
       " (375, 0.061313933948496574),\n",
       " (733, 0.061313933948496574),\n",
       " (768, 0.061313933948496574),\n",
       " (1101, 0.061313933948496574),\n",
       " (224, 0.060833032924035954),\n",
       " (455, 0.060833032924035954),\n",
       " (3775, 0.060833032924035954),\n",
       " (4789, 0.060833032924035954),\n",
       " (1354, 0.060363272743915036),\n",
       " (358, 0.0602475233128778),\n",
       " (533, 0.0602475233128778),\n",
       " (664, 0.0602475233128778),\n",
       " (991, 0.0602475233128778),\n",
       " (996, 0.0602475233128778),\n",
       " (1062, 0.0602475233128778),\n",
       " (1090, 0.0602475233128778),\n",
       " (1310, 0.0602475233128778),\n",
       " (1404, 0.0602475233128778),\n",
       " ...]"
      ]
     },
     "execution_count": 72,
     "metadata": {},
     "output_type": "execute_result"
    }
   ],
   "source": [
    "sorted(list(enumerate(similarity[0])), reverse= True, key= lambda x:x[1]) \n",
    "# x=x[1] says that we are sorting on the basis of similarity scores not on the index\n",
    "# to see what i am saying here, just remove this and run the code"
   ]
  },
  {
   "cell_type": "code",
   "execution_count": 73,
   "id": "14cc2656-538b-48d3-8e3b-74fa3dc0bcff",
   "metadata": {},
   "outputs": [],
   "source": [
    "def recommend(movie):\n",
    "    movie_index= new_df[new_df['title']== movie].index[0]\n",
    "    distances= similarity[movie_index]\n",
    "    movies_list= sorted(list(enumerate(distances)), reverse= True, key= lambda x:x[1])[1:6] \n",
    "    \n",
    "    for i in movies_list:\n",
    "        print(new_df.iloc[i[0]].title)"
   ]
  },
  {
   "cell_type": "code",
   "execution_count": 74,
   "id": "811d16bf-6f03-4c3c-bcfd-bbb8d21b7de6",
   "metadata": {},
   "outputs": [
    {
     "name": "stdout",
     "output_type": "stream",
     "text": [
      "The Hitchhiker's Guide to the Galaxy\n",
      "Escape from Planet Earth\n",
      "Home\n",
      "Planet 51\n",
      "Aliens in the Attic\n"
     ]
    }
   ],
   "source": [
    "recommend('Meet Dave')"
   ]
  },
  {
   "cell_type": "code",
   "execution_count": null,
   "id": "873260d2-db2d-4dd9-b150-1e8e0c10b9d4",
   "metadata": {},
   "outputs": [],
   "source": []
  }
 ],
 "metadata": {
  "kernelspec": {
   "display_name": "Python 3 (ipykernel)",
   "language": "python",
   "name": "python3"
  },
  "language_info": {
   "codemirror_mode": {
    "name": "ipython",
    "version": 3
   },
   "file_extension": ".py",
   "mimetype": "text/x-python",
   "name": "python",
   "nbconvert_exporter": "python",
   "pygments_lexer": "ipython3",
   "version": "3.12.3"
  }
 },
 "nbformat": 4,
 "nbformat_minor": 5
}
